{
 "cells": [
  {
   "cell_type": "markdown",
   "metadata": {},
   "source": [
    "COVID-19: evaluating government measures"
   ]
  },
  {
   "cell_type": "markdown",
   "metadata": {},
   "source": [
    "                    Efficiency of interventions on curbing the impact of COVID-19\n",
    "This study investigates the effectiveness of the government measures aimed to decelerate the spread of COVID-19. The various government measures are weighted with the different time intervals of responds, calculated from the first case detected in the country. In case of lack of a measure, I used a large penalty number. COVID spread is represented by total deaths per million population (10th of July). A Random Forest model is definded to determine the main factors affecting the number of deaths in each country worldwide."
   ]
  },
  {
   "cell_type": "markdown",
   "metadata": {},
   "source": [
    "Importing libraries and reading data:"
   ]
  },
  {
   "cell_type": "code",
   "execution_count": 72,
   "metadata": {},
   "outputs": [],
   "source": [
    "import pandas as pd\n",
    "import matplotlib.pyplot as plt\n",
    "import seaborn as sns\n",
    "%matplotlib inline\n",
    "import numpy as np"
   ]
  },
  {
   "cell_type": "code",
   "execution_count": 73,
   "metadata": {},
   "outputs": [],
   "source": [
    "df=pd.read_csv('data1.csv', index_col='COUNTRY')"
   ]
  },
  {
   "cell_type": "code",
   "execution_count": 74,
   "metadata": {},
   "outputs": [
    {
     "data": {
      "text/html": [
       "<div>\n",
       "<style scoped>\n",
       "    .dataframe tbody tr th:only-of-type {\n",
       "        vertical-align: middle;\n",
       "    }\n",
       "\n",
       "    .dataframe tbody tr th {\n",
       "        vertical-align: top;\n",
       "    }\n",
       "\n",
       "    .dataframe thead th {\n",
       "        text-align: right;\n",
       "    }\n",
       "</style>\n",
       "<table border=\"1\" class=\"dataframe\">\n",
       "  <thead>\n",
       "    <tr style=\"text-align: right;\">\n",
       "      <th></th>\n",
       "      <th>Additional health/documents requirements upon arrival</th>\n",
       "      <th>Amendments to funeral and burial regulations</th>\n",
       "      <th>Awareness campaigns</th>\n",
       "      <th>Border checks</th>\n",
       "      <th>Border closure</th>\n",
       "      <th>Changes in prison-related policies</th>\n",
       "      <th>Checkpoints within the country</th>\n",
       "      <th>Closure of businesses and public services</th>\n",
       "      <th>Complete border closure</th>\n",
       "      <th>Curfews</th>\n",
       "      <th>...</th>\n",
       "      <th>Partial lockdown</th>\n",
       "      <th>Psychological assistance and medical social work</th>\n",
       "      <th>Requirement to wear protective gear in public</th>\n",
       "      <th>Schools closure</th>\n",
       "      <th>State of emergency declared</th>\n",
       "      <th>Strengthening the public health system</th>\n",
       "      <th>Surveillance and monitoring</th>\n",
       "      <th>Testing policy</th>\n",
       "      <th>Visa restrictions</th>\n",
       "      <th>Deaths per Population*1000000</th>\n",
       "    </tr>\n",
       "    <tr>\n",
       "      <th>COUNTRY</th>\n",
       "      <th></th>\n",
       "      <th></th>\n",
       "      <th></th>\n",
       "      <th></th>\n",
       "      <th></th>\n",
       "      <th></th>\n",
       "      <th></th>\n",
       "      <th></th>\n",
       "      <th></th>\n",
       "      <th></th>\n",
       "      <th></th>\n",
       "      <th></th>\n",
       "      <th></th>\n",
       "      <th></th>\n",
       "      <th></th>\n",
       "      <th></th>\n",
       "      <th></th>\n",
       "      <th></th>\n",
       "      <th></th>\n",
       "      <th></th>\n",
       "      <th></th>\n",
       "    </tr>\n",
       "  </thead>\n",
       "  <tbody>\n",
       "    <tr>\n",
       "      <th>Afghanistan</th>\n",
       "      <td>NaN</td>\n",
       "      <td>NaN</td>\n",
       "      <td>-31.0</td>\n",
       "      <td>-23.0</td>\n",
       "      <td>0.0</td>\n",
       "      <td>36.0</td>\n",
       "      <td>NaN</td>\n",
       "      <td>NaN</td>\n",
       "      <td>NaN</td>\n",
       "      <td>NaN</td>\n",
       "      <td>...</td>\n",
       "      <td>33.0</td>\n",
       "      <td>NaN</td>\n",
       "      <td>NaN</td>\n",
       "      <td>6.0</td>\n",
       "      <td>0.0</td>\n",
       "      <td>-22.0</td>\n",
       "      <td>-11.0</td>\n",
       "      <td>NaN</td>\n",
       "      <td>NaN</td>\n",
       "      <td>24,7012930959163</td>\n",
       "    </tr>\n",
       "    <tr>\n",
       "      <th>Albania</th>\n",
       "      <td>NaN</td>\n",
       "      <td>NaN</td>\n",
       "      <td>2.0</td>\n",
       "      <td>NaN</td>\n",
       "      <td>5.0</td>\n",
       "      <td>14.0</td>\n",
       "      <td>1.0</td>\n",
       "      <td>1.0</td>\n",
       "      <td>NaN</td>\n",
       "      <td>14.0</td>\n",
       "      <td>...</td>\n",
       "      <td>24.0</td>\n",
       "      <td>NaN</td>\n",
       "      <td>NaN</td>\n",
       "      <td>1.0</td>\n",
       "      <td>52.0</td>\n",
       "      <td>-45.0</td>\n",
       "      <td>35.0</td>\n",
       "      <td>NaN</td>\n",
       "      <td>NaN</td>\n",
       "      <td>28,8352637905518</td>\n",
       "    </tr>\n",
       "    <tr>\n",
       "      <th>Algeria</th>\n",
       "      <td>NaN</td>\n",
       "      <td>NaN</td>\n",
       "      <td>9.0</td>\n",
       "      <td>16.0</td>\n",
       "      <td>21.0</td>\n",
       "      <td>NaN</td>\n",
       "      <td>27.0</td>\n",
       "      <td>20.0</td>\n",
       "      <td>NaN</td>\n",
       "      <td>27.0</td>\n",
       "      <td>...</td>\n",
       "      <td>27.0</td>\n",
       "      <td>NaN</td>\n",
       "      <td>72.0</td>\n",
       "      <td>16.0</td>\n",
       "      <td>NaN</td>\n",
       "      <td>NaN</td>\n",
       "      <td>NaN</td>\n",
       "      <td>NaN</td>\n",
       "      <td>NaN</td>\n",
       "      <td>22,6161387942366</td>\n",
       "    </tr>\n",
       "    <tr>\n",
       "      <th>Angola</th>\n",
       "      <td>20.0</td>\n",
       "      <td>NaN</td>\n",
       "      <td>-9.0</td>\n",
       "      <td>7.0</td>\n",
       "      <td>7.0</td>\n",
       "      <td>13.0</td>\n",
       "      <td>NaN</td>\n",
       "      <td>7.0</td>\n",
       "      <td>NaN</td>\n",
       "      <td>NaN</td>\n",
       "      <td>...</td>\n",
       "      <td>37.0</td>\n",
       "      <td>NaN</td>\n",
       "      <td>27.0</td>\n",
       "      <td>3.0</td>\n",
       "      <td>7.0</td>\n",
       "      <td>6.0</td>\n",
       "      <td>43.0</td>\n",
       "      <td>50.0</td>\n",
       "      <td>-19.0</td>\n",
       "      <td>0,673920852835811</td>\n",
       "    </tr>\n",
       "    <tr>\n",
       "      <th>Argentina</th>\n",
       "      <td>NaN</td>\n",
       "      <td>NaN</td>\n",
       "      <td>-15.0</td>\n",
       "      <td>NaN</td>\n",
       "      <td>23.0</td>\n",
       "      <td>NaN</td>\n",
       "      <td>NaN</td>\n",
       "      <td>13.0</td>\n",
       "      <td>NaN</td>\n",
       "      <td>NaN</td>\n",
       "      <td>...</td>\n",
       "      <td>16.0</td>\n",
       "      <td>NaN</td>\n",
       "      <td>28.0</td>\n",
       "      <td>13.0</td>\n",
       "      <td>16.0</td>\n",
       "      <td>15.0</td>\n",
       "      <td>22.0</td>\n",
       "      <td>52.0</td>\n",
       "      <td>8.0</td>\n",
       "      <td>37,8398025910578</td>\n",
       "    </tr>\n",
       "  </tbody>\n",
       "</table>\n",
       "<p>5 rows × 36 columns</p>\n",
       "</div>"
      ],
      "text/plain": [
       "             Additional health/documents requirements upon arrival  \\\n",
       "COUNTRY                                                              \n",
       "Afghanistan                                                NaN       \n",
       "Albania                                                    NaN       \n",
       "Algeria                                                    NaN       \n",
       "Angola                                                    20.0       \n",
       "Argentina                                                  NaN       \n",
       "\n",
       "             Amendments to funeral and burial regulations  \\\n",
       "COUNTRY                                                     \n",
       "Afghanistan                                           NaN   \n",
       "Albania                                               NaN   \n",
       "Algeria                                               NaN   \n",
       "Angola                                                NaN   \n",
       "Argentina                                             NaN   \n",
       "\n",
       "             Awareness campaigns  Border checks   Border closure   \\\n",
       "COUNTRY                                                             \n",
       "Afghanistan                -31.0           -23.0              0.0   \n",
       "Albania                      2.0             NaN              5.0   \n",
       "Algeria                      9.0            16.0             21.0   \n",
       "Angola                      -9.0             7.0              7.0   \n",
       "Argentina                  -15.0             NaN             23.0   \n",
       "\n",
       "             Changes in prison-related policies  \\\n",
       "COUNTRY                                           \n",
       "Afghanistan                                36.0   \n",
       "Albania                                    14.0   \n",
       "Algeria                                     NaN   \n",
       "Angola                                     13.0   \n",
       "Argentina                                   NaN   \n",
       "\n",
       "             Checkpoints within the country  \\\n",
       "COUNTRY                                       \n",
       "Afghanistan                             NaN   \n",
       "Albania                                 1.0   \n",
       "Algeria                                27.0   \n",
       "Angola                                  NaN   \n",
       "Argentina                               NaN   \n",
       "\n",
       "             Closure of businesses and public services  \\\n",
       "COUNTRY                                                  \n",
       "Afghanistan                                        NaN   \n",
       "Albania                                            1.0   \n",
       "Algeria                                           20.0   \n",
       "Angola                                             7.0   \n",
       "Argentina                                         13.0   \n",
       "\n",
       "             Complete border closure  Curfews  ...  Partial lockdown  \\\n",
       "COUNTRY                                        ...                     \n",
       "Afghanistan                      NaN      NaN  ...              33.0   \n",
       "Albania                          NaN     14.0  ...              24.0   \n",
       "Algeria                          NaN     27.0  ...              27.0   \n",
       "Angola                           NaN      NaN  ...              37.0   \n",
       "Argentina                        NaN      NaN  ...              16.0   \n",
       "\n",
       "             Psychological assistance and medical social work  \\\n",
       "COUNTRY                                                         \n",
       "Afghanistan                                               NaN   \n",
       "Albania                                                   NaN   \n",
       "Algeria                                                   NaN   \n",
       "Angola                                                    NaN   \n",
       "Argentina                                                 NaN   \n",
       "\n",
       "             Requirement to wear protective gear in public  Schools closure   \\\n",
       "COUNTRY                                                                        \n",
       "Afghanistan                                            NaN               6.0   \n",
       "Albania                                                NaN               1.0   \n",
       "Algeria                                               72.0              16.0   \n",
       "Angola                                                27.0               3.0   \n",
       "Argentina                                             28.0              13.0   \n",
       "\n",
       "             State of emergency declared  \\\n",
       "COUNTRY                                    \n",
       "Afghanistan                          0.0   \n",
       "Albania                             52.0   \n",
       "Algeria                              NaN   \n",
       "Angola                               7.0   \n",
       "Argentina                           16.0   \n",
       "\n",
       "             Strengthening the public health system  \\\n",
       "COUNTRY                                               \n",
       "Afghanistan                                   -22.0   \n",
       "Albania                                       -45.0   \n",
       "Algeria                                         NaN   \n",
       "Angola                                          6.0   \n",
       "Argentina                                      15.0   \n",
       "\n",
       "             Surveillance and monitoring  Testing policy  Visa restrictions  \\\n",
       "COUNTRY                                                                       \n",
       "Afghanistan                        -11.0             NaN                NaN   \n",
       "Albania                             35.0             NaN                NaN   \n",
       "Algeria                              NaN             NaN                NaN   \n",
       "Angola                              43.0            50.0              -19.0   \n",
       "Argentina                           22.0            52.0                8.0   \n",
       "\n",
       "             Deaths per Population*1000000  \n",
       "COUNTRY                                     \n",
       "Afghanistan               24,7012930959163  \n",
       "Albania                   28,8352637905518  \n",
       "Algeria                   22,6161387942366  \n",
       "Angola                   0,673920852835811  \n",
       "Argentina                 37,8398025910578  \n",
       "\n",
       "[5 rows x 36 columns]"
      ]
     },
     "execution_count": 74,
     "metadata": {},
     "output_type": "execute_result"
    }
   ],
   "source": [
    "df.head()"
   ]
  },
  {
   "cell_type": "code",
   "execution_count": 75,
   "metadata": {},
   "outputs": [
    {
     "name": "stdout",
     "output_type": "stream",
     "text": [
      "<class 'pandas.core.frame.DataFrame'>\n",
      "Index: 173 entries, Afghanistan to Zimbabwe\n",
      "Data columns (total 36 columns):\n",
      " #   Column                                                        Non-Null Count  Dtype  \n",
      "---  ------                                                        --------------  -----  \n",
      " 0   Additional health/documents requirements upon arrival         51 non-null     float64\n",
      " 1   Amendments to funeral and burial regulations                  29 non-null     float64\n",
      " 2   Awareness campaigns                                           117 non-null    float64\n",
      " 3   Border checks                                                 47 non-null     float64\n",
      " 4   Border closure                                                145 non-null    float64\n",
      " 5   Changes in prison-related policies                            61 non-null     float64\n",
      " 6   Checkpoints within the country                                31 non-null     float64\n",
      " 7   Closure of businesses and public services                     136 non-null    float64\n",
      " 8   Complete border closure                                       3 non-null      float64\n",
      " 9   Curfews                                                       88 non-null     float64\n",
      " 10  Domestic travel restrictions                                  132 non-null    float64\n",
      " 11  Economic measures                                             152 non-null    float64\n",
      " 12  Emergency administrative structures activated or established  130 non-null    float64\n",
      " 13  Full lockdown                                                 35 non-null     float64\n",
      " 14  General recommendations                                       113 non-null    float64\n",
      " 15  Health screenings in airports and border crossings            129 non-null    float64\n",
      " 16  Humanitarian exemptions                                       7 non-null      float64\n",
      " 17  International flights suspension                              142 non-null    float64\n",
      " 18  Isolation and quarantine policies                             161 non-null    float64\n",
      " 19  Limit product imports/exports                                 30 non-null     float64\n",
      " 20  Limit public gatherings                                       163 non-null    float64\n",
      " 21  Lockdown of refugee/idp camps or other minorities             11 non-null     float64\n",
      " 22  Mass population testing                                       33 non-null     float64\n",
      " 23  Military deployment                                           53 non-null     float64\n",
      " 24  Obligatory medical tests not related to COVID-19              1 non-null      float64\n",
      " 25  Other public health measures enforced                         115 non-null    float64\n",
      " 26  Partial lockdown                                              126 non-null    float64\n",
      " 27  Psychological assistance and medical social work              53 non-null     float64\n",
      " 28  Requirement to wear protective gear in public                 119 non-null    float64\n",
      " 29  Schools closure                                               154 non-null    float64\n",
      " 30  State of emergency declared                                   96 non-null     float64\n",
      " 31  Strengthening the public health system                        149 non-null    float64\n",
      " 32  Surveillance and monitoring                                   111 non-null    float64\n",
      " 33  Testing policy                                                101 non-null    float64\n",
      " 34  Visa restrictions                                             107 non-null    float64\n",
      " 35  Deaths per Population*1000000                                 173 non-null    object \n",
      "dtypes: float64(35), object(1)\n",
      "memory usage: 50.0+ KB\n"
     ]
    }
   ],
   "source": [
    "df.info()"
   ]
  },
  {
   "cell_type": "markdown",
   "metadata": {},
   "source": [
    "Cleaning data:"
   ]
  },
  {
   "cell_type": "code",
   "execution_count": 76,
   "metadata": {},
   "outputs": [],
   "source": [
    "df['Deaths per Population*1000000']=df['Deaths per Population*1000000'].apply(lambda x: x.replace(\",\",\".\"))"
   ]
  },
  {
   "cell_type": "code",
   "execution_count": 77,
   "metadata": {},
   "outputs": [],
   "source": [
    "df['Deaths per Population*1000000']=df['Deaths per Population*1000000'].astype(float)"
   ]
  },
  {
   "cell_type": "code",
   "execution_count": 78,
   "metadata": {},
   "outputs": [],
   "source": [
    "df.fillna(value=100000, inplace=True)"
   ]
  },
  {
   "cell_type": "markdown",
   "metadata": {},
   "source": [
    "Exploring data:"
   ]
  },
  {
   "cell_type": "code",
   "execution_count": 79,
   "metadata": {},
   "outputs": [
    {
     "name": "stdout",
     "output_type": "stream",
     "text": [
      "<class 'pandas.core.frame.DataFrame'>\n",
      "Index: 173 entries, Afghanistan to Zimbabwe\n",
      "Data columns (total 36 columns):\n",
      " #   Column                                                        Non-Null Count  Dtype  \n",
      "---  ------                                                        --------------  -----  \n",
      " 0   Additional health/documents requirements upon arrival         173 non-null    float64\n",
      " 1   Amendments to funeral and burial regulations                  173 non-null    float64\n",
      " 2   Awareness campaigns                                           173 non-null    float64\n",
      " 3   Border checks                                                 173 non-null    float64\n",
      " 4   Border closure                                                173 non-null    float64\n",
      " 5   Changes in prison-related policies                            173 non-null    float64\n",
      " 6   Checkpoints within the country                                173 non-null    float64\n",
      " 7   Closure of businesses and public services                     173 non-null    float64\n",
      " 8   Complete border closure                                       173 non-null    float64\n",
      " 9   Curfews                                                       173 non-null    float64\n",
      " 10  Domestic travel restrictions                                  173 non-null    float64\n",
      " 11  Economic measures                                             173 non-null    float64\n",
      " 12  Emergency administrative structures activated or established  173 non-null    float64\n",
      " 13  Full lockdown                                                 173 non-null    float64\n",
      " 14  General recommendations                                       173 non-null    float64\n",
      " 15  Health screenings in airports and border crossings            173 non-null    float64\n",
      " 16  Humanitarian exemptions                                       173 non-null    float64\n",
      " 17  International flights suspension                              173 non-null    float64\n",
      " 18  Isolation and quarantine policies                             173 non-null    float64\n",
      " 19  Limit product imports/exports                                 173 non-null    float64\n",
      " 20  Limit public gatherings                                       173 non-null    float64\n",
      " 21  Lockdown of refugee/idp camps or other minorities             173 non-null    float64\n",
      " 22  Mass population testing                                       173 non-null    float64\n",
      " 23  Military deployment                                           173 non-null    float64\n",
      " 24  Obligatory medical tests not related to COVID-19              173 non-null    float64\n",
      " 25  Other public health measures enforced                         173 non-null    float64\n",
      " 26  Partial lockdown                                              173 non-null    float64\n",
      " 27  Psychological assistance and medical social work              173 non-null    float64\n",
      " 28  Requirement to wear protective gear in public                 173 non-null    float64\n",
      " 29  Schools closure                                               173 non-null    float64\n",
      " 30  State of emergency declared                                   173 non-null    float64\n",
      " 31  Strengthening the public health system                        173 non-null    float64\n",
      " 32  Surveillance and monitoring                                   173 non-null    float64\n",
      " 33  Testing policy                                                173 non-null    float64\n",
      " 34  Visa restrictions                                             173 non-null    float64\n",
      " 35  Deaths per Population*1000000                                 173 non-null    float64\n",
      "dtypes: float64(36)\n",
      "memory usage: 50.0+ KB\n"
     ]
    }
   ],
   "source": [
    "df.info()"
   ]
  },
  {
   "cell_type": "code",
   "execution_count": 80,
   "metadata": {},
   "outputs": [
    {
     "data": {
      "text/plain": [
       "count    173.000000\n",
       "mean      67.513771\n",
       "std      138.910543\n",
       "min        0.000000\n",
       "25%        3.226934\n",
       "50%       13.770424\n",
       "75%       56.851234\n",
       "max      844.684091\n",
       "Name: Deaths per Population*1000000, dtype: float64"
      ]
     },
     "execution_count": 80,
     "metadata": {},
     "output_type": "execute_result"
    }
   ],
   "source": [
    "df['Deaths per Population*1000000'].describe()"
   ]
  },
  {
   "cell_type": "code",
   "execution_count": 81,
   "metadata": {},
   "outputs": [
    {
     "data": {
      "text/plain": [
       "Text(0, 0.5, 'percent')"
      ]
     },
     "execution_count": 81,
     "metadata": {},
     "output_type": "execute_result"
    },
    {
     "data": {
      "image/png": "[encoded data removed]",
      "text/plain": [
       "<Figure size 720x432 with 1 Axes>"
      ]
     },
     "metadata": {
      "needs_background": "light"
     },
     "output_type": "display_data"
    }
   ],
   "source": [
    "import matplotlib.ticker as mtick\n",
    "plt.figure(figsize=(10,6))\n",
    "ax = sns.distplot(df['Deaths per Population*1000000'])\n",
    "ax.yaxis.set_major_formatter(mtick.PercentFormatter(0.1, decimals=0))\n",
    "\n",
    "plt.title(\"Distribution of Number of Deaths per Million Population\")\n",
    "plt.ylabel(\"percent\")"
   ]
  },
  {
   "cell_type": "markdown",
   "metadata": {},
   "source": [
    "Findigs from data exploration:\n",
    " - dataset is small  -> feature selection\n",
    "                     -> outlier elimination \n",
    "                     -> cross validation\n",
    "                     -> simple or ensemble models\n",
    "                     -> regularization\n",
    " - target data is not normally distributed -> Random Forest model\n",
    "                                           -> Histgradientboosting Regressor model\n"
   ]
  },
  {
   "cell_type": "code",
   "execution_count": 82,
   "metadata": {},
   "outputs": [],
   "source": [
    "from sklearn.model_selection import train_test_split"
   ]
  },
  {
   "cell_type": "code",
   "execution_count": 89,
   "metadata": {},
   "outputs": [],
   "source": [
    "X=df.drop('Deaths per Population*1000000', axis=1)\n",
    "y=df['Deaths per Population*1000000']\n",
    "X_train, X_test, y_train, y_test=train_test_split(X,y,test_size=0.3, random_state=15)"
   ]
  },
  {
   "cell_type": "markdown",
   "metadata": {},
   "source": [
    "Selecting the most important features:"
   ]
  },
  {
   "cell_type": "code",
   "execution_count": 90,
   "metadata": {},
   "outputs": [
    {
     "name": "stdout",
     "output_type": "stream",
     "text": [
      "Selected features:\n"
     ]
    },
    {
     "data": {
      "text/plain": [
       "array([False,  True,  True,  True,  True,  True, False, False, False,\n",
       "       False,  True, False,  True, False, False,  True,  True, False,\n",
       "        True, False,  True, False,  True,  True, False,  True, False,\n",
       "       False,  True,  True, False, False, False, False,  True])"
      ]
     },
     "execution_count": 90,
     "metadata": {},
     "output_type": "execute_result"
    }
   ],
   "source": [
    "from sklearn.feature_selection import RFE\n",
    "from sklearn.ensemble import RandomForestRegressor\n",
    "\n",
    "rfe = RFE(RandomForestRegressor(n_jobs=-1, n_estimators=100, random_state=100))\n",
    "\n",
    "rfe.fit(X_train, y_train)\n",
    "\n",
    "print('Selected features:')\n",
    "rfe.support_"
   ]
  },
  {
   "cell_type": "code",
   "execution_count": 91,
   "metadata": {},
   "outputs": [
    {
     "data": {
      "text/plain": [
       "Index(['Additional health/documents requirements upon arrival',\n",
       "       'Amendments to funeral and burial regulations', 'Awareness campaigns',\n",
       "       'Border checks ', 'Border closure ',\n",
       "       'Changes in prison-related policies', 'Checkpoints within the country',\n",
       "       'Closure of businesses and public services', 'Complete border closure',\n",
       "       'Curfews', 'Domestic travel restrictions', 'Economic measures',\n",
       "       'Emergency administrative structures activated or established',\n",
       "       'Full lockdown', 'General recommendations',\n",
       "       'Health screenings in airports and border crossings',\n",
       "       'Humanitarian exemptions', 'International flights suspension',\n",
       "       'Isolation and quarantine policies', 'Limit product imports/exports',\n",
       "       'Limit public gatherings',\n",
       "       'Lockdown of refugee/idp camps or other minorities',\n",
       "       'Mass population testing', 'Military deployment',\n",
       "       'Obligatory medical tests not related to COVID-19',\n",
       "       'Other public health measures enforced', 'Partial lockdown',\n",
       "       'Psychological assistance and medical social work',\n",
       "       'Requirement to wear protective gear in public', 'Schools closure ',\n",
       "       'State of emergency declared', 'Strengthening the public health system',\n",
       "       'Surveillance and monitoring', 'Testing policy', 'Visa restrictions'],\n",
       "      dtype='object')"
      ]
     },
     "execution_count": 91,
     "metadata": {},
     "output_type": "execute_result"
    }
   ],
   "source": [
    "X_train.columns"
   ]
  },
  {
   "cell_type": "code",
   "execution_count": 92,
   "metadata": {},
   "outputs": [
    {
     "name": "stdout",
     "output_type": "stream",
     "text": [
      "Additional health/documents requirements upon arrival\n",
      "Checkpoints within the country\n",
      "Closure of businesses and public services\n",
      "Complete border closure\n",
      "Curfews\n",
      "Economic measures\n",
      "Full lockdown\n",
      "General recommendations\n",
      "International flights suspension\n",
      "Limit product imports/exports\n",
      "Lockdown of refugee/idp camps or other minorities\n",
      "Obligatory medical tests not related to COVID-19\n",
      "Partial lockdown\n",
      "Psychological assistance and medical social work\n",
      "State of emergency declared\n",
      "Strengthening the public health system\n",
      "Surveillance and monitoring\n",
      "Testing policy\n"
     ]
    }
   ],
   "source": [
    "res=rfe.support_\n",
    "cols=X_train.columns\n",
    "for i in range(0, len(res)):\n",
    "    if res[i]==False:\n",
    "        print (cols[i])"
   ]
  },
  {
   "cell_type": "code",
   "execution_count": 93,
   "metadata": {},
   "outputs": [],
   "source": [
    "for i in range(0, len(res)):\n",
    "    if res[i]==False:\n",
    "        X.drop(cols[i], inplace=True, axis=1)\n"
   ]
  },
  {
   "cell_type": "code",
   "execution_count": 94,
   "metadata": {},
   "outputs": [
    {
     "name": "stdout",
     "output_type": "stream",
     "text": [
      "<class 'pandas.core.frame.DataFrame'>\n",
      "Index: 173 entries, Afghanistan to Zimbabwe\n",
      "Data columns (total 17 columns):\n",
      " #   Column                                                        Non-Null Count  Dtype  \n",
      "---  ------                                                        --------------  -----  \n",
      " 0   Amendments to funeral and burial regulations                  173 non-null    float64\n",
      " 1   Awareness campaigns                                           173 non-null    float64\n",
      " 2   Border checks                                                 173 non-null    float64\n",
      " 3   Border closure                                                173 non-null    float64\n",
      " 4   Changes in prison-related policies                            173 non-null    float64\n",
      " 5   Domestic travel restrictions                                  173 non-null    float64\n",
      " 6   Emergency administrative structures activated or established  173 non-null    float64\n",
      " 7   Health screenings in airports and border crossings            173 non-null    float64\n",
      " 8   Humanitarian exemptions                                       173 non-null    float64\n",
      " 9   Isolation and quarantine policies                             173 non-null    float64\n",
      " 10  Limit public gatherings                                       173 non-null    float64\n",
      " 11  Mass population testing                                       173 non-null    float64\n",
      " 12  Military deployment                                           173 non-null    float64\n",
      " 13  Other public health measures enforced                         173 non-null    float64\n",
      " 14  Requirement to wear protective gear in public                 173 non-null    float64\n",
      " 15  Schools closure                                               173 non-null    float64\n",
      " 16  Visa restrictions                                             173 non-null    float64\n",
      "dtypes: float64(17)\n",
      "memory usage: 29.3+ KB\n"
     ]
    }
   ],
   "source": [
    "X.info()"
   ]
  },
  {
   "cell_type": "markdown",
   "metadata": {},
   "source": [
    "Random Forest model with Grid Search:"
   ]
  },
  {
   "cell_type": "code",
   "execution_count": 96,
   "metadata": {},
   "outputs": [],
   "source": [
    "from sklearn.ensemble import RandomForestRegressor\n",
    "from sklearn.model_selection import GridSearchCV"
   ]
  },
  {
   "cell_type": "code",
   "execution_count": 97,
   "metadata": {},
   "outputs": [],
   "source": [
    "n_estimators = [int(x) for x in np.linspace(start = 10, stop = 1000, num = 10)]\n",
    "max_features = ['auto', 'sqrt', 0.25, 0.5, 0.75, 1.0]\n",
    "max_depth = [int(x) for x in np.linspace(1, 8, num = 1)]\n",
    "max_depth.append(None)\n",
    "min_samples_split = [2, 5, 10]\n",
    "min_samples_leaf = [1, 2, 4]\n",
    "bootstrap = [True, False]\n",
    "\n",
    "params = {'n_estimators': n_estimators,\n",
    "               'max_features': max_features,\n",
    "               'max_depth': max_depth,\n",
    "               'min_samples_split': min_samples_split,\n",
    "               'min_samples_leaf': min_samples_leaf,\n",
    "               'bootstrap': bootstrap}\n"
   ]
  },
  {
   "cell_type": "code",
   "execution_count": 99,
   "metadata": {},
   "outputs": [],
   "source": [
    "model=RandomForestRegressor()\n",
    "grid=GridSearchCV(model, params, scoring='neg_mean_absolute_error',cv=5, n_jobs=-1, verbose=True)"
   ]
  },
  {
   "cell_type": "code",
   "execution_count": 100,
   "metadata": {},
   "outputs": [
    {
     "name": "stdout",
     "output_type": "stream",
     "text": [
      "Fitting 2 folds for each of 2160 candidates, totalling 4320 fits\n"
     ]
    },
    {
     "name": "stderr",
     "output_type": "stream",
     "text": [
      "[Parallel(n_jobs=-1)]: Using backend LokyBackend with 4 concurrent workers.\n",
      "[Parallel(n_jobs=-1)]: Done  42 tasks      | elapsed:   17.2s\n",
      "[Parallel(n_jobs=-1)]: Done 192 tasks      | elapsed:  1.2min\n",
      "[Parallel(n_jobs=-1)]: Done 442 tasks      | elapsed:  2.7min\n",
      "[Parallel(n_jobs=-1)]: Done 792 tasks      | elapsed:  4.6min\n",
      "[Parallel(n_jobs=-1)]: Done 1242 tasks      | elapsed:  7.3min\n",
      "[Parallel(n_jobs=-1)]: Done 1792 tasks      | elapsed: 10.4min\n",
      "[Parallel(n_jobs=-1)]: Done 2442 tasks      | elapsed: 13.9min\n",
      "[Parallel(n_jobs=-1)]: Done 3192 tasks      | elapsed: 16.9min\n",
      "[Parallel(n_jobs=-1)]: Done 4042 tasks      | elapsed: 21.0min\n",
      "[Parallel(n_jobs=-1)]: Done 4320 out of 4320 | elapsed: 22.5min finished\n"
     ]
    },
    {
     "data": {
      "text/plain": [
       "GridSearchCV(cv=2, estimator=RandomForestRegressor(), n_jobs=-1,\n",
       "             param_grid={'bootstrap': [True, False], 'max_depth': [1, None],\n",
       "                         'max_features': ['auto', 'sqrt', 0.25, 0.5, 0.75, 1.0],\n",
       "                         'min_samples_leaf': [1, 2, 4],\n",
       "                         'min_samples_split': [2, 5, 10],\n",
       "                         'n_estimators': [10, 120, 230, 340, 450, 560, 670, 780,\n",
       "                                          890, 1000]},\n",
       "             scoring='neg_mean_absolute_error', verbose=True)"
      ]
     },
     "execution_count": 100,
     "metadata": {},
     "output_type": "execute_result"
    }
   ],
   "source": [
    "grid.fit(X_train, y_train)"
   ]
  },
  {
   "cell_type": "code",
   "execution_count": 102,
   "metadata": {},
   "outputs": [
    {
     "data": {
      "text/plain": [
       "{'bootstrap': True,\n",
       " 'max_depth': None,\n",
       " 'max_features': 'sqrt',\n",
       " 'min_samples_leaf': 4,\n",
       " 'min_samples_split': 10,\n",
       " 'n_estimators': 10}"
      ]
     },
     "execution_count": 102,
     "metadata": {},
     "output_type": "execute_result"
    }
   ],
   "source": [
    "grid.best_params_"
   ]
  },
  {
   "cell_type": "code",
   "execution_count": 108,
   "metadata": {},
   "outputs": [
    {
     "name": "stdout",
     "output_type": "stream",
     "text": [
      "Mean absolute error score using Random Forest Regressor: 66\n"
     ]
    }
   ],
   "source": [
    "print('Mean absolute error score using Random Forest Regressor:', round(grid.best_score_*-1))"
   ]
  },
  {
   "cell_type": "markdown",
   "metadata": {},
   "source": [
    "Calculating feature importances:"
   ]
  },
  {
   "cell_type": "code",
   "execution_count": 154,
   "metadata": {},
   "outputs": [],
   "source": [
    "from sklearn.inspection import permutation_importance\n",
    "\n",
    "rfr=RandomForestRegressor(\n",
    " bootstrap= True,\n",
    " max_depth= None,\n",
    " max_features= 'sqrt',\n",
    " min_samples_leaf= 4,\n",
    " min_samples_split= 10,\n",
    " n_estimators= 10)\n",
    "\n"
   ]
  },
  {
   "cell_type": "code",
   "execution_count": 172,
   "metadata": {},
   "outputs": [],
   "source": [
    "\n",
    "from sklearn.model_selection import cross_val_score"
   ]
  },
  {
   "cell_type": "code",
   "execution_count": 179,
   "metadata": {},
   "outputs": [
    {
     "name": "stdout",
     "output_type": "stream",
     "text": [
      "70.68922330297379\n"
     ]
    }
   ],
   "source": [
    "scores=-1*cross_val_score(rfr, X_train, y_train, cv=5, scoring='neg_mean_absolute_error')\n",
    "print(scores.mean())"
   ]
  },
  {
   "cell_type": "code",
   "execution_count": 177,
   "metadata": {},
   "outputs": [],
   "source": [
    "predictions=rfr.fit(X_train, y_train).predict(X_test)\n"
   ]
  },
  {
   "cell_type": "code",
   "execution_count": 171,
   "metadata": {},
   "outputs": [
    {
     "data": {
      "text/plain": [
       "<matplotlib.collections.PathCollection at 0x7f5c277c1bd0>"
      ]
     },
     "execution_count": 171,
     "metadata": {},
     "output_type": "execute_result"
    },
    {
     "data": {
      "image/png": "[encoded data removed]",
      "text/plain": [
       "<Figure size 432x288 with 1 Axes>"
      ]
     },
     "metadata": {
      "needs_background": "light"
     },
     "output_type": "display_data"
    }
   ],
   "source": [
    "plt.scatter(y_test, predictions)"
   ]
  },
  {
   "cell_type": "code",
   "execution_count": 131,
   "metadata": {},
   "outputs": [
    {
     "data": {
      "text/plain": [
       "Text(0.5, 0, 'Relative Importance')"
      ]
     },
     "execution_count": 131,
     "metadata": {},
     "output_type": "execute_result"
    },
    {
     "data": {
      "image/png": "[encoded data removed]",
      "text/plain": [
       "<Figure size 1008x1008 with 1 Axes>"
      ]
     },
     "metadata": {
      "needs_background": "light"
     },
     "output_type": "display_data"
    }
   ],
   "source": [
    "rfr.fit(X,y)\n",
    "result=permutation_importance(rfr, X, y, n_repeats=10,random_state=101)\n",
    "importances = rfr.feature_importances_\n",
    "features=X.columns\n",
    "indices = np.argsort(importances)\n",
    "plt.figure(figsize=(14,14))\n",
    "plt.title('Feature Importances')\n",
    "plt.barh(range(len(indices)), importances[indices], color='b', align='center')\n",
    "plt.yticks(range(len(indices)), [features[i] for i in indices])\n",
    "plt.xlabel('Relative Importance')\n"
   ]
  },
  {
   "cell_type": "code",
   "execution_count": 124,
   "metadata": {},
   "outputs": [
    {
     "name": "stderr",
     "output_type": "stream",
     "text": [
      "/home/pitzm/anaconda3/lib/python3.7/site-packages/sklearn/utils/deprecation.py:143: FutureWarning: The sklearn.metrics.scorer module is  deprecated in version 0.22 and will be removed in version 0.24. The corresponding classes / functions should instead be imported from sklearn.metrics. Anything that cannot be imported from sklearn.metrics is now part of the private API.\n",
      "  warnings.warn(message, FutureWarning)\n",
      "/home/pitzm/anaconda3/lib/python3.7/site-packages/sklearn/utils/deprecation.py:143: FutureWarning: The sklearn.feature_selection.base module is  deprecated in version 0.22 and will be removed in version 0.24. The corresponding classes / functions should instead be imported from sklearn.feature_selection. Anything that cannot be imported from sklearn.feature_selection is now part of the private API.\n",
      "  warnings.warn(message, FutureWarning)\n"
     ]
    }
   ],
   "source": [
    "import eli5\n",
    "from eli5.sklearn import PermutationImportance"
   ]
  },
  {
   "cell_type": "code",
   "execution_count": 130,
   "metadata": {},
   "outputs": [
    {
     "data": {
      "text/html": [
       "\n",
       "    <style>\n",
       "    table.eli5-weights tr:hover {\n",
       "        filter: brightness(85%);\n",
       "    }\n",
       "</style>\n",
       "\n",
       "\n",
       "\n",
       "    \n",
       "\n",
       "    \n",
       "\n",
       "    \n",
       "\n",
       "    \n",
       "\n",
       "    \n",
       "\n",
       "    \n",
       "\n",
       "\n",
       "    \n",
       "\n",
       "    \n",
       "\n",
       "    \n",
       "\n",
       "    \n",
       "\n",
       "    \n",
       "\n",
       "    \n",
       "\n",
       "\n",
       "    \n",
       "\n",
       "    \n",
       "\n",
       "    \n",
       "\n",
       "    \n",
       "\n",
       "    \n",
       "        <table class=\"eli5-weights eli5-feature-importances\" style=\"border-collapse: collapse; border: none; margin-top: 0em; table-layout: auto;\">\n",
       "    <thead>\n",
       "    <tr style=\"border: none;\">\n",
       "        <th style=\"padding: 0 1em 0 0.5em; text-align: right; border: none;\">Weight</th>\n",
       "        <th style=\"padding: 0 0.5em 0 0.5em; text-align: left; border: none;\">Feature</th>\n",
       "    </tr>\n",
       "    </thead>\n",
       "    <tbody>\n",
       "    \n",
       "        <tr style=\"background-color: hsl(120, 100.00%, 80.00%); border: none;\">\n",
       "            <td style=\"padding: 0 1em 0 0.5em; text-align: right; border: none;\">\n",
       "                0.1566\n",
       "                \n",
       "                    &plusmn; 0.0551\n",
       "                \n",
       "            </td>\n",
       "            <td style=\"padding: 0 0.5em 0 0.5em; text-align: left; border: none;\">\n",
       "                Isolation and quarantine policies\n",
       "            </td>\n",
       "        </tr>\n",
       "    \n",
       "        <tr style=\"background-color: hsl(120, 100.00%, 81.55%); border: none;\">\n",
       "            <td style=\"padding: 0 1em 0 0.5em; text-align: right; border: none;\">\n",
       "                0.1396\n",
       "                \n",
       "                    &plusmn; 0.0555\n",
       "                \n",
       "            </td>\n",
       "            <td style=\"padding: 0 0.5em 0 0.5em; text-align: left; border: none;\">\n",
       "                Border closure \n",
       "            </td>\n",
       "        </tr>\n",
       "    \n",
       "        <tr style=\"background-color: hsl(120, 100.00%, 83.51%); border: none;\">\n",
       "            <td style=\"padding: 0 1em 0 0.5em; text-align: right; border: none;\">\n",
       "                0.1189\n",
       "                \n",
       "                    &plusmn; 0.0449\n",
       "                \n",
       "            </td>\n",
       "            <td style=\"padding: 0 0.5em 0 0.5em; text-align: left; border: none;\">\n",
       "                Health screenings in airports and border crossings\n",
       "            </td>\n",
       "        </tr>\n",
       "    \n",
       "        <tr style=\"background-color: hsl(120, 100.00%, 86.11%); border: none;\">\n",
       "            <td style=\"padding: 0 1em 0 0.5em; text-align: right; border: none;\">\n",
       "                0.0930\n",
       "                \n",
       "                    &plusmn; 0.0355\n",
       "                \n",
       "            </td>\n",
       "            <td style=\"padding: 0 0.5em 0 0.5em; text-align: left; border: none;\">\n",
       "                Awareness campaigns\n",
       "            </td>\n",
       "        </tr>\n",
       "    \n",
       "        <tr style=\"background-color: hsl(120, 100.00%, 86.31%); border: none;\">\n",
       "            <td style=\"padding: 0 1em 0 0.5em; text-align: right; border: none;\">\n",
       "                0.0911\n",
       "                \n",
       "                    &plusmn; 0.0190\n",
       "                \n",
       "            </td>\n",
       "            <td style=\"padding: 0 0.5em 0 0.5em; text-align: left; border: none;\">\n",
       "                Domestic travel restrictions\n",
       "            </td>\n",
       "        </tr>\n",
       "    \n",
       "        <tr style=\"background-color: hsl(120, 100.00%, 86.77%); border: none;\">\n",
       "            <td style=\"padding: 0 1em 0 0.5em; text-align: right; border: none;\">\n",
       "                0.0868\n",
       "                \n",
       "                    &plusmn; 0.0243\n",
       "                \n",
       "            </td>\n",
       "            <td style=\"padding: 0 0.5em 0 0.5em; text-align: left; border: none;\">\n",
       "                Schools closure \n",
       "            </td>\n",
       "        </tr>\n",
       "    \n",
       "        <tr style=\"background-color: hsl(120, 100.00%, 87.95%); border: none;\">\n",
       "            <td style=\"padding: 0 1em 0 0.5em; text-align: right; border: none;\">\n",
       "                0.0760\n",
       "                \n",
       "                    &plusmn; 0.0308\n",
       "                \n",
       "            </td>\n",
       "            <td style=\"padding: 0 0.5em 0 0.5em; text-align: left; border: none;\">\n",
       "                Limit public gatherings\n",
       "            </td>\n",
       "        </tr>\n",
       "    \n",
       "        <tr style=\"background-color: hsl(120, 100.00%, 88.70%); border: none;\">\n",
       "            <td style=\"padding: 0 1em 0 0.5em; text-align: right; border: none;\">\n",
       "                0.0693\n",
       "                \n",
       "                    &plusmn; 0.0403\n",
       "                \n",
       "            </td>\n",
       "            <td style=\"padding: 0 0.5em 0 0.5em; text-align: left; border: none;\">\n",
       "                Other public health measures enforced\n",
       "            </td>\n",
       "        </tr>\n",
       "    \n",
       "        <tr style=\"background-color: hsl(120, 100.00%, 92.21%); border: none;\">\n",
       "            <td style=\"padding: 0 1em 0 0.5em; text-align: right; border: none;\">\n",
       "                0.0407\n",
       "                \n",
       "                    &plusmn; 0.0159\n",
       "                \n",
       "            </td>\n",
       "            <td style=\"padding: 0 0.5em 0 0.5em; text-align: left; border: none;\">\n",
       "                Military deployment\n",
       "            </td>\n",
       "        </tr>\n",
       "    \n",
       "        <tr style=\"background-color: hsl(120, 100.00%, 92.54%); border: none;\">\n",
       "            <td style=\"padding: 0 1em 0 0.5em; text-align: right; border: none;\">\n",
       "                0.0383\n",
       "                \n",
       "                    &plusmn; 0.0382\n",
       "                \n",
       "            </td>\n",
       "            <td style=\"padding: 0 0.5em 0 0.5em; text-align: left; border: none;\">\n",
       "                Visa restrictions\n",
       "            </td>\n",
       "        </tr>\n",
       "    \n",
       "        <tr style=\"background-color: hsl(120, 100.00%, 93.25%); border: none;\">\n",
       "            <td style=\"padding: 0 1em 0 0.5em; text-align: right; border: none;\">\n",
       "                0.0331\n",
       "                \n",
       "                    &plusmn; 0.0203\n",
       "                \n",
       "            </td>\n",
       "            <td style=\"padding: 0 0.5em 0 0.5em; text-align: left; border: none;\">\n",
       "                Amendments to funeral and burial regulations\n",
       "            </td>\n",
       "        </tr>\n",
       "    \n",
       "        <tr style=\"background-color: hsl(120, 100.00%, 94.45%); border: none;\">\n",
       "            <td style=\"padding: 0 1em 0 0.5em; text-align: right; border: none;\">\n",
       "                0.0251\n",
       "                \n",
       "                    &plusmn; 0.0143\n",
       "                \n",
       "            </td>\n",
       "            <td style=\"padding: 0 0.5em 0 0.5em; text-align: left; border: none;\">\n",
       "                Changes in prison-related policies\n",
       "            </td>\n",
       "        </tr>\n",
       "    \n",
       "        <tr style=\"background-color: hsl(120, 100.00%, 96.00%); border: none;\">\n",
       "            <td style=\"padding: 0 1em 0 0.5em; text-align: right; border: none;\">\n",
       "                0.0157\n",
       "                \n",
       "                    &plusmn; 0.0181\n",
       "                \n",
       "            </td>\n",
       "            <td style=\"padding: 0 0.5em 0 0.5em; text-align: left; border: none;\">\n",
       "                Emergency administrative structures activated or established\n",
       "            </td>\n",
       "        </tr>\n",
       "    \n",
       "        <tr style=\"background-color: hsl(120, 100.00%, 97.22%); border: none;\">\n",
       "            <td style=\"padding: 0 1em 0 0.5em; text-align: right; border: none;\">\n",
       "                0.0094\n",
       "                \n",
       "                    &plusmn; 0.0117\n",
       "                \n",
       "            </td>\n",
       "            <td style=\"padding: 0 0.5em 0 0.5em; text-align: left; border: none;\">\n",
       "                Requirement to wear protective gear in public\n",
       "            </td>\n",
       "        </tr>\n",
       "    \n",
       "        <tr style=\"background-color: hsl(120, 100.00%, 97.77%); border: none;\">\n",
       "            <td style=\"padding: 0 1em 0 0.5em; text-align: right; border: none;\">\n",
       "                0.0068\n",
       "                \n",
       "                    &plusmn; 0.0043\n",
       "                \n",
       "            </td>\n",
       "            <td style=\"padding: 0 0.5em 0 0.5em; text-align: left; border: none;\">\n",
       "                Border checks \n",
       "            </td>\n",
       "        </tr>\n",
       "    \n",
       "        <tr style=\"background-color: hsl(0, 100.00%, 100.00%); border: none;\">\n",
       "            <td style=\"padding: 0 1em 0 0.5em; text-align: right; border: none;\">\n",
       "                0\n",
       "                \n",
       "                    &plusmn; 0.0000\n",
       "                \n",
       "            </td>\n",
       "            <td style=\"padding: 0 0.5em 0 0.5em; text-align: left; border: none;\">\n",
       "                Mass population testing\n",
       "            </td>\n",
       "        </tr>\n",
       "    \n",
       "        <tr style=\"background-color: hsl(0, 100.00%, 100.00%); border: none;\">\n",
       "            <td style=\"padding: 0 1em 0 0.5em; text-align: right; border: none;\">\n",
       "                0\n",
       "                \n",
       "                    &plusmn; 0.0000\n",
       "                \n",
       "            </td>\n",
       "            <td style=\"padding: 0 0.5em 0 0.5em; text-align: left; border: none;\">\n",
       "                Humanitarian exemptions\n",
       "            </td>\n",
       "        </tr>\n",
       "    \n",
       "    \n",
       "    </tbody>\n",
       "</table>\n",
       "    \n",
       "\n",
       "    \n",
       "\n",
       "\n",
       "    \n",
       "\n",
       "    \n",
       "\n",
       "    \n",
       "\n",
       "    \n",
       "\n",
       "    \n",
       "\n",
       "    \n",
       "\n",
       "\n",
       "\n"
      ],
      "text/plain": [
       "<IPython.core.display.HTML object>"
      ]
     },
     "execution_count": 130,
     "metadata": {},
     "output_type": "execute_result"
    }
   ],
   "source": [
    "perm=PermutationImportance(rfr, random_state=101).fit(X,y)\n",
    "eli5.show_weights(perm, feature_names=X.columns.tolist())"
   ]
  },
  {
   "cell_type": "markdown",
   "metadata": {},
   "source": [
    "Histgradientboosting Regressor model"
   ]
  },
  {
   "cell_type": "code",
   "execution_count": 132,
   "metadata": {},
   "outputs": [],
   "source": [
    "from sklearn.experimental import enable_hist_gradient_boosting\n",
    "from sklearn.ensemble import HistGradientBoostingRegressor"
   ]
  },
  {
   "cell_type": "code",
   "execution_count": 147,
   "metadata": {},
   "outputs": [],
   "source": [
    "loss=['poisson']\n",
    "max_iter = [500, 1000, 1500]\n",
    "learning_rate = [0.1, 0.3, 0.5, 0.7, 0.9, 1]\n",
    "max_depth=[2, 5, 25, 50, None]\n",
    "l2_regularization=[1.5, 1.5, 3]\n",
    "\n",
    "params1 = {'loss': loss,\n",
    "           'max_iter': max_iter,\n",
    "           'learning_rate': learning_rate,\n",
    "           'max_depth': max_depth,\n",
    "           'l2_regularization': l2_regularization}"
   ]
  },
  {
   "cell_type": "code",
   "execution_count": 148,
   "metadata": {},
   "outputs": [],
   "source": [
    "model1=HistGradientBoostingRegressor()\n",
    "grid1=GridSearchCV(model1, params1, scoring='neg_mean_absolute_error',cv=5, n_jobs=-1, verbose=True)\n"
   ]
  },
  {
   "cell_type": "code",
   "execution_count": 149,
   "metadata": {},
   "outputs": [
    {
     "name": "stdout",
     "output_type": "stream",
     "text": [
      "Fitting 5 folds for each of 270 candidates, totalling 1350 fits\n"
     ]
    },
    {
     "name": "stderr",
     "output_type": "stream",
     "text": [
      "[Parallel(n_jobs=-1)]: Using backend LokyBackend with 4 concurrent workers.\n",
      "[Parallel(n_jobs=-1)]: Done  42 tasks      | elapsed:   14.1s\n",
      "[Parallel(n_jobs=-1)]: Done 192 tasks      | elapsed:  1.0min\n",
      "[Parallel(n_jobs=-1)]: Done 442 tasks      | elapsed:  2.2min\n",
      "[Parallel(n_jobs=-1)]: Done 792 tasks      | elapsed:  4.0min\n",
      "[Parallel(n_jobs=-1)]: Done 1242 tasks      | elapsed:  6.2min\n",
      "[Parallel(n_jobs=-1)]: Done 1350 out of 1350 | elapsed:  6.8min finished\n"
     ]
    },
    {
     "data": {
      "text/plain": [
       "GridSearchCV(cv=5, estimator=HistGradientBoostingRegressor(), n_jobs=-1,\n",
       "             param_grid={'l2_regularization': [1.5, 1.5, 3],\n",
       "                         'learning_rate': [0.1, 0.3, 0.5, 0.7, 0.9, 1],\n",
       "                         'loss': ['poisson'], 'max_depth': [2, 5, 25, 50, None],\n",
       "                         'max_iter': [500, 1000, 1500]},\n",
       "             scoring='neg_mean_absolute_error', verbose=True)"
      ]
     },
     "execution_count": 149,
     "metadata": {},
     "output_type": "execute_result"
    }
   ],
   "source": [
    "grid1.fit(X_train, y_train)"
   ]
  },
  {
   "cell_type": "code",
   "execution_count": 151,
   "metadata": {},
   "outputs": [
    {
     "data": {
      "text/plain": [
       "{'l2_regularization': 3,\n",
       " 'learning_rate': 0.1,\n",
       " 'loss': 'poisson',\n",
       " 'max_depth': 5,\n",
       " 'max_iter': 500}"
      ]
     },
     "execution_count": 151,
     "metadata": {},
     "output_type": "execute_result"
    }
   ],
   "source": [
    "grid1.best_params_"
   ]
  },
  {
   "cell_type": "code",
   "execution_count": 153,
   "metadata": {},
   "outputs": [
    {
     "name": "stdout",
     "output_type": "stream",
     "text": [
      "Mean absolute error score using Random Forest Regressor: 55\n"
     ]
    }
   ],
   "source": [
    "print('Mean absolute error score using Random Forest Regressor:', round(grid1.best_score_*-1))"
   ]
  },
  {
   "cell_type": "code",
   "execution_count": 156,
   "metadata": {},
   "outputs": [],
   "source": [
    "hgbr=HistGradientBoostingRegressor(\n",
    " l2_regularization= 3,\n",
    " learning_rate=0.1,\n",
    " max_depth= 5,\n",
    " loss= 'poisson',\n",
    " max_iter= 500)\n"
   ]
  },
  {
   "cell_type": "code",
   "execution_count": 167,
   "metadata": {},
   "outputs": [],
   "source": [
    "predictions1=hgbr.fit(X_train, y_train).predict(X_test)\n"
   ]
  },
  {
   "cell_type": "code",
   "execution_count": 168,
   "metadata": {},
   "outputs": [
    {
     "name": "stdout",
     "output_type": "stream",
     "text": [
      "55.23887390067515\n"
     ]
    }
   ],
   "source": [
    "scores=-1*cross_val_score(hgbr, X_train, y_train, cv=5, scoring='neg_mean_absolute_error')\n",
    "print(scores.mean())"
   ]
  },
  {
   "cell_type": "code",
   "execution_count": 169,
   "metadata": {},
   "outputs": [
    {
     "data": {
      "text/plain": [
       "<matplotlib.collections.PathCollection at 0x7f5c277f46d0>"
      ]
     },
     "execution_count": 169,
     "metadata": {},
     "output_type": "execute_result"
    },
    {
     "data": {
      "image/png": "[encoded data removed]",
      "text/plain": [
       "<Figure size 432x288 with 1 Axes>"
      ]
     },
     "metadata": {
      "needs_background": "light"
     },
     "output_type": "display_data"
    }
   ],
   "source": [
    "plt.scatter(y_test, predictions1)"
   ]
  },
  {
   "cell_type": "code",
   "execution_count": 190,
   "metadata": {},
   "outputs": [
    {
     "data": {
      "text/html": [
       "\n",
       "    <style>\n",
       "    table.eli5-weights tr:hover {\n",
       "        filter: brightness(85%);\n",
       "    }\n",
       "</style>\n",
       "\n",
       "\n",
       "\n",
       "    \n",
       "\n",
       "    \n",
       "\n",
       "    \n",
       "\n",
       "    \n",
       "\n",
       "    \n",
       "\n",
       "    \n",
       "\n",
       "\n",
       "    \n",
       "\n",
       "    \n",
       "\n",
       "    \n",
       "\n",
       "    \n",
       "\n",
       "    \n",
       "\n",
       "    \n",
       "\n",
       "\n",
       "    \n",
       "\n",
       "    \n",
       "\n",
       "    \n",
       "\n",
       "    \n",
       "\n",
       "    \n",
       "        <table class=\"eli5-weights eli5-feature-importances\" style=\"border-collapse: collapse; border: none; margin-top: 0em; table-layout: auto;\">\n",
       "    <thead>\n",
       "    <tr style=\"border: none;\">\n",
       "        <th style=\"padding: 0 1em 0 0.5em; text-align: right; border: none;\">Weight</th>\n",
       "        <th style=\"padding: 0 0.5em 0 0.5em; text-align: left; border: none;\">Feature</th>\n",
       "    </tr>\n",
       "    </thead>\n",
       "    <tbody>\n",
       "    \n",
       "        <tr style=\"background-color: hsl(120, 100.00%, 80.00%); border: none;\">\n",
       "            <td style=\"padding: 0 1em 0 0.5em; text-align: right; border: none;\">\n",
       "                0.5059\n",
       "                \n",
       "                    &plusmn; 0.1354\n",
       "                \n",
       "            </td>\n",
       "            <td style=\"padding: 0 0.5em 0 0.5em; text-align: left; border: none;\">\n",
       "                Other public health measures enforced\n",
       "            </td>\n",
       "        </tr>\n",
       "    \n",
       "        <tr style=\"background-color: hsl(120, 100.00%, 84.80%); border: none;\">\n",
       "            <td style=\"padding: 0 1em 0 0.5em; text-align: right; border: none;\">\n",
       "                0.3417\n",
       "                \n",
       "                    &plusmn; 0.1482\n",
       "                \n",
       "            </td>\n",
       "            <td style=\"padding: 0 0.5em 0 0.5em; text-align: left; border: none;\">\n",
       "                Border closure \n",
       "            </td>\n",
       "        </tr>\n",
       "    \n",
       "        <tr style=\"background-color: hsl(120, 100.00%, 85.15%); border: none;\">\n",
       "            <td style=\"padding: 0 1em 0 0.5em; text-align: right; border: none;\">\n",
       "                0.3305\n",
       "                \n",
       "                    &plusmn; 0.3125\n",
       "                \n",
       "            </td>\n",
       "            <td style=\"padding: 0 0.5em 0 0.5em; text-align: left; border: none;\">\n",
       "                Isolation and quarantine policies\n",
       "            </td>\n",
       "        </tr>\n",
       "    \n",
       "        <tr style=\"background-color: hsl(120, 100.00%, 88.02%); border: none;\">\n",
       "            <td style=\"padding: 0 1em 0 0.5em; text-align: right; border: none;\">\n",
       "                0.2433\n",
       "                \n",
       "                    &plusmn; 0.1328\n",
       "                \n",
       "            </td>\n",
       "            <td style=\"padding: 0 0.5em 0 0.5em; text-align: left; border: none;\">\n",
       "                Domestic travel restrictions\n",
       "            </td>\n",
       "        </tr>\n",
       "    \n",
       "        <tr style=\"background-color: hsl(120, 100.00%, 90.39%); border: none;\">\n",
       "            <td style=\"padding: 0 1em 0 0.5em; text-align: right; border: none;\">\n",
       "                0.1775\n",
       "                \n",
       "                    &plusmn; 0.0706\n",
       "                \n",
       "            </td>\n",
       "            <td style=\"padding: 0 0.5em 0 0.5em; text-align: left; border: none;\">\n",
       "                Health screenings in airports and border crossings\n",
       "            </td>\n",
       "        </tr>\n",
       "    \n",
       "        <tr style=\"background-color: hsl(120, 100.00%, 90.96%); border: none;\">\n",
       "            <td style=\"padding: 0 1em 0 0.5em; text-align: right; border: none;\">\n",
       "                0.1628\n",
       "                \n",
       "                    &plusmn; 0.0801\n",
       "                \n",
       "            </td>\n",
       "            <td style=\"padding: 0 0.5em 0 0.5em; text-align: left; border: none;\">\n",
       "                Requirement to wear protective gear in public\n",
       "            </td>\n",
       "        </tr>\n",
       "    \n",
       "        <tr style=\"background-color: hsl(120, 100.00%, 91.50%); border: none;\">\n",
       "            <td style=\"padding: 0 1em 0 0.5em; text-align: right; border: none;\">\n",
       "                0.1491\n",
       "                \n",
       "                    &plusmn; 0.1324\n",
       "                \n",
       "            </td>\n",
       "            <td style=\"padding: 0 0.5em 0 0.5em; text-align: left; border: none;\">\n",
       "                Limit public gatherings\n",
       "            </td>\n",
       "        </tr>\n",
       "    \n",
       "        <tr style=\"background-color: hsl(120, 100.00%, 91.74%); border: none;\">\n",
       "            <td style=\"padding: 0 1em 0 0.5em; text-align: right; border: none;\">\n",
       "                0.1431\n",
       "                \n",
       "                    &plusmn; 0.0551\n",
       "                \n",
       "            </td>\n",
       "            <td style=\"padding: 0 0.5em 0 0.5em; text-align: left; border: none;\">\n",
       "                Visa restrictions\n",
       "            </td>\n",
       "        </tr>\n",
       "    \n",
       "        <tr style=\"background-color: hsl(120, 100.00%, 92.12%); border: none;\">\n",
       "            <td style=\"padding: 0 1em 0 0.5em; text-align: right; border: none;\">\n",
       "                0.1337\n",
       "                \n",
       "                    &plusmn; 0.0604\n",
       "                \n",
       "            </td>\n",
       "            <td style=\"padding: 0 0.5em 0 0.5em; text-align: left; border: none;\">\n",
       "                Awareness campaigns\n",
       "            </td>\n",
       "        </tr>\n",
       "    \n",
       "        <tr style=\"background-color: hsl(120, 100.00%, 93.68%); border: none;\">\n",
       "            <td style=\"padding: 0 1em 0 0.5em; text-align: right; border: none;\">\n",
       "                0.0975\n",
       "                \n",
       "                    &plusmn; 0.0416\n",
       "                \n",
       "            </td>\n",
       "            <td style=\"padding: 0 0.5em 0 0.5em; text-align: left; border: none;\">\n",
       "                Emergency administrative structures activated or established\n",
       "            </td>\n",
       "        </tr>\n",
       "    \n",
       "        <tr style=\"background-color: hsl(120, 100.00%, 96.21%); border: none;\">\n",
       "            <td style=\"padding: 0 1em 0 0.5em; text-align: right; border: none;\">\n",
       "                0.0471\n",
       "                \n",
       "                    &plusmn; 0.0159\n",
       "                \n",
       "            </td>\n",
       "            <td style=\"padding: 0 0.5em 0 0.5em; text-align: left; border: none;\">\n",
       "                Military deployment\n",
       "            </td>\n",
       "        </tr>\n",
       "    \n",
       "        <tr style=\"background-color: hsl(120, 100.00%, 96.89%); border: none;\">\n",
       "            <td style=\"padding: 0 1em 0 0.5em; text-align: right; border: none;\">\n",
       "                0.0354\n",
       "                \n",
       "                    &plusmn; 0.0106\n",
       "                \n",
       "            </td>\n",
       "            <td style=\"padding: 0 0.5em 0 0.5em; text-align: left; border: none;\">\n",
       "                Schools closure \n",
       "            </td>\n",
       "        </tr>\n",
       "    \n",
       "        <tr style=\"background-color: hsl(120, 100.00%, 96.97%); border: none;\">\n",
       "            <td style=\"padding: 0 1em 0 0.5em; text-align: right; border: none;\">\n",
       "                0.0342\n",
       "                \n",
       "                    &plusmn; 0.0384\n",
       "                \n",
       "            </td>\n",
       "            <td style=\"padding: 0 0.5em 0 0.5em; text-align: left; border: none;\">\n",
       "                Changes in prison-related policies\n",
       "            </td>\n",
       "        </tr>\n",
       "    \n",
       "        <tr style=\"background-color: hsl(120, 100.00%, 97.34%); border: none;\">\n",
       "            <td style=\"padding: 0 1em 0 0.5em; text-align: right; border: none;\">\n",
       "                0.0284\n",
       "                \n",
       "                    &plusmn; 0.0249\n",
       "                \n",
       "            </td>\n",
       "            <td style=\"padding: 0 0.5em 0 0.5em; text-align: left; border: none;\">\n",
       "                Border checks \n",
       "            </td>\n",
       "        </tr>\n",
       "    \n",
       "        <tr style=\"background-color: hsl(120, 100.00%, 98.71%); border: none;\">\n",
       "            <td style=\"padding: 0 1em 0 0.5em; text-align: right; border: none;\">\n",
       "                0.0101\n",
       "                \n",
       "                    &plusmn; 0.0075\n",
       "                \n",
       "            </td>\n",
       "            <td style=\"padding: 0 0.5em 0 0.5em; text-align: left; border: none;\">\n",
       "                Mass population testing\n",
       "            </td>\n",
       "        </tr>\n",
       "    \n",
       "        <tr style=\"background-color: hsl(120, 100.00%, 99.98%); border: none;\">\n",
       "            <td style=\"padding: 0 1em 0 0.5em; text-align: right; border: none;\">\n",
       "                0.0000\n",
       "                \n",
       "                    &plusmn; 0.0000\n",
       "                \n",
       "            </td>\n",
       "            <td style=\"padding: 0 0.5em 0 0.5em; text-align: left; border: none;\">\n",
       "                Amendments to funeral and burial regulations\n",
       "            </td>\n",
       "        </tr>\n",
       "    \n",
       "        <tr style=\"background-color: hsl(0, 100.00%, 100.00%); border: none;\">\n",
       "            <td style=\"padding: 0 1em 0 0.5em; text-align: right; border: none;\">\n",
       "                0\n",
       "                \n",
       "                    &plusmn; 0.0000\n",
       "                \n",
       "            </td>\n",
       "            <td style=\"padding: 0 0.5em 0 0.5em; text-align: left; border: none;\">\n",
       "                Humanitarian exemptions\n",
       "            </td>\n",
       "        </tr>\n",
       "    \n",
       "    \n",
       "    </tbody>\n",
       "</table>\n",
       "    \n",
       "\n",
       "    \n",
       "\n",
       "\n",
       "    \n",
       "\n",
       "    \n",
       "\n",
       "    \n",
       "\n",
       "    \n",
       "\n",
       "    \n",
       "\n",
       "    \n",
       "\n",
       "\n",
       "\n"
      ],
      "text/plain": [
       "<IPython.core.display.HTML object>"
      ]
     },
     "execution_count": 190,
     "metadata": {},
     "output_type": "execute_result"
    }
   ],
   "source": [
    "perm1=PermutationImportance(hgbr, random_state=33).fit(X,y)\n",
    "eli5.show_weights(perm1, feature_names=X.columns.tolist())"
   ]
  },
  {
   "cell_type": "code",
   "execution_count": null,
   "metadata": {},
   "outputs": [],
   "source": []
  }
 ],
 "metadata": {
  "kernelspec": {
   "display_name": "Python 3",
   "language": "python",
   "name": "python3"
  },
  "language_info": {
   "codemirror_mode": {
    "name": "ipython",
    "version": 3
   },
   "file_extension": ".py",
   "mimetype": "text/x-python",
   "name": "python",
   "nbconvert_exporter": "python",
   "pygments_lexer": "ipython3",
   "version": "3.7.7"
  }
 },
 "nbformat": 4,
 "nbformat_minor": 4
}

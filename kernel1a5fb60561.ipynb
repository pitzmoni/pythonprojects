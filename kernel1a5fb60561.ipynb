{
 "cells": [
  {
   "cell_type": "markdown",
   "execution_count": null,
   "metadata": {},
   "source": [
    "# Impact of interventions on curbing the impact of COVID-19\n",
    "\n",
    "                                                        \n",
    " \n",
    " \n",
    " \n",
    "This study investigates the effectiveness of the government measures aimed to decelerate the spread of COVID-19. The various government measures are weighted with the different time intervals of responds, calculated from the first case detected in the country. In case of lack of a measure, I used a large penalty number. COVID spread is represented by total deaths per million population (10th of July). A Random Forest model is definded to determine the main factors affecting the number of deaths in each country worldwide. Unfortunately, treeinterpreter did not work in this notebook.\n",
    "\n",
    "Main findings:\n",
    "\n",
    "Top government measures overall:\n",
    "- State of emergency declared\n",
    "- Requirement to wear protective gear in public\n",
    "- International flights suspension\n",
    "\n",
    "\n",
    "\n",
    "Data source: acaps.org\n"
   ]
  },
  {
   "cell_type": "code",
   "execution_count": 1,
   "metadata": {
    "_cell_guid": "b1076dfc-b9ad-4769-8c92-a6c4dae69d19",
    "_uuid": "8f2839f25d086af736a60e9eeb907d3b93b6e0e5"
   },
   "outputs": [],
   "source": [
    "\n",
    "import os\n",
    "for dirname, _, filenames in os.walk('/kaggle/data'):\n",
    "    for filename in filenames:\n",
    "        print(os.path.join(dirname, filename))\n",
    "\n"
   ]
  },
  {
   "cell_type": "code",
   "execution_count": 2,
   "metadata": {
    "_cell_guid": "79c7e3d0-c299-4dcb-8224-4455121ee9b0",
    "_uuid": "d629ff2d2480ee46fbb7e2d37f6b5fab8052498a"
   },
   "outputs": [],
   "source": [
    "import pandas as pd\n",
    "import matplotlib.pyplot as plt\n",
    "import seaborn as sns\n",
    "%matplotlib inline\n",
    "import numpy as np"
   ]
  },
  {
   "cell_type": "markdown",
   "execution_count": null,
   "metadata": {},
   "source": [
    "Reading and cleaning data:"
   ]
  },
  {
   "cell_type": "code",
   "execution_count": 3,
   "metadata": {},
   "outputs": [],
   "source": [
    "df = pd.read_csv(\"/kaggle/input/data.csv\", index_col='COUNTRY')"
   ]
  },
  {
   "cell_type": "code",
   "execution_count": 4,
   "metadata": {},
   "outputs": [
    {
     "data": {
      "text/html": [
       "<div>\n",
       "<style scoped>\n",
       "    .dataframe tbody tr th:only-of-type {\n",
       "        vertical-align: middle;\n",
       "    }\n",
       "\n",
       "    .dataframe tbody tr th {\n",
       "        vertical-align: top;\n",
       "    }\n",
       "\n",
       "    .dataframe thead th {\n",
       "        text-align: right;\n",
       "    }\n",
       "</style>\n",
       "<table border=\"1\" class=\"dataframe\">\n",
       "  <thead>\n",
       "    <tr style=\"text-align: right;\">\n",
       "      <th></th>\n",
       "      <th>Additional health/documents requirements upon arrival</th>\n",
       "      <th>Amendments to funeral and burial regulations</th>\n",
       "      <th>Awareness campaigns</th>\n",
       "      <th>Border checks</th>\n",
       "      <th>Border closure</th>\n",
       "      <th>Changes in prison-related policies</th>\n",
       "      <th>Checkpoints within the country</th>\n",
       "      <th>Closure of businesses and public services</th>\n",
       "      <th>Complete border closure</th>\n",
       "      <th>Curfews</th>\n",
       "      <th>...</th>\n",
       "      <th>Partial lockdown</th>\n",
       "      <th>Psychological assistance and medical social work</th>\n",
       "      <th>Requirement to wear protective gear in public</th>\n",
       "      <th>Schools closure</th>\n",
       "      <th>State of emergency declared</th>\n",
       "      <th>Strengthening the public health system</th>\n",
       "      <th>Surveillance and monitoring</th>\n",
       "      <th>Testing policy</th>\n",
       "      <th>Visa restrictions</th>\n",
       "      <th>Deaths per Population*1000000</th>\n",
       "    </tr>\n",
       "    <tr>\n",
       "      <th>COUNTRY</th>\n",
       "      <th></th>\n",
       "      <th></th>\n",
       "      <th></th>\n",
       "      <th></th>\n",
       "      <th></th>\n",
       "      <th></th>\n",
       "      <th></th>\n",
       "      <th></th>\n",
       "      <th></th>\n",
       "      <th></th>\n",
       "      <th></th>\n",
       "      <th></th>\n",
       "      <th></th>\n",
       "      <th></th>\n",
       "      <th></th>\n",
       "      <th></th>\n",
       "      <th></th>\n",
       "      <th></th>\n",
       "      <th></th>\n",
       "      <th></th>\n",
       "      <th></th>\n",
       "    </tr>\n",
       "  </thead>\n",
       "  <tbody>\n",
       "    <tr>\n",
       "      <th>Afghanistan</th>\n",
       "      <td>NaN</td>\n",
       "      <td>NaN</td>\n",
       "      <td>-31.0</td>\n",
       "      <td>-23.0</td>\n",
       "      <td>0.0</td>\n",
       "      <td>36.0</td>\n",
       "      <td>NaN</td>\n",
       "      <td>NaN</td>\n",
       "      <td>NaN</td>\n",
       "      <td>NaN</td>\n",
       "      <td>...</td>\n",
       "      <td>33.0</td>\n",
       "      <td>NaN</td>\n",
       "      <td>NaN</td>\n",
       "      <td>6.0</td>\n",
       "      <td>0.0</td>\n",
       "      <td>-22.0</td>\n",
       "      <td>-11.0</td>\n",
       "      <td>NaN</td>\n",
       "      <td>NaN</td>\n",
       "      <td>24,7012930959163</td>\n",
       "    </tr>\n",
       "    <tr>\n",
       "      <th>Albania</th>\n",
       "      <td>NaN</td>\n",
       "      <td>NaN</td>\n",
       "      <td>2.0</td>\n",
       "      <td>NaN</td>\n",
       "      <td>5.0</td>\n",
       "      <td>14.0</td>\n",
       "      <td>1.0</td>\n",
       "      <td>1.0</td>\n",
       "      <td>NaN</td>\n",
       "      <td>14.0</td>\n",
       "      <td>...</td>\n",
       "      <td>24.0</td>\n",
       "      <td>NaN</td>\n",
       "      <td>NaN</td>\n",
       "      <td>1.0</td>\n",
       "      <td>52.0</td>\n",
       "      <td>-45.0</td>\n",
       "      <td>35.0</td>\n",
       "      <td>NaN</td>\n",
       "      <td>NaN</td>\n",
       "      <td>28,8352637905518</td>\n",
       "    </tr>\n",
       "    <tr>\n",
       "      <th>Algeria</th>\n",
       "      <td>NaN</td>\n",
       "      <td>NaN</td>\n",
       "      <td>9.0</td>\n",
       "      <td>16.0</td>\n",
       "      <td>21.0</td>\n",
       "      <td>NaN</td>\n",
       "      <td>27.0</td>\n",
       "      <td>20.0</td>\n",
       "      <td>NaN</td>\n",
       "      <td>27.0</td>\n",
       "      <td>...</td>\n",
       "      <td>27.0</td>\n",
       "      <td>NaN</td>\n",
       "      <td>72.0</td>\n",
       "      <td>16.0</td>\n",
       "      <td>NaN</td>\n",
       "      <td>NaN</td>\n",
       "      <td>NaN</td>\n",
       "      <td>NaN</td>\n",
       "      <td>NaN</td>\n",
       "      <td>22,6161387942366</td>\n",
       "    </tr>\n",
       "    <tr>\n",
       "      <th>Angola</th>\n",
       "      <td>20.0</td>\n",
       "      <td>NaN</td>\n",
       "      <td>-9.0</td>\n",
       "      <td>7.0</td>\n",
       "      <td>7.0</td>\n",
       "      <td>13.0</td>\n",
       "      <td>NaN</td>\n",
       "      <td>7.0</td>\n",
       "      <td>NaN</td>\n",
       "      <td>NaN</td>\n",
       "      <td>...</td>\n",
       "      <td>37.0</td>\n",
       "      <td>NaN</td>\n",
       "      <td>27.0</td>\n",
       "      <td>3.0</td>\n",
       "      <td>7.0</td>\n",
       "      <td>6.0</td>\n",
       "      <td>43.0</td>\n",
       "      <td>50.0</td>\n",
       "      <td>-19.0</td>\n",
       "      <td>0,673920852835811</td>\n",
       "    </tr>\n",
       "    <tr>\n",
       "      <th>Antigua and Barbuda</th>\n",
       "      <td>83.0</td>\n",
       "      <td>15.0</td>\n",
       "      <td>-10.0</td>\n",
       "      <td>NaN</td>\n",
       "      <td>13.0</td>\n",
       "      <td>15.0</td>\n",
       "      <td>NaN</td>\n",
       "      <td>12.0</td>\n",
       "      <td>NaN</td>\n",
       "      <td>15.0</td>\n",
       "      <td>...</td>\n",
       "      <td>34.0</td>\n",
       "      <td>NaN</td>\n",
       "      <td>15.0</td>\n",
       "      <td>2.0</td>\n",
       "      <td>12.0</td>\n",
       "      <td>-30.0</td>\n",
       "      <td>113.0</td>\n",
       "      <td>NaN</td>\n",
       "      <td>-42.0</td>\n",
       "      <td>30,6861421382104</td>\n",
       "    </tr>\n",
       "  </tbody>\n",
       "</table>\n",
       "<p>5 rows × 36 columns</p>\n",
       "</div>"
      ],
      "text/plain": [
       "                     Additional health/documents requirements upon arrival  \\\n",
       "COUNTRY                                                                      \n",
       "Afghanistan                                                        NaN       \n",
       "Albania                                                            NaN       \n",
       "Algeria                                                            NaN       \n",
       "Angola                                                            20.0       \n",
       "Antigua and Barbuda                                               83.0       \n",
       "\n",
       "                     Amendments to funeral and burial regulations  \\\n",
       "COUNTRY                                                             \n",
       "Afghanistan                                                   NaN   \n",
       "Albania                                                       NaN   \n",
       "Algeria                                                       NaN   \n",
       "Angola                                                        NaN   \n",
       "Antigua and Barbuda                                          15.0   \n",
       "\n",
       "                     Awareness campaigns  Border checks   Border closure   \\\n",
       "COUNTRY                                                                     \n",
       "Afghanistan                        -31.0           -23.0              0.0   \n",
       "Albania                              2.0             NaN              5.0   \n",
       "Algeria                              9.0            16.0             21.0   \n",
       "Angola                              -9.0             7.0              7.0   \n",
       "Antigua and Barbuda                -10.0             NaN             13.0   \n",
       "\n",
       "                     Changes in prison-related policies  \\\n",
       "COUNTRY                                                   \n",
       "Afghanistan                                        36.0   \n",
       "Albania                                            14.0   \n",
       "Algeria                                             NaN   \n",
       "Angola                                             13.0   \n",
       "Antigua and Barbuda                                15.0   \n",
       "\n",
       "                     Checkpoints within the country  \\\n",
       "COUNTRY                                               \n",
       "Afghanistan                                     NaN   \n",
       "Albania                                         1.0   \n",
       "Algeria                                        27.0   \n",
       "Angola                                          NaN   \n",
       "Antigua and Barbuda                             NaN   \n",
       "\n",
       "                     Closure of businesses and public services  \\\n",
       "COUNTRY                                                          \n",
       "Afghanistan                                                NaN   \n",
       "Albania                                                    1.0   \n",
       "Algeria                                                   20.0   \n",
       "Angola                                                     7.0   \n",
       "Antigua and Barbuda                                       12.0   \n",
       "\n",
       "                     Complete border closure  Curfews  ...  Partial lockdown  \\\n",
       "COUNTRY                                                ...                     \n",
       "Afghanistan                              NaN      NaN  ...              33.0   \n",
       "Albania                                  NaN     14.0  ...              24.0   \n",
       "Algeria                                  NaN     27.0  ...              27.0   \n",
       "Angola                                   NaN      NaN  ...              37.0   \n",
       "Antigua and Barbuda                      NaN     15.0  ...              34.0   \n",
       "\n",
       "                     Psychological assistance and medical social work  \\\n",
       "COUNTRY                                                                 \n",
       "Afghanistan                                                       NaN   \n",
       "Albania                                                           NaN   \n",
       "Algeria                                                           NaN   \n",
       "Angola                                                            NaN   \n",
       "Antigua and Barbuda                                               NaN   \n",
       "\n",
       "                     Requirement to wear protective gear in public  \\\n",
       "COUNTRY                                                              \n",
       "Afghanistan                                                    NaN   \n",
       "Albania                                                        NaN   \n",
       "Algeria                                                       72.0   \n",
       "Angola                                                        27.0   \n",
       "Antigua and Barbuda                                           15.0   \n",
       "\n",
       "                     Schools closure   State of emergency declared  \\\n",
       "COUNTRY                                                              \n",
       "Afghanistan                       6.0                          0.0   \n",
       "Albania                           1.0                         52.0   \n",
       "Algeria                          16.0                          NaN   \n",
       "Angola                            3.0                          7.0   \n",
       "Antigua and Barbuda               2.0                         12.0   \n",
       "\n",
       "                     Strengthening the public health system  \\\n",
       "COUNTRY                                                       \n",
       "Afghanistan                                           -22.0   \n",
       "Albania                                               -45.0   \n",
       "Algeria                                                 NaN   \n",
       "Angola                                                  6.0   \n",
       "Antigua and Barbuda                                   -30.0   \n",
       "\n",
       "                     Surveillance and monitoring  Testing policy  \\\n",
       "COUNTRY                                                            \n",
       "Afghanistan                                -11.0             NaN   \n",
       "Albania                                     35.0             NaN   \n",
       "Algeria                                      NaN             NaN   \n",
       "Angola                                      43.0            50.0   \n",
       "Antigua and Barbuda                        113.0             NaN   \n",
       "\n",
       "                     Visa restrictions  Deaths per Population*1000000  \n",
       "COUNTRY                                                                \n",
       "Afghanistan                        NaN               24,7012930959163  \n",
       "Albania                            NaN               28,8352637905518  \n",
       "Algeria                            NaN               22,6161387942366  \n",
       "Angola                           -19.0              0,673920852835811  \n",
       "Antigua and Barbuda              -42.0               30,6861421382104  \n",
       "\n",
       "[5 rows x 36 columns]"
      ]
     },
     "execution_count": 4,
     "metadata": {},
     "output_type": "execute_result"
    }
   ],
   "source": [
    "df.head()"
   ]
  },
  {
   "cell_type": "code",
   "execution_count": 5,
   "metadata": {},
   "outputs": [
    {
     "name": "stdout",
     "output_type": "stream",
     "text": [
      "<class 'pandas.core.frame.DataFrame'>\n",
      "Index: 182 entries, Afghanistan to Zimbabwe\n",
      "Data columns (total 36 columns):\n",
      " #   Column                                                        Non-Null Count  Dtype  \n",
      "---  ------                                                        --------------  -----  \n",
      " 0   Additional health/documents requirements upon arrival         52 non-null     float64\n",
      " 1   Amendments to funeral and burial regulations                  32 non-null     float64\n",
      " 2   Awareness campaigns                                           123 non-null    float64\n",
      " 3   Border checks                                                 49 non-null     float64\n",
      " 4   Border closure                                                153 non-null    float64\n",
      " 5   Changes in prison-related policies                            64 non-null     float64\n",
      " 6   Checkpoints within the country                                33 non-null     float64\n",
      " 7   Closure of businesses and public services                     143 non-null    float64\n",
      " 8   Complete border closure                                       3 non-null      float64\n",
      " 9   Curfews                                                       94 non-null     float64\n",
      " 10  Domestic travel restrictions                                  138 non-null    float64\n",
      " 11  Economic measures                                             160 non-null    float64\n",
      " 12  Emergency administrative structures activated or established  136 non-null    float64\n",
      " 13  Full lockdown                                                 39 non-null     float64\n",
      " 14  General recommendations                                       119 non-null    float64\n",
      " 15  Health screenings in airports and border crossings            133 non-null    float64\n",
      " 16  Humanitarian exemptions                                       7 non-null      float64\n",
      " 17  International flights suspension                              147 non-null    float64\n",
      " 18  Isolation and quarantine policies                             170 non-null    float64\n",
      " 19  Limit product imports/exports                                 31 non-null     float64\n",
      " 20  Limit public gatherings                                       170 non-null    float64\n",
      " 21  Lockdown of refugee/idp camps or other minorities             11 non-null     float64\n",
      " 22  Mass population testing                                       35 non-null     float64\n",
      " 23  Military deployment                                           54 non-null     float64\n",
      " 24  Obligatory medical tests not related to COVID-19              1 non-null      float64\n",
      " 25  Other public health measures enforced                         120 non-null    float64\n",
      " 26  Partial lockdown                                              131 non-null    float64\n",
      " 27  Psychological assistance and medical social work              54 non-null     float64\n",
      " 28  Requirement to wear protective gear in public                 123 non-null    float64\n",
      " 29  Schools closure                                               162 non-null    float64\n",
      " 30  State of emergency declared                                   100 non-null    float64\n",
      " 31  Strengthening the public health system                        156 non-null    float64\n",
      " 32  Surveillance and monitoring                                   117 non-null    float64\n",
      " 33  Testing policy                                                103 non-null    float64\n",
      " 34  Visa restrictions                                             112 non-null    float64\n",
      " 35  Deaths per Population*1000000                                 182 non-null    object \n",
      "dtypes: float64(35), object(1)\n",
      "memory usage: 52.6+ KB\n"
     ]
    }
   ],
   "source": [
    "df.info()"
   ]
  },
  {
   "cell_type": "code",
   "execution_count": 6,
   "metadata": {},
   "outputs": [],
   "source": [
    "df['Deaths per Population*1000000']=df['Deaths per Population*1000000'].apply(lambda x: x.replace(\",\",\".\"))"
   ]
  },
  {
   "cell_type": "code",
   "execution_count": 7,
   "metadata": {},
   "outputs": [],
   "source": [
    "df['Deaths per Population*1000000']=df['Deaths per Population*1000000'].astype(float)"
   ]
  },
  {
   "cell_type": "code",
   "execution_count": 8,
   "metadata": {},
   "outputs": [],
   "source": [
    "df.fillna(value=1000000, inplace=True)"
   ]
  },
  {
   "cell_type": "markdown",
   "execution_count": null,
   "metadata": {},
   "source": [
    "Splitting data into train and test data to find the best Random Forest model:"
   ]
  },
  {
   "cell_type": "code",
   "execution_count": 9,
   "metadata": {},
   "outputs": [],
   "source": [
    "from sklearn.model_selection import train_test_split"
   ]
  },
  {
   "cell_type": "code",
   "execution_count": 10,
   "metadata": {},
   "outputs": [],
   "source": [
    "X=df.drop('Deaths per Population*1000000', axis=1)\n",
    "y=df['Deaths per Population*1000000']\n",
    "X_train, X_test, y_train, y_test=train_test_split(X,y,test_size=0.2)"
   ]
  },
  {
   "cell_type": "code",
   "execution_count": 11,
   "metadata": {},
   "outputs": [],
   "source": [
    "from sklearn.metrics import mean_absolute_error\n",
    "from sklearn.ensemble import RandomForestRegressor"
   ]
  },
  {
   "cell_type": "code",
   "execution_count": 12,
   "metadata": {},
   "outputs": [],
   "source": [
    "rf_1=RandomForestRegressor(n_estimators=10, random_state=40)\n",
    "rf_2=RandomForestRegressor(n_estimators=30, random_state=40)\n",
    "rf_3=RandomForestRegressor(n_estimators=50, random_state=40)\n",
    "rf_4=RandomForestRegressor(n_estimators=100, random_state=40)\n",
    "rf_5=RandomForestRegressor(n_estimators=200, random_state=40)"
   ]
  },
  {
   "cell_type": "markdown",
   "execution_count": null,
   "metadata": {},
   "source": [
    "Model selection:"
   ]
  },
  {
   "cell_type": "code",
   "execution_count": 13,
   "metadata": {},
   "outputs": [],
   "source": [
    "def score_model(model):\n",
    "    model.fit(X_train, y_train)\n",
    "    preds=model.predict(X_test)\n",
    "    return mean_absolute_error(y_test, preds)"
   ]
  },
  {
   "cell_type": "code",
   "execution_count": 14,
   "metadata": {},
   "outputs": [],
   "source": [
    "models=[rf_1, rf_2, rf_3, rf_4, rf_5]"
   ]
  },
  {
   "cell_type": "code",
   "execution_count": 15,
   "metadata": {},
   "outputs": [
    {
     "name": "stdout",
     "output_type": "stream",
     "text": [
      "Random Forest Model 1 MAE: 117\n",
      "Random Forest Model 2 MAE: 269\n",
      "Random Forest Model 3 MAE: 385\n",
      "Random Forest Model 4 MAE: 328\n",
      "Random Forest Model 5 MAE: 378\n"
     ]
    }
   ],
   "source": [
    "for i in range(0, len(models)):\n",
    "    mae=score_model(models[i])\n",
    "    print(\"Random Forest Model %d MAE: %d\"%(i+1, mae))"
   ]
  },
  {
   "cell_type": "markdown",
   "execution_count": null,
   "metadata": {},
   "source": [
    "Fitting the best Random Forest model and calculatin importance of the features:"
   ]
  },
  {
   "cell_type": "code",
   "execution_count": 16,
   "metadata": {},
   "outputs": [],
   "source": [
    "from sklearn.inspection import permutation_importance"
   ]
  },
  {
   "cell_type": "code",
   "execution_count": 17,
   "metadata": {},
   "outputs": [],
   "source": [
    "model=RandomForestRegressor(n_estimators=200).fit(X,y)\n",
    "result=permutation_importance(model, X, y, n_repeats=10,random_state=0)"
   ]
  },
  {
   "cell_type": "code",
   "execution_count": 18,
   "metadata": {},
   "outputs": [],
   "source": [
    "importances = model.feature_importances_"
   ]
  },
  {
   "cell_type": "code",
   "execution_count": 19,
   "metadata": {},
   "outputs": [
    {
     "data": {
      "image/png": "[encoded data removed]",
      "text/plain": [
       "<Figure size 1008x1008 with 1 Axes>"
      ]
     },
     "metadata": {
      "needs_background": "light"
     },
     "output_type": "display_data"
    }
   ],
   "source": [
    "features=X.columns\n",
    "indices = np.argsort(importances)\n",
    "plt.figure(figsize=(14,14))\n",
    "plt.title('Feature Importances')\n",
    "plt.barh(range(len(indices)), importances[indices], color='b', align='center')\n",
    "plt.yticks(range(len(indices)), [features[i] for i in indices])\n",
    "plt.xlabel('Relative Importance')\n",
    "plt.show()"
   ]
  },
  {
   "cell_type": "markdown",
   "execution_count": null,
   "metadata": {},
   "source": [
    "Prediction and interpretation for my home country, Hungary"
   ]
  },
  {
   "cell_type": "code",
   "execution_count": 20,
   "metadata": {},
   "outputs": [
    {
     "ename": "ModuleNotFoundError",
     "evalue": "No module named 'treeinterpreter'",
     "output_type": "error",
     "traceback": [
      "\u001b[0;31m---------------------------------------------------------------------------\u001b[0m",
      "\u001b[0;31mModuleNotFoundError\u001b[0m                       Traceback (most recent call last)",
      "\u001b[0;32m<ipython-input-20-666bbb927a87>\u001b[0m in \u001b[0;36m<module>\u001b[0;34m\u001b[0m\n\u001b[0;32m----> 1\u001b[0;31m \u001b[0;32mfrom\u001b[0m \u001b[0mtreeinterpreter\u001b[0m \u001b[0;32mimport\u001b[0m \u001b[0mtreeinterpreter\u001b[0m \u001b[0;32mas\u001b[0m \u001b[0mti\u001b[0m\u001b[0;34m\u001b[0m\u001b[0;34m\u001b[0m\u001b[0m\n\u001b[0m",
      "\u001b[0;31mModuleNotFoundError\u001b[0m: No module named 'treeinterpreter'"
     ]
    }
   ],
   "source": [
    "from treeinterpreter import treeinterpreter as ti"
   ]
  },
  {
   "cell_type": "code",
   "execution_count": 21,
   "metadata": {},
   "outputs": [],
   "source": [
    "hun=df.loc['Hungary'][:-1]"
   ]
  },
  {
   "cell_type": "code",
   "execution_count": 22,
   "metadata": {},
   "outputs": [
    {
     "data": {
      "text/plain": [
       "Deaths per Population*1000000    61.147259\n",
       "Name: Hungary, dtype: float64"
      ]
     },
     "execution_count": 22,
     "metadata": {},
     "output_type": "execute_result"
    }
   ],
   "source": [
    "df.loc['Hungary'][-1:]"
   ]
  },
  {
   "cell_type": "code",
   "execution_count": 23,
   "metadata": {},
   "outputs": [],
   "source": [
    "hun=pd.DataFrame(hun)"
   ]
  },
  {
   "cell_type": "code",
   "execution_count": 24,
   "metadata": {},
   "outputs": [],
   "source": [
    "hun=hun.transpose()"
   ]
  },
  {
   "cell_type": "code",
   "execution_count": 25,
   "metadata": {},
   "outputs": [],
   "source": [
    "X_hun=X.drop('Hungary')\n",
    "y_hun=y.drop('Hungary')"
   ]
  },
  {
   "cell_type": "code",
   "execution_count": 26,
   "metadata": {},
   "outputs": [],
   "source": [
    "model_hun=RandomForestRegressor(n_estimators=200).fit(X_hun,y_hun)"
   ]
  },
  {
   "cell_type": "code",
   "execution_count": 27,
   "metadata": {},
   "outputs": [
    {
     "data": {
      "text/plain": [
       "array([56.9888008])"
      ]
     },
     "execution_count": 27,
     "metadata": {},
     "output_type": "execute_result"
    }
   ],
   "source": [
    "model_hun.predict(hun)"
   ]
  },
  {
   "cell_type": "code",
   "execution_count": 28,
   "metadata": {},
   "outputs": [
    {
     "ename": "NameError",
     "evalue": "name 'ti' is not defined",
     "output_type": "error",
     "traceback": [
      "\u001b[0;31m---------------------------------------------------------------------------\u001b[0m",
      "\u001b[0;31mNameError\u001b[0m                                 Traceback (most recent call last)",
      "\u001b[0;32m<ipython-input-28-8d9c0487c592>\u001b[0m in \u001b[0;36m<module>\u001b[0;34m\u001b[0m\n\u001b[0;32m----> 1\u001b[0;31m \u001b[0mprediction\u001b[0m\u001b[0;34m,\u001b[0m \u001b[0mbias\u001b[0m\u001b[0;34m,\u001b[0m \u001b[0mcontributions\u001b[0m \u001b[0;34m=\u001b[0m \u001b[0mti\u001b[0m\u001b[0;34m.\u001b[0m\u001b[0mpredict\u001b[0m\u001b[0;34m(\u001b[0m\u001b[0mmodel_hun\u001b[0m\u001b[0;34m,\u001b[0m \u001b[0mhun\u001b[0m\u001b[0;34m)\u001b[0m\u001b[0;34m\u001b[0m\u001b[0;34m\u001b[0m\u001b[0m\n\u001b[0m",
      "\u001b[0;31mNameError\u001b[0m: name 'ti' is not defined"
     ]
    }
   ],
   "source": [
    "prediction, bias, contributions = ti.predict(model_hun, hun)"
   ]
  },
  {
   "cell_type": "code",
   "execution_count": 29,
   "metadata": {},
   "outputs": [
    {
     "ename": "NameError",
     "evalue": "name 'contributions' is not defined",
     "output_type": "error",
     "traceback": [
      "\u001b[0;31m---------------------------------------------------------------------------\u001b[0m",
      "\u001b[0;31mNameError\u001b[0m                                 Traceback (most recent call last)",
      "\u001b[0;32m<ipython-input-29-434649e8e950>\u001b[0m in \u001b[0;36m<module>\u001b[0;34m\u001b[0m\n\u001b[0;32m----> 1\u001b[0;31m \u001b[0mresult\u001b[0m\u001b[0;34m=\u001b[0m\u001b[0mpd\u001b[0m\u001b[0;34m.\u001b[0m\u001b[0mDataFrame\u001b[0m\u001b[0;34m(\u001b[0m\u001b[0mdata\u001b[0m\u001b[0;34m=\u001b[0m\u001b[0mcontributions\u001b[0m\u001b[0;34m.\u001b[0m\u001b[0mtranspose\u001b[0m\u001b[0;34m(\u001b[0m\u001b[0;34m)\u001b[0m\u001b[0;34m,\u001b[0m \u001b[0mindex\u001b[0m\u001b[0;34m=\u001b[0m\u001b[0mX\u001b[0m\u001b[0;34m.\u001b[0m\u001b[0mcolumns\u001b[0m\u001b[0;34m,\u001b[0m \u001b[0mcolumns\u001b[0m\u001b[0;34m=\u001b[0m\u001b[0;34m[\u001b[0m\u001b[0;34m'Contributions'\u001b[0m\u001b[0;34m]\u001b[0m\u001b[0;34m)\u001b[0m\u001b[0;34m.\u001b[0m\u001b[0mhead\u001b[0m\u001b[0;34m(\u001b[0m\u001b[0;34m)\u001b[0m\u001b[0;34m\u001b[0m\u001b[0;34m\u001b[0m\u001b[0m\n\u001b[0m",
      "\u001b[0;31mNameError\u001b[0m: name 'contributions' is not defined"
     ]
    }
   ],
   "source": [
    "result=pd.DataFrame(data=contributions.transpose(), index=X.columns, columns=['Contributions']).head()"
   ]
  },
  {
   "cell_type": "markdown",
   "execution_count": null,
   "metadata": {},
   "source": [
    "\n",
    "**Top contributors for Hungary:**\n",
    "\n",
    "State of emergency declared\t-1721.639864\n",
    "\n",
    "Economic measures\t-506.961691\n",
    "\n",
    "International flights suspension\t-49.569132\n",
    "\n",
    "Health screenings in airports and border crossings\t-12.891331\n",
    "\n",
    "Limit public gatherings\t-9.477808\n"
   ]
  },
  {
   "cell_type": "markdown",
   "execution_count": null,
   "metadata": {},
   "source": [
    "Model evaluation:\n",
    "- Prediction for Hungary was quite close, however mean absolute error values should be reduced.\n",
    "- Top contributors seem to be appropriate.\n",
    "\n",
    "Further investigations:\n",
    "    - Defining control variables: checking quarantine regulations via google, apple mobility data, vaccination from OECD data, general healthcare infrastructure \n",
    "    - Other models, such as XGBoost, ANN\n",
    "    - Model selection with cross validation\n",
    "    - Extracting the state of emergency feature from the model, to see the effect of more specific features"
   ]
  },
  {
   "cell_type": "code",
   "execution_count": null,
   "metadata": {},
   "outputs": [],
   "source": []
  }
 ],
 "metadata": {
  "kernelspec": {
   "display_name": "Python 3",
   "language": "python",
   "name": "python3"
  },
  "language_info": {
   "codemirror_mode": {
    "name": "ipython",
    "version": 3
   },
   "file_extension": ".py",
   "mimetype": "text/x-python",
   "name": "python",
   "nbconvert_exporter": "python",
   "pygments_lexer": "ipython3",
   "version": "3.7.6"
  }
 },
 "nbformat": 4,
 "nbformat_minor": 4
}

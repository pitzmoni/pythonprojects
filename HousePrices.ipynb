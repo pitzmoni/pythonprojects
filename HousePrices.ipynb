{
 "cells": [
  {
   "cell_type": "markdown",
   "metadata": {},
   "source": [
    "                                            Ames Housing dataset\n",
    "\n",
    "            Predicting sales prices and practicing feature engineering, RFs, and gradient boosting"
   ]
  },
  {
   "cell_type": "markdown",
   "metadata": {},
   "source": [
    "Imports and reading data:"
   ]
  },
  {
   "cell_type": "code",
   "execution_count": 286,
   "metadata": {},
   "outputs": [],
   "source": [
    "import pandas as pd\n",
    "import numpy as np\n",
    "import matplotlib.pyplot as plt\n",
    "import seaborn as sns\n",
    "%matplotlib inline\n",
    "from scipy import stats"
   ]
  },
  {
   "cell_type": "code",
   "execution_count": 287,
   "metadata": {},
   "outputs": [],
   "source": [
    "df=pd.read_csv('train.csv')\n"
   ]
  },
  {
   "cell_type": "code",
   "execution_count": 288,
   "metadata": {},
   "outputs": [],
   "source": [
    "test=pd.read_csv('test.csv')"
   ]
  },
  {
   "cell_type": "code",
   "execution_count": 289,
   "metadata": {},
   "outputs": [
    {
     "name": "stdout",
     "output_type": "stream",
     "text": [
      "<class 'pandas.core.frame.DataFrame'>\n",
      "RangeIndex: 1459 entries, 0 to 1458\n",
      "Data columns (total 80 columns):\n",
      " #   Column         Non-Null Count  Dtype  \n",
      "---  ------         --------------  -----  \n",
      " 0   Id             1459 non-null   int64  \n",
      " 1   MSSubClass     1459 non-null   int64  \n",
      " 2   MSZoning       1455 non-null   object \n",
      " 3   LotFrontage    1232 non-null   float64\n",
      " 4   LotArea        1459 non-null   int64  \n",
      " 5   Street         1459 non-null   object \n",
      " 6   Alley          107 non-null    object \n",
      " 7   LotShape       1459 non-null   object \n",
      " 8   LandContour    1459 non-null   object \n",
      " 9   Utilities      1457 non-null   object \n",
      " 10  LotConfig      1459 non-null   object \n",
      " 11  LandSlope      1459 non-null   object \n",
      " 12  Neighborhood   1459 non-null   object \n",
      " 13  Condition1     1459 non-null   object \n",
      " 14  Condition2     1459 non-null   object \n",
      " 15  BldgType       1459 non-null   object \n",
      " 16  HouseStyle     1459 non-null   object \n",
      " 17  OverallQual    1459 non-null   int64  \n",
      " 18  OverallCond    1459 non-null   int64  \n",
      " 19  YearBuilt      1459 non-null   int64  \n",
      " 20  YearRemodAdd   1459 non-null   int64  \n",
      " 21  RoofStyle      1459 non-null   object \n",
      " 22  RoofMatl       1459 non-null   object \n",
      " 23  Exterior1st    1458 non-null   object \n",
      " 24  Exterior2nd    1458 non-null   object \n",
      " 25  MasVnrType     1443 non-null   object \n",
      " 26  MasVnrArea     1444 non-null   float64\n",
      " 27  ExterQual      1459 non-null   object \n",
      " 28  ExterCond      1459 non-null   object \n",
      " 29  Foundation     1459 non-null   object \n",
      " 30  BsmtQual       1415 non-null   object \n",
      " 31  BsmtCond       1414 non-null   object \n",
      " 32  BsmtExposure   1415 non-null   object \n",
      " 33  BsmtFinType1   1417 non-null   object \n",
      " 34  BsmtFinSF1     1458 non-null   float64\n",
      " 35  BsmtFinType2   1417 non-null   object \n",
      " 36  BsmtFinSF2     1458 non-null   float64\n",
      " 37  BsmtUnfSF      1458 non-null   float64\n",
      " 38  TotalBsmtSF    1458 non-null   float64\n",
      " 39  Heating        1459 non-null   object \n",
      " 40  HeatingQC      1459 non-null   object \n",
      " 41  CentralAir     1459 non-null   object \n",
      " 42  Electrical     1459 non-null   object \n",
      " 43  1stFlrSF       1459 non-null   int64  \n",
      " 44  2ndFlrSF       1459 non-null   int64  \n",
      " 45  LowQualFinSF   1459 non-null   int64  \n",
      " 46  GrLivArea      1459 non-null   int64  \n",
      " 47  BsmtFullBath   1457 non-null   float64\n",
      " 48  BsmtHalfBath   1457 non-null   float64\n",
      " 49  FullBath       1459 non-null   int64  \n",
      " 50  HalfBath       1459 non-null   int64  \n",
      " 51  BedroomAbvGr   1459 non-null   int64  \n",
      " 52  KitchenAbvGr   1459 non-null   int64  \n",
      " 53  KitchenQual    1458 non-null   object \n",
      " 54  TotRmsAbvGrd   1459 non-null   int64  \n",
      " 55  Functional     1457 non-null   object \n",
      " 56  Fireplaces     1459 non-null   int64  \n",
      " 57  FireplaceQu    729 non-null    object \n",
      " 58  GarageType     1383 non-null   object \n",
      " 59  GarageYrBlt    1381 non-null   float64\n",
      " 60  GarageFinish   1381 non-null   object \n",
      " 61  GarageCars     1458 non-null   float64\n",
      " 62  GarageArea     1458 non-null   float64\n",
      " 63  GarageQual     1381 non-null   object \n",
      " 64  GarageCond     1381 non-null   object \n",
      " 65  PavedDrive     1459 non-null   object \n",
      " 66  WoodDeckSF     1459 non-null   int64  \n",
      " 67  OpenPorchSF    1459 non-null   int64  \n",
      " 68  EnclosedPorch  1459 non-null   int64  \n",
      " 69  3SsnPorch      1459 non-null   int64  \n",
      " 70  ScreenPorch    1459 non-null   int64  \n",
      " 71  PoolArea       1459 non-null   int64  \n",
      " 72  PoolQC         3 non-null      object \n",
      " 73  Fence          290 non-null    object \n",
      " 74  MiscFeature    51 non-null     object \n",
      " 75  MiscVal        1459 non-null   int64  \n",
      " 76  MoSold         1459 non-null   int64  \n",
      " 77  YrSold         1459 non-null   int64  \n",
      " 78  SaleType       1458 non-null   object \n",
      " 79  SaleCondition  1459 non-null   object \n",
      "dtypes: float64(11), int64(26), object(43)\n",
      "memory usage: 912.0+ KB\n"
     ]
    }
   ],
   "source": [
    "test.info()"
   ]
  },
  {
   "cell_type": "markdown",
   "metadata": {},
   "source": [
    "Data exploration:"
   ]
  },
  {
   "cell_type": "code",
   "execution_count": 290,
   "metadata": {},
   "outputs": [
    {
     "name": "stdout",
     "output_type": "stream",
     "text": [
      "<class 'pandas.core.frame.DataFrame'>\n",
      "RangeIndex: 1460 entries, 0 to 1459\n",
      "Data columns (total 81 columns):\n",
      " #   Column         Non-Null Count  Dtype  \n",
      "---  ------         --------------  -----  \n",
      " 0   Id             1460 non-null   int64  \n",
      " 1   MSSubClass     1460 non-null   int64  \n",
      " 2   MSZoning       1460 non-null   object \n",
      " 3   LotFrontage    1201 non-null   float64\n",
      " 4   LotArea        1460 non-null   int64  \n",
      " 5   Street         1460 non-null   object \n",
      " 6   Alley          91 non-null     object \n",
      " 7   LotShape       1460 non-null   object \n",
      " 8   LandContour    1460 non-null   object \n",
      " 9   Utilities      1460 non-null   object \n",
      " 10  LotConfig      1460 non-null   object \n",
      " 11  LandSlope      1460 non-null   object \n",
      " 12  Neighborhood   1460 non-null   object \n",
      " 13  Condition1     1460 non-null   object \n",
      " 14  Condition2     1460 non-null   object \n",
      " 15  BldgType       1460 non-null   object \n",
      " 16  HouseStyle     1460 non-null   object \n",
      " 17  OverallQual    1460 non-null   int64  \n",
      " 18  OverallCond    1460 non-null   int64  \n",
      " 19  YearBuilt      1460 non-null   int64  \n",
      " 20  YearRemodAdd   1460 non-null   int64  \n",
      " 21  RoofStyle      1460 non-null   object \n",
      " 22  RoofMatl       1460 non-null   object \n",
      " 23  Exterior1st    1460 non-null   object \n",
      " 24  Exterior2nd    1460 non-null   object \n",
      " 25  MasVnrType     1452 non-null   object \n",
      " 26  MasVnrArea     1452 non-null   float64\n",
      " 27  ExterQual      1460 non-null   object \n",
      " 28  ExterCond      1460 non-null   object \n",
      " 29  Foundation     1460 non-null   object \n",
      " 30  BsmtQual       1423 non-null   object \n",
      " 31  BsmtCond       1423 non-null   object \n",
      " 32  BsmtExposure   1422 non-null   object \n",
      " 33  BsmtFinType1   1423 non-null   object \n",
      " 34  BsmtFinSF1     1460 non-null   int64  \n",
      " 35  BsmtFinType2   1422 non-null   object \n",
      " 36  BsmtFinSF2     1460 non-null   int64  \n",
      " 37  BsmtUnfSF      1460 non-null   int64  \n",
      " 38  TotalBsmtSF    1460 non-null   int64  \n",
      " 39  Heating        1460 non-null   object \n",
      " 40  HeatingQC      1460 non-null   object \n",
      " 41  CentralAir     1460 non-null   object \n",
      " 42  Electrical     1459 non-null   object \n",
      " 43  1stFlrSF       1460 non-null   int64  \n",
      " 44  2ndFlrSF       1460 non-null   int64  \n",
      " 45  LowQualFinSF   1460 non-null   int64  \n",
      " 46  GrLivArea      1460 non-null   int64  \n",
      " 47  BsmtFullBath   1460 non-null   int64  \n",
      " 48  BsmtHalfBath   1460 non-null   int64  \n",
      " 49  FullBath       1460 non-null   int64  \n",
      " 50  HalfBath       1460 non-null   int64  \n",
      " 51  BedroomAbvGr   1460 non-null   int64  \n",
      " 52  KitchenAbvGr   1460 non-null   int64  \n",
      " 53  KitchenQual    1460 non-null   object \n",
      " 54  TotRmsAbvGrd   1460 non-null   int64  \n",
      " 55  Functional     1460 non-null   object \n",
      " 56  Fireplaces     1460 non-null   int64  \n",
      " 57  FireplaceQu    770 non-null    object \n",
      " 58  GarageType     1379 non-null   object \n",
      " 59  GarageYrBlt    1379 non-null   float64\n",
      " 60  GarageFinish   1379 non-null   object \n",
      " 61  GarageCars     1460 non-null   int64  \n",
      " 62  GarageArea     1460 non-null   int64  \n",
      " 63  GarageQual     1379 non-null   object \n",
      " 64  GarageCond     1379 non-null   object \n",
      " 65  PavedDrive     1460 non-null   object \n",
      " 66  WoodDeckSF     1460 non-null   int64  \n",
      " 67  OpenPorchSF    1460 non-null   int64  \n",
      " 68  EnclosedPorch  1460 non-null   int64  \n",
      " 69  3SsnPorch      1460 non-null   int64  \n",
      " 70  ScreenPorch    1460 non-null   int64  \n",
      " 71  PoolArea       1460 non-null   int64  \n",
      " 72  PoolQC         7 non-null      object \n",
      " 73  Fence          281 non-null    object \n",
      " 74  MiscFeature    54 non-null     object \n",
      " 75  MiscVal        1460 non-null   int64  \n",
      " 76  MoSold         1460 non-null   int64  \n",
      " 77  YrSold         1460 non-null   int64  \n",
      " 78  SaleType       1460 non-null   object \n",
      " 79  SaleCondition  1460 non-null   object \n",
      " 80  SalePrice      1460 non-null   int64  \n",
      "dtypes: float64(3), int64(35), object(43)\n",
      "memory usage: 924.0+ KB\n"
     ]
    }
   ],
   "source": [
    "df.info()"
   ]
  },
  {
   "cell_type": "code",
   "execution_count": 291,
   "metadata": {},
   "outputs": [
    {
     "data": {
      "text/html": [
       "<div>\n",
       "<style scoped>\n",
       "    .dataframe tbody tr th:only-of-type {\n",
       "        vertical-align: middle;\n",
       "    }\n",
       "\n",
       "    .dataframe tbody tr th {\n",
       "        vertical-align: top;\n",
       "    }\n",
       "\n",
       "    .dataframe thead th {\n",
       "        text-align: right;\n",
       "    }\n",
       "</style>\n",
       "<table border=\"1\" class=\"dataframe\">\n",
       "  <thead>\n",
       "    <tr style=\"text-align: right;\">\n",
       "      <th></th>\n",
       "      <th>Id</th>\n",
       "      <th>MSSubClass</th>\n",
       "      <th>LotFrontage</th>\n",
       "      <th>LotArea</th>\n",
       "      <th>OverallQual</th>\n",
       "      <th>OverallCond</th>\n",
       "      <th>YearBuilt</th>\n",
       "      <th>YearRemodAdd</th>\n",
       "      <th>MasVnrArea</th>\n",
       "      <th>BsmtFinSF1</th>\n",
       "      <th>...</th>\n",
       "      <th>WoodDeckSF</th>\n",
       "      <th>OpenPorchSF</th>\n",
       "      <th>EnclosedPorch</th>\n",
       "      <th>3SsnPorch</th>\n",
       "      <th>ScreenPorch</th>\n",
       "      <th>PoolArea</th>\n",
       "      <th>MiscVal</th>\n",
       "      <th>MoSold</th>\n",
       "      <th>YrSold</th>\n",
       "      <th>SalePrice</th>\n",
       "    </tr>\n",
       "  </thead>\n",
       "  <tbody>\n",
       "    <tr>\n",
       "      <th>count</th>\n",
       "      <td>1460.000000</td>\n",
       "      <td>1460.000000</td>\n",
       "      <td>1201.000000</td>\n",
       "      <td>1460.000000</td>\n",
       "      <td>1460.000000</td>\n",
       "      <td>1460.000000</td>\n",
       "      <td>1460.000000</td>\n",
       "      <td>1460.000000</td>\n",
       "      <td>1452.000000</td>\n",
       "      <td>1460.000000</td>\n",
       "      <td>...</td>\n",
       "      <td>1460.000000</td>\n",
       "      <td>1460.000000</td>\n",
       "      <td>1460.000000</td>\n",
       "      <td>1460.000000</td>\n",
       "      <td>1460.000000</td>\n",
       "      <td>1460.000000</td>\n",
       "      <td>1460.000000</td>\n",
       "      <td>1460.000000</td>\n",
       "      <td>1460.000000</td>\n",
       "      <td>1460.000000</td>\n",
       "    </tr>\n",
       "    <tr>\n",
       "      <th>mean</th>\n",
       "      <td>730.500000</td>\n",
       "      <td>56.897260</td>\n",
       "      <td>70.049958</td>\n",
       "      <td>10516.828082</td>\n",
       "      <td>6.099315</td>\n",
       "      <td>5.575342</td>\n",
       "      <td>1971.267808</td>\n",
       "      <td>1984.865753</td>\n",
       "      <td>103.685262</td>\n",
       "      <td>443.639726</td>\n",
       "      <td>...</td>\n",
       "      <td>94.244521</td>\n",
       "      <td>46.660274</td>\n",
       "      <td>21.954110</td>\n",
       "      <td>3.409589</td>\n",
       "      <td>15.060959</td>\n",
       "      <td>2.758904</td>\n",
       "      <td>43.489041</td>\n",
       "      <td>6.321918</td>\n",
       "      <td>2007.815753</td>\n",
       "      <td>180921.195890</td>\n",
       "    </tr>\n",
       "    <tr>\n",
       "      <th>std</th>\n",
       "      <td>421.610009</td>\n",
       "      <td>42.300571</td>\n",
       "      <td>24.284752</td>\n",
       "      <td>9981.264932</td>\n",
       "      <td>1.382997</td>\n",
       "      <td>1.112799</td>\n",
       "      <td>30.202904</td>\n",
       "      <td>20.645407</td>\n",
       "      <td>181.066207</td>\n",
       "      <td>456.098091</td>\n",
       "      <td>...</td>\n",
       "      <td>125.338794</td>\n",
       "      <td>66.256028</td>\n",
       "      <td>61.119149</td>\n",
       "      <td>29.317331</td>\n",
       "      <td>55.757415</td>\n",
       "      <td>40.177307</td>\n",
       "      <td>496.123024</td>\n",
       "      <td>2.703626</td>\n",
       "      <td>1.328095</td>\n",
       "      <td>79442.502883</td>\n",
       "    </tr>\n",
       "    <tr>\n",
       "      <th>min</th>\n",
       "      <td>1.000000</td>\n",
       "      <td>20.000000</td>\n",
       "      <td>21.000000</td>\n",
       "      <td>1300.000000</td>\n",
       "      <td>1.000000</td>\n",
       "      <td>1.000000</td>\n",
       "      <td>1872.000000</td>\n",
       "      <td>1950.000000</td>\n",
       "      <td>0.000000</td>\n",
       "      <td>0.000000</td>\n",
       "      <td>...</td>\n",
       "      <td>0.000000</td>\n",
       "      <td>0.000000</td>\n",
       "      <td>0.000000</td>\n",
       "      <td>0.000000</td>\n",
       "      <td>0.000000</td>\n",
       "      <td>0.000000</td>\n",
       "      <td>0.000000</td>\n",
       "      <td>1.000000</td>\n",
       "      <td>2006.000000</td>\n",
       "      <td>34900.000000</td>\n",
       "    </tr>\n",
       "    <tr>\n",
       "      <th>25%</th>\n",
       "      <td>365.750000</td>\n",
       "      <td>20.000000</td>\n",
       "      <td>59.000000</td>\n",
       "      <td>7553.500000</td>\n",
       "      <td>5.000000</td>\n",
       "      <td>5.000000</td>\n",
       "      <td>1954.000000</td>\n",
       "      <td>1967.000000</td>\n",
       "      <td>0.000000</td>\n",
       "      <td>0.000000</td>\n",
       "      <td>...</td>\n",
       "      <td>0.000000</td>\n",
       "      <td>0.000000</td>\n",
       "      <td>0.000000</td>\n",
       "      <td>0.000000</td>\n",
       "      <td>0.000000</td>\n",
       "      <td>0.000000</td>\n",
       "      <td>0.000000</td>\n",
       "      <td>5.000000</td>\n",
       "      <td>2007.000000</td>\n",
       "      <td>129975.000000</td>\n",
       "    </tr>\n",
       "    <tr>\n",
       "      <th>50%</th>\n",
       "      <td>730.500000</td>\n",
       "      <td>50.000000</td>\n",
       "      <td>69.000000</td>\n",
       "      <td>9478.500000</td>\n",
       "      <td>6.000000</td>\n",
       "      <td>5.000000</td>\n",
       "      <td>1973.000000</td>\n",
       "      <td>1994.000000</td>\n",
       "      <td>0.000000</td>\n",
       "      <td>383.500000</td>\n",
       "      <td>...</td>\n",
       "      <td>0.000000</td>\n",
       "      <td>25.000000</td>\n",
       "      <td>0.000000</td>\n",
       "      <td>0.000000</td>\n",
       "      <td>0.000000</td>\n",
       "      <td>0.000000</td>\n",
       "      <td>0.000000</td>\n",
       "      <td>6.000000</td>\n",
       "      <td>2008.000000</td>\n",
       "      <td>163000.000000</td>\n",
       "    </tr>\n",
       "    <tr>\n",
       "      <th>75%</th>\n",
       "      <td>1095.250000</td>\n",
       "      <td>70.000000</td>\n",
       "      <td>80.000000</td>\n",
       "      <td>11601.500000</td>\n",
       "      <td>7.000000</td>\n",
       "      <td>6.000000</td>\n",
       "      <td>2000.000000</td>\n",
       "      <td>2004.000000</td>\n",
       "      <td>166.000000</td>\n",
       "      <td>712.250000</td>\n",
       "      <td>...</td>\n",
       "      <td>168.000000</td>\n",
       "      <td>68.000000</td>\n",
       "      <td>0.000000</td>\n",
       "      <td>0.000000</td>\n",
       "      <td>0.000000</td>\n",
       "      <td>0.000000</td>\n",
       "      <td>0.000000</td>\n",
       "      <td>8.000000</td>\n",
       "      <td>2009.000000</td>\n",
       "      <td>214000.000000</td>\n",
       "    </tr>\n",
       "    <tr>\n",
       "      <th>max</th>\n",
       "      <td>1460.000000</td>\n",
       "      <td>190.000000</td>\n",
       "      <td>313.000000</td>\n",
       "      <td>215245.000000</td>\n",
       "      <td>10.000000</td>\n",
       "      <td>9.000000</td>\n",
       "      <td>2010.000000</td>\n",
       "      <td>2010.000000</td>\n",
       "      <td>1600.000000</td>\n",
       "      <td>5644.000000</td>\n",
       "      <td>...</td>\n",
       "      <td>857.000000</td>\n",
       "      <td>547.000000</td>\n",
       "      <td>552.000000</td>\n",
       "      <td>508.000000</td>\n",
       "      <td>480.000000</td>\n",
       "      <td>738.000000</td>\n",
       "      <td>15500.000000</td>\n",
       "      <td>12.000000</td>\n",
       "      <td>2010.000000</td>\n",
       "      <td>755000.000000</td>\n",
       "    </tr>\n",
       "  </tbody>\n",
       "</table>\n",
       "<p>8 rows × 38 columns</p>\n",
       "</div>"
      ],
      "text/plain": [
       "                Id   MSSubClass  LotFrontage        LotArea  OverallQual  \\\n",
       "count  1460.000000  1460.000000  1201.000000    1460.000000  1460.000000   \n",
       "mean    730.500000    56.897260    70.049958   10516.828082     6.099315   \n",
       "std     421.610009    42.300571    24.284752    9981.264932     1.382997   \n",
       "min       1.000000    20.000000    21.000000    1300.000000     1.000000   \n",
       "25%     365.750000    20.000000    59.000000    7553.500000     5.000000   \n",
       "50%     730.500000    50.000000    69.000000    9478.500000     6.000000   \n",
       "75%    1095.250000    70.000000    80.000000   11601.500000     7.000000   \n",
       "max    1460.000000   190.000000   313.000000  215245.000000    10.000000   \n",
       "\n",
       "       OverallCond    YearBuilt  YearRemodAdd   MasVnrArea   BsmtFinSF1  ...  \\\n",
       "count  1460.000000  1460.000000   1460.000000  1452.000000  1460.000000  ...   \n",
       "mean      5.575342  1971.267808   1984.865753   103.685262   443.639726  ...   \n",
       "std       1.112799    30.202904     20.645407   181.066207   456.098091  ...   \n",
       "min       1.000000  1872.000000   1950.000000     0.000000     0.000000  ...   \n",
       "25%       5.000000  1954.000000   1967.000000     0.000000     0.000000  ...   \n",
       "50%       5.000000  1973.000000   1994.000000     0.000000   383.500000  ...   \n",
       "75%       6.000000  2000.000000   2004.000000   166.000000   712.250000  ...   \n",
       "max       9.000000  2010.000000   2010.000000  1600.000000  5644.000000  ...   \n",
       "\n",
       "        WoodDeckSF  OpenPorchSF  EnclosedPorch    3SsnPorch  ScreenPorch  \\\n",
       "count  1460.000000  1460.000000    1460.000000  1460.000000  1460.000000   \n",
       "mean     94.244521    46.660274      21.954110     3.409589    15.060959   \n",
       "std     125.338794    66.256028      61.119149    29.317331    55.757415   \n",
       "min       0.000000     0.000000       0.000000     0.000000     0.000000   \n",
       "25%       0.000000     0.000000       0.000000     0.000000     0.000000   \n",
       "50%       0.000000    25.000000       0.000000     0.000000     0.000000   \n",
       "75%     168.000000    68.000000       0.000000     0.000000     0.000000   \n",
       "max     857.000000   547.000000     552.000000   508.000000   480.000000   \n",
       "\n",
       "          PoolArea       MiscVal       MoSold       YrSold      SalePrice  \n",
       "count  1460.000000   1460.000000  1460.000000  1460.000000    1460.000000  \n",
       "mean      2.758904     43.489041     6.321918  2007.815753  180921.195890  \n",
       "std      40.177307    496.123024     2.703626     1.328095   79442.502883  \n",
       "min       0.000000      0.000000     1.000000  2006.000000   34900.000000  \n",
       "25%       0.000000      0.000000     5.000000  2007.000000  129975.000000  \n",
       "50%       0.000000      0.000000     6.000000  2008.000000  163000.000000  \n",
       "75%       0.000000      0.000000     8.000000  2009.000000  214000.000000  \n",
       "max     738.000000  15500.000000    12.000000  2010.000000  755000.000000  \n",
       "\n",
       "[8 rows x 38 columns]"
      ]
     },
     "execution_count": 291,
     "metadata": {},
     "output_type": "execute_result"
    }
   ],
   "source": [
    "df.describe()"
   ]
  },
  {
   "cell_type": "code",
   "execution_count": 292,
   "metadata": {},
   "outputs": [
    {
     "data": {
      "text/plain": [
       "KitchenAbvGr    -0.135907\n",
       "EnclosedPorch   -0.128578\n",
       "MSSubClass      -0.084284\n",
       "OverallCond     -0.077856\n",
       "YrSold          -0.028923\n",
       "LowQualFinSF    -0.025606\n",
       "Id              -0.021917\n",
       "MiscVal         -0.021190\n",
       "BsmtHalfBath    -0.016844\n",
       "BsmtFinSF2      -0.011378\n",
       "3SsnPorch        0.044584\n",
       "MoSold           0.046432\n",
       "PoolArea         0.092404\n",
       "ScreenPorch      0.111447\n",
       "BedroomAbvGr     0.168213\n",
       "BsmtUnfSF        0.214479\n",
       "BsmtFullBath     0.227122\n",
       "LotArea          0.263843\n",
       "HalfBath         0.284108\n",
       "OpenPorchSF      0.315856\n",
       "2ndFlrSF         0.319334\n",
       "WoodDeckSF       0.324413\n",
       "LotFrontage      0.351799\n",
       "BsmtFinSF1       0.386420\n",
       "Fireplaces       0.466929\n",
       "MasVnrArea       0.477493\n",
       "GarageYrBlt      0.486362\n",
       "YearRemodAdd     0.507101\n",
       "YearBuilt        0.522897\n",
       "TotRmsAbvGrd     0.533723\n",
       "FullBath         0.560664\n",
       "1stFlrSF         0.605852\n",
       "TotalBsmtSF      0.613581\n",
       "GarageArea       0.623431\n",
       "GarageCars       0.640409\n",
       "GrLivArea        0.708624\n",
       "OverallQual      0.790982\n",
       "Name: SalePrice, dtype: float64"
      ]
     },
     "execution_count": 292,
     "metadata": {},
     "output_type": "execute_result"
    }
   ],
   "source": [
    "df.corr().loc['SalePrice'][:-1].sort_values()"
   ]
  },
  {
   "cell_type": "code",
   "execution_count": 293,
   "metadata": {},
   "outputs": [
    {
     "data": {
      "text/plain": [
       "(array([ 5.,  0.,  5.,  6.,  6.,  7., 32., 29., 23., 35., 59., 67., 73.,\n",
       "        92., 89., 91., 62., 60., 57., 73., 67., 54., 45., 33., 30., 31.,\n",
       "        31., 33., 26., 23., 17., 19., 18., 18., 14., 11.,  5.,  8., 13.,\n",
       "        12., 10.,  6.,  6.,  5.,  1.,  3.,  5.,  6.,  5.,  4.,  3.,  2.,\n",
       "         3.,  1.,  3.,  1.,  2.,  2.,  0.,  2.,  0.,  1.,  1.,  0.,  1.,\n",
       "         0.,  0.,  0.,  0.,  1.,  0.,  0.,  2.,  0.,  0.,  0.,  1.,  0.,\n",
       "         0.,  0.,  1.,  1.,  0.,  0.,  0.,  0.,  0.,  0.,  0.,  0.,  0.,\n",
       "         0.,  0.,  0.,  0.,  0.,  0.,  0.,  1.,  1.]),\n",
       " array([ 34900.,  42101.,  49302.,  56503.,  63704.,  70905.,  78106.,\n",
       "         85307.,  92508.,  99709., 106910., 114111., 121312., 128513.,\n",
       "        135714., 142915., 150116., 157317., 164518., 171719., 178920.,\n",
       "        186121., 193322., 200523., 207724., 214925., 222126., 229327.,\n",
       "        236528., 243729., 250930., 258131., 265332., 272533., 279734.,\n",
       "        286935., 294136., 301337., 308538., 315739., 322940., 330141.,\n",
       "        337342., 344543., 351744., 358945., 366146., 373347., 380548.,\n",
       "        387749., 394950., 402151., 409352., 416553., 423754., 430955.,\n",
       "        438156., 445357., 452558., 459759., 466960., 474161., 481362.,\n",
       "        488563., 495764., 502965., 510166., 517367., 524568., 531769.,\n",
       "        538970., 546171., 553372., 560573., 567774., 574975., 582176.,\n",
       "        589377., 596578., 603779., 610980., 618181., 625382., 632583.,\n",
       "        639784., 646985., 654186., 661387., 668588., 675789., 682990.,\n",
       "        690191., 697392., 704593., 711794., 718995., 726196., 733397.,\n",
       "        740598., 747799., 755000.]),\n",
       " <a list of 100 Patch objects>)"
      ]
     },
     "execution_count": 293,
     "metadata": {},
     "output_type": "execute_result"
    },
    {
     "data": {
      "image/png": "[encoded data removed]",
      "text/plain": [
       "<Figure size 720x432 with 1 Axes>"
      ]
     },
     "metadata": {
      "needs_background": "light"
     },
     "output_type": "display_data"
    }
   ],
   "source": [
    "plt.figure(figsize=(10,6))\n",
    "plt.hist(df['SalePrice'], bins=100)"
   ]
  },
  {
   "cell_type": "markdown",
   "metadata": {},
   "source": [
    "Data cleaning:"
   ]
  },
  {
   "cell_type": "code",
   "execution_count": 294,
   "metadata": {},
   "outputs": [],
   "source": [
    "df = pd.concat((df, test), sort=False).reset_index(drop=True)"
   ]
  },
  {
   "cell_type": "code",
   "execution_count": 295,
   "metadata": {},
   "outputs": [
    {
     "data": {
      "text/plain": [
       "<matplotlib.axes._subplots.AxesSubplot at 0x7ff3381fa0d0>"
      ]
     },
     "execution_count": 295,
     "metadata": {},
     "output_type": "execute_result"
    },
    {
     "data": {
      "image/png": "[encoded data removed]",
      "text/plain": [
       "<Figure size 1152x720 with 1 Axes>"
      ]
     },
     "metadata": {
      "needs_background": "light"
     },
     "output_type": "display_data"
    }
   ],
   "source": [
    "plt.figure(figsize=(16,10))\n",
    "sns.heatmap(test.isnull(), yticklabels=False, cbar=False, cmap='viridis')"
   ]
  },
  {
   "cell_type": "code",
   "execution_count": 296,
   "metadata": {},
   "outputs": [
    {
     "data": {
      "text/plain": [
       "<matplotlib.axes._subplots.AxesSubplot at 0x7ff338068410>"
      ]
     },
     "execution_count": 296,
     "metadata": {},
     "output_type": "execute_result"
    },
    {
     "data": {
      "image/png": "[encoded data removed]",
      "text/plain": [
       "<Figure size 1152x720 with 1 Axes>"
      ]
     },
     "metadata": {
      "needs_background": "light"
     },
     "output_type": "display_data"
    }
   ],
   "source": [
    "plt.figure(figsize=(16,10))\n",
    "sns.heatmap(df.isnull(), yticklabels=False, cbar=False, cmap='viridis')"
   ]
  },
  {
   "cell_type": "markdown",
   "metadata": {},
   "source": [
    "LotFrontage: Linear feet of street connected to property"
   ]
  },
  {
   "cell_type": "code",
   "execution_count": 297,
   "metadata": {},
   "outputs": [
    {
     "data": {
      "text/plain": [
       "MSSubClass      -0.417359\n",
       "OverallCond     -0.075508\n",
       "Id              -0.027549\n",
       "BsmtHalfBath    -0.025629\n",
       "YrSold          -0.007917\n",
       "KitchenAbvGr     0.004676\n",
       "LowQualFinSF     0.004894\n",
       "MoSold           0.011254\n",
       "EnclosedPorch    0.011509\n",
       "2ndFlrSF         0.026545\n",
       "3SsnPorch        0.028289\n",
       "HalfBath         0.039452\n",
       "MiscVal          0.044272\n",
       "BsmtFinSF2       0.047431\n",
       "ScreenPorch      0.075858\n",
       "GarageYrBlt      0.076673\n",
       "YearRemodAdd     0.091557\n",
       "BsmtFullBath     0.113245\n",
       "BsmtUnfSF        0.113714\n",
       "WoodDeckSF       0.122070\n",
       "YearBuilt        0.122811\n",
       "OpenPorchSF      0.164896\n",
       "PoolArea         0.174119\n",
       "FullBath         0.181668\n",
       "OverallQual      0.217645\n",
       "BsmtFinSF1       0.219408\n",
       "MasVnrArea       0.221079\n",
       "BedroomAbvGr     0.234892\n",
       "Fireplaces       0.261970\n",
       "GarageCars       0.310587\n",
       "TotRmsAbvGrd     0.349513\n",
       "SalePrice        0.351799\n",
       "TotalBsmtSF      0.354822\n",
       "GarageArea       0.359786\n",
       "GrLivArea        0.382462\n",
       "1stFlrSF         0.458247\n",
       "LotArea          0.489896\n",
       "Name: LotFrontage, dtype: float64"
      ]
     },
     "execution_count": 297,
     "metadata": {},
     "output_type": "execute_result"
    }
   ],
   "source": [
    "df.corr().loc['LotFrontage'].sort_values()[:-1]"
   ]
  },
  {
   "cell_type": "markdown",
   "metadata": {},
   "source": [
    "Correlated with 1stFlrSF: First Floor square feet"
   ]
  },
  {
   "cell_type": "code",
   "execution_count": 298,
   "metadata": {},
   "outputs": [],
   "source": [
    "lotfrontagecalc=df[['LotFrontage', '1stFlrSF']].dropna()"
   ]
  },
  {
   "cell_type": "code",
   "execution_count": 299,
   "metadata": {},
   "outputs": [
    {
     "data": {
      "text/plain": [
       "<matplotlib.legend.Legend at 0x7ff31c5d5fd0>"
      ]
     },
     "execution_count": 299,
     "metadata": {},
     "output_type": "execute_result"
    },
    {
     "data": {
      "image/png": "[encoded data removed]",
      "text/plain": [
       "<Figure size 432x288 with 1 Axes>"
      ]
     },
     "metadata": {
      "needs_background": "light"
     },
     "output_type": "display_data"
    }
   ],
   "source": [
    "slope, intercept, r_value, p_value, std_err = stats.linregress(lotfrontagecalc['1stFlrSF'],lotfrontagecalc['LotFrontage'])\n",
    "sns.regplot(x='1stFlrSF', y='LotFrontage', data=lotfrontagecalc, \n",
    " label=\"y={0:.2f}x+{1:.1f}\".format(slope, intercept)).legend(loc=\"best\")"
   ]
  },
  {
   "cell_type": "code",
   "execution_count": 300,
   "metadata": {},
   "outputs": [
    {
     "data": {
      "text/plain": [
       "LinregressResult(slope=0.026892320561333168, intercept=38.29120144715462, rvalue=0.4582474665823353, pvalue=1.3156806813593237e-126, stderr=0.0010579175411813975)"
      ]
     },
     "execution_count": 300,
     "metadata": {},
     "output_type": "execute_result"
    }
   ],
   "source": [
    "stats.linregress(lotfrontagecalc['1stFlrSF'], lotfrontagecalc['LotFrontage'])"
   ]
  },
  {
   "cell_type": "code",
   "execution_count": 301,
   "metadata": {},
   "outputs": [],
   "source": [
    "def fill_lotfrontage(x):\n",
    "    LotFrontage=x[0]\n",
    "    stFlrSF=x[1]\n",
    "    \n",
    "    if pd.isnull(LotFrontage):\n",
    "        return 0.028743*stFlrSF+36.75\n",
    "    else:\n",
    "        return LotFrontage\n",
    "    \n",
    "    \n",
    "    \n",
    "    "
   ]
  },
  {
   "cell_type": "code",
   "execution_count": 302,
   "metadata": {},
   "outputs": [],
   "source": [
    "#lottest=test[['LotFrontage', '1stFlrSF']].dropna()\n",
    "#stats.linregress(lottest['1stFlrSF'], lottest['LotFrontage'])"
   ]
  },
  {
   "cell_type": "code",
   "execution_count": 303,
   "metadata": {},
   "outputs": [],
   "source": [
    "#def fill_lottest(x):\n",
    "    #LotFrontage=x[0]\n",
    "   # stFlrSF=x[1]\n",
    "    \n",
    "    #if pd.isnull(LotFrontage):\n",
    "       # return 0.02524*stFlrSF+39.59\n",
    "    #else:\n",
    "       # return LotFrontage\n",
    "    "
   ]
  },
  {
   "cell_type": "code",
   "execution_count": 304,
   "metadata": {},
   "outputs": [],
   "source": [
    "df['LotFrontage']=df[['LotFrontage','1stFlrSF']].apply(fill_lotfrontage, axis=1)\n",
    "#test['LotFrontage']=df[['LotFrontage', '1stFlrSF']].apply(fill_lottest, axis=1)"
   ]
  },
  {
   "cell_type": "code",
   "execution_count": 305,
   "metadata": {},
   "outputs": [
    {
     "data": {
      "text/plain": [
       "<matplotlib.axes._subplots.AxesSubplot at 0x7ff31c78f410>"
      ]
     },
     "execution_count": 305,
     "metadata": {},
     "output_type": "execute_result"
    },
    {
     "data": {
      "image/png": "[encoded data removed]",
      "text/plain": [
       "<Figure size 1152x432 with 1 Axes>"
      ]
     },
     "metadata": {
      "needs_background": "light"
     },
     "output_type": "display_data"
    }
   ],
   "source": [
    "plt.figure(figsize=(16,6))\n",
    "sns.heatmap(df.isnull(), yticklabels=False, cbar=False, cmap='viridis')"
   ]
  },
  {
   "cell_type": "markdown",
   "metadata": {},
   "source": [
    "Too much data is missing:\n",
    "- Alley: Type of alley access\n",
    "- FireplaceQu: Fireplace quality\n",
    "- PoolQC: Pool quality\n",
    "- Fence: Fence quality\n",
    "- MiscFeature: Miscellaneous feature not covered in other categories\n"
   ]
  },
  {
   "cell_type": "code",
   "execution_count": 306,
   "metadata": {},
   "outputs": [
    {
     "data": {
      "text/plain": [
       "Grvl    120\n",
       "Pave     78\n",
       "Name: Alley, dtype: int64"
      ]
     },
     "execution_count": 306,
     "metadata": {},
     "output_type": "execute_result"
    }
   ],
   "source": [
    "df['Alley'].value_counts()"
   ]
  },
  {
   "cell_type": "code",
   "execution_count": 307,
   "metadata": {},
   "outputs": [
    {
     "data": {
      "text/plain": [
       "<matplotlib.axes._subplots.AxesSubplot at 0x7ff31c5788d0>"
      ]
     },
     "execution_count": 307,
     "metadata": {},
     "output_type": "execute_result"
    },
    {
     "data": {
      "image/png": "[encoded data removed]",
      "text/plain": [
       "<Figure size 432x288 with 1 Axes>"
      ]
     },
     "metadata": {
      "needs_background": "light"
     },
     "output_type": "display_data"
    }
   ],
   "source": [
    "sns.boxplot(y='SalePrice', x='Alley', data=df)"
   ]
  },
  {
   "cell_type": "code",
   "execution_count": 308,
   "metadata": {},
   "outputs": [
    {
     "data": {
      "text/plain": [
       "Gd    744\n",
       "TA    592\n",
       "Fa     74\n",
       "Po     46\n",
       "Ex     43\n",
       "Name: FireplaceQu, dtype: int64"
      ]
     },
     "execution_count": 308,
     "metadata": {},
     "output_type": "execute_result"
    }
   ],
   "source": [
    "df['FireplaceQu'].value_counts()"
   ]
  },
  {
   "cell_type": "code",
   "execution_count": 309,
   "metadata": {},
   "outputs": [
    {
     "data": {
      "text/plain": [
       "<matplotlib.axes._subplots.AxesSubplot at 0x7ff31c3a56d0>"
      ]
     },
     "execution_count": 309,
     "metadata": {},
     "output_type": "execute_result"
    },
    {
     "data": {
      "image/png": "[encoded data removed]",
      "text/plain": [
       "<Figure size 432x288 with 1 Axes>"
      ]
     },
     "metadata": {
      "needs_background": "light"
     },
     "output_type": "display_data"
    }
   ],
   "source": [
    "sns.boxplot(x='FireplaceQu', y='SalePrice', data=df)"
   ]
  },
  {
   "cell_type": "code",
   "execution_count": 310,
   "metadata": {},
   "outputs": [
    {
     "data": {
      "text/plain": [
       "Gd    4\n",
       "Ex    4\n",
       "Fa    2\n",
       "Name: PoolQC, dtype: int64"
      ]
     },
     "execution_count": 310,
     "metadata": {},
     "output_type": "execute_result"
    }
   ],
   "source": [
    "df['PoolQC'].value_counts()"
   ]
  },
  {
   "cell_type": "code",
   "execution_count": 311,
   "metadata": {},
   "outputs": [
    {
     "data": {
      "text/plain": [
       "MnPrv    329\n",
       "GdPrv    118\n",
       "GdWo     112\n",
       "MnWw      12\n",
       "Name: Fence, dtype: int64"
      ]
     },
     "execution_count": 311,
     "metadata": {},
     "output_type": "execute_result"
    }
   ],
   "source": [
    "df['Fence'].value_counts()"
   ]
  },
  {
   "cell_type": "code",
   "execution_count": 312,
   "metadata": {},
   "outputs": [
    {
     "data": {
      "text/plain": [
       "<matplotlib.axes._subplots.AxesSubplot at 0x7ff31c2ec550>"
      ]
     },
     "execution_count": 312,
     "metadata": {},
     "output_type": "execute_result"
    },
    {
     "data": {
      "image/png": "[encoded data removed]",
      "text/plain": [
       "<Figure size 432x288 with 1 Axes>"
      ]
     },
     "metadata": {
      "needs_background": "light"
     },
     "output_type": "display_data"
    }
   ],
   "source": [
    "sns.boxplot(x='Fence', y='SalePrice', data=df)"
   ]
  },
  {
   "cell_type": "code",
   "execution_count": 313,
   "metadata": {},
   "outputs": [
    {
     "data": {
      "text/plain": [
       "Shed    95\n",
       "Gar2     5\n",
       "Othr     4\n",
       "TenC     1\n",
       "Name: MiscFeature, dtype: int64"
      ]
     },
     "execution_count": 313,
     "metadata": {},
     "output_type": "execute_result"
    }
   ],
   "source": [
    "df['MiscFeature'].value_counts()"
   ]
  },
  {
   "cell_type": "code",
   "execution_count": 314,
   "metadata": {},
   "outputs": [
    {
     "data": {
      "text/plain": [
       "<matplotlib.axes._subplots.AxesSubplot at 0x7ff31c226710>"
      ]
     },
     "execution_count": 314,
     "metadata": {},
     "output_type": "execute_result"
    },
    {
     "data": {
      "image/png": "[encoded data removed]",
      "text/plain": [
       "<Figure size 432x288 with 1 Axes>"
      ]
     },
     "metadata": {
      "needs_background": "light"
     },
     "output_type": "display_data"
    }
   ],
   "source": [
    "sns.boxplot(x='MiscFeature', y='SalePrice', data=df)"
   ]
  },
  {
   "cell_type": "code",
   "execution_count": 315,
   "metadata": {},
   "outputs": [],
   "source": [
    "df.drop(['Alley', 'FireplaceQu', 'PoolQC', 'Fence', 'MiscFeature'], axis=1, inplace=True)"
   ]
  },
  {
   "cell_type": "code",
   "execution_count": 316,
   "metadata": {},
   "outputs": [],
   "source": [
    "#test.drop(['Alley', 'FireplaceQu', 'PoolQC', 'Fence', 'MiscFeature'], axis=1, inplace=True)"
   ]
  },
  {
   "cell_type": "code",
   "execution_count": 317,
   "metadata": {},
   "outputs": [
    {
     "data": {
      "text/plain": [
       "<matplotlib.axes._subplots.AxesSubplot at 0x7ff31c145450>"
      ]
     },
     "execution_count": 317,
     "metadata": {},
     "output_type": "execute_result"
    },
    {
     "data": {
      "image/png": "[encoded data removed]",
      "text/plain": [
       "<Figure size 1152x432 with 1 Axes>"
      ]
     },
     "metadata": {
      "needs_background": "light"
     },
     "output_type": "display_data"
    }
   ],
   "source": [
    "plt.figure(figsize=(16,6))\n",
    "sns.heatmap(df.isnull(), yticklabels=False, cbar=False, cmap='viridis')"
   ]
  },
  {
   "cell_type": "markdown",
   "metadata": {},
   "source": [
    "Information about the Garage will is missing, when there is no Garage (in 81 cases), so we can replace nan with a new category or 0 for year\n",
    "GarageType: Garage location\n",
    "GarageYrBlt: Year garage was built\n",
    "GarageFinish: Interior finish of the garage\n",
    "GarageCars: Size of garage in car capacity\n",
    "GarageArea: Size of garage in square feet\n",
    "GarageQual: Garage quality\n",
    "GarageCond: Garage condition"
   ]
  },
  {
   "cell_type": "code",
   "execution_count": 318,
   "metadata": {},
   "outputs": [
    {
     "data": {
      "text/plain": [
       "2.0    1594\n",
       "1.0     776\n",
       "3.0     374\n",
       "0.0     157\n",
       "4.0      16\n",
       "5.0       1\n",
       "Name: GarageCars, dtype: int64"
      ]
     },
     "execution_count": 318,
     "metadata": {},
     "output_type": "execute_result"
    }
   ],
   "source": [
    "df['GarageCars'].value_counts()"
   ]
  },
  {
   "cell_type": "code",
   "execution_count": 319,
   "metadata": {},
   "outputs": [
    {
     "data": {
      "text/plain": [
       "GarageType      157\n",
       "GarageYrBlt     159\n",
       "GarageFinish    159\n",
       "GarageQual      159\n",
       "GarageCond      159\n",
       "dtype: int64"
      ]
     },
     "execution_count": 319,
     "metadata": {},
     "output_type": "execute_result"
    }
   ],
   "source": [
    "df[['GarageType','GarageYrBlt', 'GarageFinish', 'GarageQual', 'GarageCond']].isna().sum()"
   ]
  },
  {
   "cell_type": "code",
   "execution_count": 320,
   "metadata": {},
   "outputs": [
    {
     "data": {
      "text/html": [
       "<div>\n",
       "<style scoped>\n",
       "    .dataframe tbody tr th:only-of-type {\n",
       "        vertical-align: middle;\n",
       "    }\n",
       "\n",
       "    .dataframe tbody tr th {\n",
       "        vertical-align: top;\n",
       "    }\n",
       "\n",
       "    .dataframe thead th {\n",
       "        text-align: right;\n",
       "    }\n",
       "</style>\n",
       "<table border=\"1\" class=\"dataframe\">\n",
       "  <thead>\n",
       "    <tr style=\"text-align: right;\">\n",
       "      <th></th>\n",
       "      <th>GarageType</th>\n",
       "      <th>GarageYrBlt</th>\n",
       "      <th>GarageFinish</th>\n",
       "      <th>GarageQual</th>\n",
       "      <th>GarageCond</th>\n",
       "    </tr>\n",
       "  </thead>\n",
       "  <tbody>\n",
       "    <tr>\n",
       "      <th>39</th>\n",
       "      <td>NaN</td>\n",
       "      <td>NaN</td>\n",
       "      <td>NaN</td>\n",
       "      <td>NaN</td>\n",
       "      <td>NaN</td>\n",
       "    </tr>\n",
       "    <tr>\n",
       "      <th>48</th>\n",
       "      <td>NaN</td>\n",
       "      <td>NaN</td>\n",
       "      <td>NaN</td>\n",
       "      <td>NaN</td>\n",
       "      <td>NaN</td>\n",
       "    </tr>\n",
       "    <tr>\n",
       "      <th>78</th>\n",
       "      <td>NaN</td>\n",
       "      <td>NaN</td>\n",
       "      <td>NaN</td>\n",
       "      <td>NaN</td>\n",
       "      <td>NaN</td>\n",
       "    </tr>\n",
       "    <tr>\n",
       "      <th>88</th>\n",
       "      <td>NaN</td>\n",
       "      <td>NaN</td>\n",
       "      <td>NaN</td>\n",
       "      <td>NaN</td>\n",
       "      <td>NaN</td>\n",
       "    </tr>\n",
       "    <tr>\n",
       "      <th>89</th>\n",
       "      <td>NaN</td>\n",
       "      <td>NaN</td>\n",
       "      <td>NaN</td>\n",
       "      <td>NaN</td>\n",
       "      <td>NaN</td>\n",
       "    </tr>\n",
       "    <tr>\n",
       "      <th>...</th>\n",
       "      <td>...</td>\n",
       "      <td>...</td>\n",
       "      <td>...</td>\n",
       "      <td>...</td>\n",
       "      <td>...</td>\n",
       "    </tr>\n",
       "    <tr>\n",
       "      <th>2893</th>\n",
       "      <td>NaN</td>\n",
       "      <td>NaN</td>\n",
       "      <td>NaN</td>\n",
       "      <td>NaN</td>\n",
       "      <td>NaN</td>\n",
       "    </tr>\n",
       "    <tr>\n",
       "      <th>2909</th>\n",
       "      <td>NaN</td>\n",
       "      <td>NaN</td>\n",
       "      <td>NaN</td>\n",
       "      <td>NaN</td>\n",
       "      <td>NaN</td>\n",
       "    </tr>\n",
       "    <tr>\n",
       "      <th>2913</th>\n",
       "      <td>NaN</td>\n",
       "      <td>NaN</td>\n",
       "      <td>NaN</td>\n",
       "      <td>NaN</td>\n",
       "      <td>NaN</td>\n",
       "    </tr>\n",
       "    <tr>\n",
       "      <th>2914</th>\n",
       "      <td>NaN</td>\n",
       "      <td>NaN</td>\n",
       "      <td>NaN</td>\n",
       "      <td>NaN</td>\n",
       "      <td>NaN</td>\n",
       "    </tr>\n",
       "    <tr>\n",
       "      <th>2917</th>\n",
       "      <td>NaN</td>\n",
       "      <td>NaN</td>\n",
       "      <td>NaN</td>\n",
       "      <td>NaN</td>\n",
       "      <td>NaN</td>\n",
       "    </tr>\n",
       "  </tbody>\n",
       "</table>\n",
       "<p>157 rows × 5 columns</p>\n",
       "</div>"
      ],
      "text/plain": [
       "     GarageType  GarageYrBlt GarageFinish GarageQual GarageCond\n",
       "39          NaN          NaN          NaN        NaN        NaN\n",
       "48          NaN          NaN          NaN        NaN        NaN\n",
       "78          NaN          NaN          NaN        NaN        NaN\n",
       "88          NaN          NaN          NaN        NaN        NaN\n",
       "89          NaN          NaN          NaN        NaN        NaN\n",
       "...         ...          ...          ...        ...        ...\n",
       "2893        NaN          NaN          NaN        NaN        NaN\n",
       "2909        NaN          NaN          NaN        NaN        NaN\n",
       "2913        NaN          NaN          NaN        NaN        NaN\n",
       "2914        NaN          NaN          NaN        NaN        NaN\n",
       "2917        NaN          NaN          NaN        NaN        NaN\n",
       "\n",
       "[157 rows x 5 columns]"
      ]
     },
     "execution_count": 320,
     "metadata": {},
     "output_type": "execute_result"
    }
   ],
   "source": [
    "df[df['GarageArea']==0][['GarageType','GarageYrBlt', 'GarageFinish', 'GarageQual', 'GarageCond']]"
   ]
  },
  {
   "cell_type": "code",
   "execution_count": 321,
   "metadata": {},
   "outputs": [
    {
     "data": {
      "text/plain": [
       "TA    2654\n",
       "Fa      74\n",
       "Gd      15\n",
       "Po      14\n",
       "Ex       3\n",
       "Name: GarageCond, dtype: int64"
      ]
     },
     "execution_count": 321,
     "metadata": {},
     "output_type": "execute_result"
    }
   ],
   "source": [
    "df['GarageCond'].value_counts()"
   ]
  },
  {
   "cell_type": "code",
   "execution_count": 322,
   "metadata": {},
   "outputs": [],
   "source": [
    "def fill_garage(x):\n",
    "    \n",
    "    if pd.isnull(x):\n",
    "        return 'NoGarage'\n",
    "    else:\n",
    "        return x"
   ]
  },
  {
   "cell_type": "code",
   "execution_count": 323,
   "metadata": {},
   "outputs": [],
   "source": [
    "df['GarageType']=df['GarageType'].apply(fill_garage)\n",
    "df['GarageFinish']=df['GarageFinish'].apply(fill_garage)\n",
    "df['GarageQual']=df['GarageQual'].apply(fill_garage)\n",
    "df['GarageCond']=df['GarageCond'].apply(fill_garage)"
   ]
  },
  {
   "cell_type": "code",
   "execution_count": 324,
   "metadata": {},
   "outputs": [],
   "source": [
    "#test['GarageType']=test['GarageType'].apply(fill_garage)\n",
    "#test['GarageFinish']=test['GarageFinish'].apply(fill_garage)\n",
    "#test['GarageQual']=test['GarageQual'].apply(fill_garage)\n",
    "#test['GarageCond']=test['GarageCond'].apply(fill_garage)"
   ]
  },
  {
   "cell_type": "code",
   "execution_count": 325,
   "metadata": {},
   "outputs": [],
   "source": [
    "def fill_garageyr(x):\n",
    "    \n",
    "    if pd.isnull(x):\n",
    "        return 0\n",
    "    else:\n",
    "        return x"
   ]
  },
  {
   "cell_type": "code",
   "execution_count": 326,
   "metadata": {},
   "outputs": [],
   "source": [
    "df['GarageYrBlt']=df['GarageYrBlt'].apply(fill_garageyr)"
   ]
  },
  {
   "cell_type": "code",
   "execution_count": 327,
   "metadata": {},
   "outputs": [],
   "source": [
    "#test['GarageYrBlt']=test['GarageYrBlt'].apply(fill_garageyr)"
   ]
  },
  {
   "cell_type": "code",
   "execution_count": 328,
   "metadata": {},
   "outputs": [
    {
     "data": {
      "text/html": [
       "<div>\n",
       "<style scoped>\n",
       "    .dataframe tbody tr th:only-of-type {\n",
       "        vertical-align: middle;\n",
       "    }\n",
       "\n",
       "    .dataframe tbody tr th {\n",
       "        vertical-align: top;\n",
       "    }\n",
       "\n",
       "    .dataframe thead th {\n",
       "        text-align: right;\n",
       "    }\n",
       "</style>\n",
       "<table border=\"1\" class=\"dataframe\">\n",
       "  <thead>\n",
       "    <tr style=\"text-align: right;\">\n",
       "      <th></th>\n",
       "      <th>GarageType</th>\n",
       "      <th>GarageYrBlt</th>\n",
       "      <th>GarageFinish</th>\n",
       "      <th>GarageQual</th>\n",
       "      <th>GarageCond</th>\n",
       "    </tr>\n",
       "  </thead>\n",
       "  <tbody>\n",
       "    <tr>\n",
       "      <th>39</th>\n",
       "      <td>NoGarage</td>\n",
       "      <td>0.0</td>\n",
       "      <td>NoGarage</td>\n",
       "      <td>NoGarage</td>\n",
       "      <td>NoGarage</td>\n",
       "    </tr>\n",
       "    <tr>\n",
       "      <th>48</th>\n",
       "      <td>NoGarage</td>\n",
       "      <td>0.0</td>\n",
       "      <td>NoGarage</td>\n",
       "      <td>NoGarage</td>\n",
       "      <td>NoGarage</td>\n",
       "    </tr>\n",
       "    <tr>\n",
       "      <th>78</th>\n",
       "      <td>NoGarage</td>\n",
       "      <td>0.0</td>\n",
       "      <td>NoGarage</td>\n",
       "      <td>NoGarage</td>\n",
       "      <td>NoGarage</td>\n",
       "    </tr>\n",
       "    <tr>\n",
       "      <th>88</th>\n",
       "      <td>NoGarage</td>\n",
       "      <td>0.0</td>\n",
       "      <td>NoGarage</td>\n",
       "      <td>NoGarage</td>\n",
       "      <td>NoGarage</td>\n",
       "    </tr>\n",
       "    <tr>\n",
       "      <th>89</th>\n",
       "      <td>NoGarage</td>\n",
       "      <td>0.0</td>\n",
       "      <td>NoGarage</td>\n",
       "      <td>NoGarage</td>\n",
       "      <td>NoGarage</td>\n",
       "    </tr>\n",
       "    <tr>\n",
       "      <th>...</th>\n",
       "      <td>...</td>\n",
       "      <td>...</td>\n",
       "      <td>...</td>\n",
       "      <td>...</td>\n",
       "      <td>...</td>\n",
       "    </tr>\n",
       "    <tr>\n",
       "      <th>2893</th>\n",
       "      <td>NoGarage</td>\n",
       "      <td>0.0</td>\n",
       "      <td>NoGarage</td>\n",
       "      <td>NoGarage</td>\n",
       "      <td>NoGarage</td>\n",
       "    </tr>\n",
       "    <tr>\n",
       "      <th>2909</th>\n",
       "      <td>NoGarage</td>\n",
       "      <td>0.0</td>\n",
       "      <td>NoGarage</td>\n",
       "      <td>NoGarage</td>\n",
       "      <td>NoGarage</td>\n",
       "    </tr>\n",
       "    <tr>\n",
       "      <th>2913</th>\n",
       "      <td>NoGarage</td>\n",
       "      <td>0.0</td>\n",
       "      <td>NoGarage</td>\n",
       "      <td>NoGarage</td>\n",
       "      <td>NoGarage</td>\n",
       "    </tr>\n",
       "    <tr>\n",
       "      <th>2914</th>\n",
       "      <td>NoGarage</td>\n",
       "      <td>0.0</td>\n",
       "      <td>NoGarage</td>\n",
       "      <td>NoGarage</td>\n",
       "      <td>NoGarage</td>\n",
       "    </tr>\n",
       "    <tr>\n",
       "      <th>2917</th>\n",
       "      <td>NoGarage</td>\n",
       "      <td>0.0</td>\n",
       "      <td>NoGarage</td>\n",
       "      <td>NoGarage</td>\n",
       "      <td>NoGarage</td>\n",
       "    </tr>\n",
       "  </tbody>\n",
       "</table>\n",
       "<p>157 rows × 5 columns</p>\n",
       "</div>"
      ],
      "text/plain": [
       "     GarageType  GarageYrBlt GarageFinish GarageQual GarageCond\n",
       "39     NoGarage          0.0     NoGarage   NoGarage   NoGarage\n",
       "48     NoGarage          0.0     NoGarage   NoGarage   NoGarage\n",
       "78     NoGarage          0.0     NoGarage   NoGarage   NoGarage\n",
       "88     NoGarage          0.0     NoGarage   NoGarage   NoGarage\n",
       "89     NoGarage          0.0     NoGarage   NoGarage   NoGarage\n",
       "...         ...          ...          ...        ...        ...\n",
       "2893   NoGarage          0.0     NoGarage   NoGarage   NoGarage\n",
       "2909   NoGarage          0.0     NoGarage   NoGarage   NoGarage\n",
       "2913   NoGarage          0.0     NoGarage   NoGarage   NoGarage\n",
       "2914   NoGarage          0.0     NoGarage   NoGarage   NoGarage\n",
       "2917   NoGarage          0.0     NoGarage   NoGarage   NoGarage\n",
       "\n",
       "[157 rows x 5 columns]"
      ]
     },
     "execution_count": 328,
     "metadata": {},
     "output_type": "execute_result"
    }
   ],
   "source": [
    "df[df['GarageArea']==0][['GarageType','GarageYrBlt', 'GarageFinish', 'GarageQual', 'GarageCond']]"
   ]
  },
  {
   "cell_type": "code",
   "execution_count": 329,
   "metadata": {},
   "outputs": [
    {
     "data": {
      "text/plain": [
       "<matplotlib.axes._subplots.AxesSubplot at 0x7ff35063a5d0>"
      ]
     },
     "execution_count": 329,
     "metadata": {},
     "output_type": "execute_result"
    },
    {
     "data": {
      "image/png": "[encoded data removed]",
      "text/plain": [
       "<Figure size 1152x432 with 1 Axes>"
      ]
     },
     "metadata": {
      "needs_background": "light"
     },
     "output_type": "display_data"
    }
   ],
   "source": [
    "plt.figure(figsize=(16,6))\n",
    "sns.heatmap(df.isnull(), yticklabels=False, cbar=False, cmap='viridis')"
   ]
  },
  {
   "cell_type": "code",
   "execution_count": 330,
   "metadata": {},
   "outputs": [
    {
     "data": {
      "text/plain": [
       "0.0       929\n",
       "24.0       27\n",
       "16.0       14\n",
       "300.0       9\n",
       "288.0       8\n",
       "         ... \n",
       "1022.0      1\n",
       "939.0       1\n",
       "1124.0      1\n",
       "1619.0      1\n",
       "1106.0      1\n",
       "Name: BsmtFinSF1, Length: 991, dtype: int64"
      ]
     },
     "execution_count": 330,
     "metadata": {},
     "output_type": "execute_result"
    }
   ],
   "source": [
    "df['BsmtFinSF1'].value_counts()"
   ]
  },
  {
   "cell_type": "markdown",
   "metadata": {},
   "source": [
    "Dropping the remaining incomplete rows because of missing values about the basement and masonry veneer, 1412 rows remain"
   ]
  },
  {
   "cell_type": "code",
   "execution_count": 331,
   "metadata": {},
   "outputs": [],
   "source": [
    "y=df['SalePrice']\n",
    "y.dropna(inplace=True)\n",
    "df.drop('SalePrice', axis=1, inplace=True)\n",
    "df.fillna(method='backfill', inplace=True)\n"
   ]
  },
  {
   "cell_type": "code",
   "execution_count": 332,
   "metadata": {},
   "outputs": [
    {
     "name": "stdout",
     "output_type": "stream",
     "text": [
      "<class 'pandas.core.frame.DataFrame'>\n",
      "RangeIndex: 2919 entries, 0 to 2918\n",
      "Data columns (total 75 columns):\n",
      " #   Column         Non-Null Count  Dtype  \n",
      "---  ------         --------------  -----  \n",
      " 0   Id             2919 non-null   int64  \n",
      " 1   MSSubClass     2919 non-null   int64  \n",
      " 2   MSZoning       2919 non-null   object \n",
      " 3   LotFrontage    2919 non-null   float64\n",
      " 4   LotArea        2919 non-null   int64  \n",
      " 5   Street         2919 non-null   object \n",
      " 6   LotShape       2919 non-null   object \n",
      " 7   LandContour    2919 non-null   object \n",
      " 8   Utilities      2919 non-null   object \n",
      " 9   LotConfig      2919 non-null   object \n",
      " 10  LandSlope      2919 non-null   object \n",
      " 11  Neighborhood   2919 non-null   object \n",
      " 12  Condition1     2919 non-null   object \n",
      " 13  Condition2     2919 non-null   object \n",
      " 14  BldgType       2919 non-null   object \n",
      " 15  HouseStyle     2919 non-null   object \n",
      " 16  OverallQual    2919 non-null   int64  \n",
      " 17  OverallCond    2919 non-null   int64  \n",
      " 18  YearBuilt      2919 non-null   int64  \n",
      " 19  YearRemodAdd   2919 non-null   int64  \n",
      " 20  RoofStyle      2919 non-null   object \n",
      " 21  RoofMatl       2919 non-null   object \n",
      " 22  Exterior1st    2919 non-null   object \n",
      " 23  Exterior2nd    2919 non-null   object \n",
      " 24  MasVnrType     2919 non-null   object \n",
      " 25  MasVnrArea     2919 non-null   float64\n",
      " 26  ExterQual      2919 non-null   object \n",
      " 27  ExterCond      2919 non-null   object \n",
      " 28  Foundation     2919 non-null   object \n",
      " 29  BsmtQual       2919 non-null   object \n",
      " 30  BsmtCond       2919 non-null   object \n",
      " 31  BsmtExposure   2919 non-null   object \n",
      " 32  BsmtFinType1   2919 non-null   object \n",
      " 33  BsmtFinSF1     2919 non-null   float64\n",
      " 34  BsmtFinType2   2919 non-null   object \n",
      " 35  BsmtFinSF2     2919 non-null   float64\n",
      " 36  BsmtUnfSF      2919 non-null   float64\n",
      " 37  TotalBsmtSF    2919 non-null   float64\n",
      " 38  Heating        2919 non-null   object \n",
      " 39  HeatingQC      2919 non-null   object \n",
      " 40  CentralAir     2919 non-null   object \n",
      " 41  Electrical     2919 non-null   object \n",
      " 42  1stFlrSF       2919 non-null   int64  \n",
      " 43  2ndFlrSF       2919 non-null   int64  \n",
      " 44  LowQualFinSF   2919 non-null   int64  \n",
      " 45  GrLivArea      2919 non-null   int64  \n",
      " 46  BsmtFullBath   2919 non-null   float64\n",
      " 47  BsmtHalfBath   2919 non-null   float64\n",
      " 48  FullBath       2919 non-null   int64  \n",
      " 49  HalfBath       2919 non-null   int64  \n",
      " 50  BedroomAbvGr   2919 non-null   int64  \n",
      " 51  KitchenAbvGr   2919 non-null   int64  \n",
      " 52  KitchenQual    2919 non-null   object \n",
      " 53  TotRmsAbvGrd   2919 non-null   int64  \n",
      " 54  Functional     2919 non-null   object \n",
      " 55  Fireplaces     2919 non-null   int64  \n",
      " 56  GarageType     2919 non-null   object \n",
      " 57  GarageYrBlt    2919 non-null   float64\n",
      " 58  GarageFinish   2919 non-null   object \n",
      " 59  GarageCars     2919 non-null   float64\n",
      " 60  GarageArea     2919 non-null   float64\n",
      " 61  GarageQual     2919 non-null   object \n",
      " 62  GarageCond     2919 non-null   object \n",
      " 63  PavedDrive     2919 non-null   object \n",
      " 64  WoodDeckSF     2919 non-null   int64  \n",
      " 65  OpenPorchSF    2919 non-null   int64  \n",
      " 66  EnclosedPorch  2919 non-null   int64  \n",
      " 67  3SsnPorch      2919 non-null   int64  \n",
      " 68  ScreenPorch    2919 non-null   int64  \n",
      " 69  PoolArea       2919 non-null   int64  \n",
      " 70  MiscVal        2919 non-null   int64  \n",
      " 71  MoSold         2919 non-null   int64  \n",
      " 72  YrSold         2919 non-null   int64  \n",
      " 73  SaleType       2919 non-null   object \n",
      " 74  SaleCondition  2919 non-null   object \n",
      "dtypes: float64(11), int64(26), object(38)\n",
      "memory usage: 1.7+ MB\n"
     ]
    }
   ],
   "source": [
    "df.info()"
   ]
  },
  {
   "cell_type": "markdown",
   "metadata": {},
   "source": [
    "Getting dummies for categorical data:\n",
    "- MSZoning: The general zoning classification\n",
    "- Street: Type of road access\n",
    "- LotShape: General shape of property\n",
    "- LandContour: Flatness of the property\n",
    "- Utilities: Type of utilities available\n",
    "- LotConfig: Lot configuration\n",
    "- LandSlope: Slope of property\n",
    "- Neighborhood: Physical locations within Ames city limits\n",
    "- Condition1: Proximity to main road or railroad\n",
    "- Condition2: Proximity to main road or railroad (if a second is present)\n",
    "- BldgType: Type of dwelling\n",
    "- HouseStyle: Style of dwelling\n",
    "- RoofStyle: Type of roof\n",
    "- RoofMatl: Roof material\n",
    "- Exterior1st: Exterior covering on house\n",
    "- Exterior2nd: Exterior covering on house (if more than one material)\n",
    "- MasVnrType: Masonry veneer type\n",
    "- ExterQual: Exterior material quality\n",
    "- ExterCond: Present condition of the material on the exterior\n",
    "- Foundation: Type of foundation\n",
    "- BsmtQual: Height of the basement\n",
    "- BsmtCond: General condition of the basement\n",
    "- BsmtExposure: Walkout or garden level basement walls\n",
    "- BsmtFinType1: Quality of basement finished area\n",
    "- BsmtFinType2: Quality of second finished area (if present)\n",
    "- Heating: Type of heating\n",
    "- HeatingQC: Heating quality and condition\n",
    "- CentralAir: Central air conditioning\n",
    "- Electrical: Electrical system\n",
    "- KitchenQual: Kitchen quality\n",
    "- Functional: Home functionality rating\n",
    "- GarageType: Garage location\n",
    "- GarageFinish: Interior finish of the garage\n",
    "- GarageQual: Garage quality\n",
    "- GarageCond: Garage condition\n",
    "- PavedDrive: Paved driveway\n",
    "- SaleType: Type of sale\n",
    "- SaleCondition: Condition of sale"
   ]
  },
  {
   "cell_type": "code",
   "execution_count": 333,
   "metadata": {},
   "outputs": [],
   "source": [
    "catcolnames=['MSZoning', 'Street', 'LotShape', 'LandContour', 'Utilities', 'LotConfig', 'LandSlope', 'Neighborhood', 'Condition1', 'Condition2', 'BldgType', 'HouseStyle', 'RoofStyle', 'RoofMatl', 'Exterior1st', 'Exterior2nd', 'MasVnrType', 'ExterQual', 'ExterCond', 'Foundation', 'BsmtQual', 'BsmtCond', 'BsmtExposure', 'BsmtFinType1', 'BsmtFinType2', 'Heating', 'HeatingQC', 'CentralAir', 'Electrical','KitchenQual', 'Functional', 'GarageType', 'GarageFinish', 'GarageQual', 'GarageCond', 'PavedDrive', 'SaleType', 'SaleCondition']"
   ]
  },
  {
   "cell_type": "code",
   "execution_count": 334,
   "metadata": {},
   "outputs": [],
   "source": [
    "for col in catcolnames:\n",
    "    col=pd.get_dummies(df[col], drop_first=True)\n",
    "    df=pd.concat([df, col], axis=1)\n"
   ]
  },
  {
   "cell_type": "code",
   "execution_count": 335,
   "metadata": {},
   "outputs": [],
   "source": [
    "df.drop(['MSZoning', 'Street', 'LotShape', 'LandContour', 'Utilities', 'LotConfig', 'LandSlope', 'Neighborhood', 'Condition1', 'Condition2', 'BldgType', 'HouseStyle', 'RoofStyle', 'RoofMatl', 'Exterior1st', 'Exterior2nd', 'MasVnrType', 'ExterQual', 'ExterCond', 'Foundation', 'BsmtQual', 'BsmtCond', 'BsmtExposure', 'BsmtFinType1', 'BsmtFinType2', 'Heating', 'HeatingQC', 'CentralAir', 'Electrical','KitchenQual', 'Functional', 'GarageType', 'GarageFinish', 'GarageQual', 'GarageCond', 'PavedDrive', 'SaleType', 'SaleCondition'], axis=1, inplace=True)"
   ]
  },
  {
   "cell_type": "code",
   "execution_count": 336,
   "metadata": {},
   "outputs": [
    {
     "data": {
      "text/html": [
       "<div>\n",
       "<style scoped>\n",
       "    .dataframe tbody tr th:only-of-type {\n",
       "        vertical-align: middle;\n",
       "    }\n",
       "\n",
       "    .dataframe tbody tr th {\n",
       "        vertical-align: top;\n",
       "    }\n",
       "\n",
       "    .dataframe thead th {\n",
       "        text-align: right;\n",
       "    }\n",
       "</style>\n",
       "<table border=\"1\" class=\"dataframe\">\n",
       "  <thead>\n",
       "    <tr style=\"text-align: right;\">\n",
       "      <th></th>\n",
       "      <th>Id</th>\n",
       "      <th>MSSubClass</th>\n",
       "      <th>LotFrontage</th>\n",
       "      <th>LotArea</th>\n",
       "      <th>OverallQual</th>\n",
       "      <th>OverallCond</th>\n",
       "      <th>YearBuilt</th>\n",
       "      <th>YearRemodAdd</th>\n",
       "      <th>MasVnrArea</th>\n",
       "      <th>BsmtFinSF1</th>\n",
       "      <th>...</th>\n",
       "      <th>ConLI</th>\n",
       "      <th>ConLw</th>\n",
       "      <th>New</th>\n",
       "      <th>Oth</th>\n",
       "      <th>WD</th>\n",
       "      <th>AdjLand</th>\n",
       "      <th>Alloca</th>\n",
       "      <th>Family</th>\n",
       "      <th>Normal</th>\n",
       "      <th>Partial</th>\n",
       "    </tr>\n",
       "  </thead>\n",
       "  <tbody>\n",
       "    <tr>\n",
       "      <th>0</th>\n",
       "      <td>1</td>\n",
       "      <td>60</td>\n",
       "      <td>65.0</td>\n",
       "      <td>8450</td>\n",
       "      <td>7</td>\n",
       "      <td>5</td>\n",
       "      <td>2003</td>\n",
       "      <td>2003</td>\n",
       "      <td>196.0</td>\n",
       "      <td>706.0</td>\n",
       "      <td>...</td>\n",
       "      <td>0</td>\n",
       "      <td>0</td>\n",
       "      <td>0</td>\n",
       "      <td>0</td>\n",
       "      <td>1</td>\n",
       "      <td>0</td>\n",
       "      <td>0</td>\n",
       "      <td>0</td>\n",
       "      <td>1</td>\n",
       "      <td>0</td>\n",
       "    </tr>\n",
       "    <tr>\n",
       "      <th>1</th>\n",
       "      <td>2</td>\n",
       "      <td>20</td>\n",
       "      <td>80.0</td>\n",
       "      <td>9600</td>\n",
       "      <td>6</td>\n",
       "      <td>8</td>\n",
       "      <td>1976</td>\n",
       "      <td>1976</td>\n",
       "      <td>0.0</td>\n",
       "      <td>978.0</td>\n",
       "      <td>...</td>\n",
       "      <td>0</td>\n",
       "      <td>0</td>\n",
       "      <td>0</td>\n",
       "      <td>0</td>\n",
       "      <td>1</td>\n",
       "      <td>0</td>\n",
       "      <td>0</td>\n",
       "      <td>0</td>\n",
       "      <td>1</td>\n",
       "      <td>0</td>\n",
       "    </tr>\n",
       "    <tr>\n",
       "      <th>2</th>\n",
       "      <td>3</td>\n",
       "      <td>60</td>\n",
       "      <td>68.0</td>\n",
       "      <td>11250</td>\n",
       "      <td>7</td>\n",
       "      <td>5</td>\n",
       "      <td>2001</td>\n",
       "      <td>2002</td>\n",
       "      <td>162.0</td>\n",
       "      <td>486.0</td>\n",
       "      <td>...</td>\n",
       "      <td>0</td>\n",
       "      <td>0</td>\n",
       "      <td>0</td>\n",
       "      <td>0</td>\n",
       "      <td>1</td>\n",
       "      <td>0</td>\n",
       "      <td>0</td>\n",
       "      <td>0</td>\n",
       "      <td>1</td>\n",
       "      <td>0</td>\n",
       "    </tr>\n",
       "    <tr>\n",
       "      <th>3</th>\n",
       "      <td>4</td>\n",
       "      <td>70</td>\n",
       "      <td>60.0</td>\n",
       "      <td>9550</td>\n",
       "      <td>7</td>\n",
       "      <td>5</td>\n",
       "      <td>1915</td>\n",
       "      <td>1970</td>\n",
       "      <td>0.0</td>\n",
       "      <td>216.0</td>\n",
       "      <td>...</td>\n",
       "      <td>0</td>\n",
       "      <td>0</td>\n",
       "      <td>0</td>\n",
       "      <td>0</td>\n",
       "      <td>1</td>\n",
       "      <td>0</td>\n",
       "      <td>0</td>\n",
       "      <td>0</td>\n",
       "      <td>0</td>\n",
       "      <td>0</td>\n",
       "    </tr>\n",
       "    <tr>\n",
       "      <th>4</th>\n",
       "      <td>5</td>\n",
       "      <td>60</td>\n",
       "      <td>84.0</td>\n",
       "      <td>14260</td>\n",
       "      <td>8</td>\n",
       "      <td>5</td>\n",
       "      <td>2000</td>\n",
       "      <td>2000</td>\n",
       "      <td>350.0</td>\n",
       "      <td>655.0</td>\n",
       "      <td>...</td>\n",
       "      <td>0</td>\n",
       "      <td>0</td>\n",
       "      <td>0</td>\n",
       "      <td>0</td>\n",
       "      <td>1</td>\n",
       "      <td>0</td>\n",
       "      <td>0</td>\n",
       "      <td>0</td>\n",
       "      <td>1</td>\n",
       "      <td>0</td>\n",
       "    </tr>\n",
       "  </tbody>\n",
       "</table>\n",
       "<p>5 rows × 237 columns</p>\n",
       "</div>"
      ],
      "text/plain": [
       "   Id  MSSubClass  LotFrontage  LotArea  OverallQual  OverallCond  YearBuilt  \\\n",
       "0   1          60         65.0     8450            7            5       2003   \n",
       "1   2          20         80.0     9600            6            8       1976   \n",
       "2   3          60         68.0    11250            7            5       2001   \n",
       "3   4          70         60.0     9550            7            5       1915   \n",
       "4   5          60         84.0    14260            8            5       2000   \n",
       "\n",
       "   YearRemodAdd  MasVnrArea  BsmtFinSF1  ...  ConLI  ConLw  New  Oth  WD  \\\n",
       "0          2003       196.0       706.0  ...      0      0    0    0   1   \n",
       "1          1976         0.0       978.0  ...      0      0    0    0   1   \n",
       "2          2002       162.0       486.0  ...      0      0    0    0   1   \n",
       "3          1970         0.0       216.0  ...      0      0    0    0   1   \n",
       "4          2000       350.0       655.0  ...      0      0    0    0   1   \n",
       "\n",
       "   AdjLand  Alloca  Family  Normal  Partial  \n",
       "0        0       0       0       1        0  \n",
       "1        0       0       0       1        0  \n",
       "2        0       0       0       1        0  \n",
       "3        0       0       0       0        0  \n",
       "4        0       0       0       1        0  \n",
       "\n",
       "[5 rows x 237 columns]"
      ]
     },
     "execution_count": 336,
     "metadata": {},
     "output_type": "execute_result"
    }
   ],
   "source": [
    "df.head()"
   ]
  },
  {
   "cell_type": "code",
   "execution_count": 337,
   "metadata": {},
   "outputs": [],
   "source": [
    "#for col in catcolnames:\n",
    " #   col=pd.get_dummies(test[col], drop_first=True)\n",
    "  #  test=pd.concat([test, col], axis=1) \n",
    "    \n",
    "#test.drop(['MSZoning', 'Street', 'LotShape', 'LandContour', 'Utilities', 'LotConfig', 'LandSlope', 'Neighborhood', 'Condition1', 'Condition2', 'BldgType', 'HouseStyle', 'RoofStyle', 'RoofMatl', 'Exterior1st', 'Exterior2nd', 'MasVnrType', 'ExterQual', 'ExterCond', 'Foundation', 'BsmtQual', 'BsmtCond', 'BsmtExposure', 'BsmtFinType1', 'BsmtFinType2', 'Heating', 'HeatingQC', 'CentralAir', 'Electrical','KitchenQual', 'Functional', 'GarageType', 'GarageFinish', 'GarageQual', 'GarageCond', 'PavedDrive', 'SaleType', 'SaleCondition'], axis=1, inplace=True)    \n"
   ]
  },
  {
   "cell_type": "code",
   "execution_count": 338,
   "metadata": {},
   "outputs": [],
   "source": [
    "result=pd.DataFrame()\n",
    "result['Id']=df[df['Id']>=1461]['Id']\n",
    "test=df[df['Id']>=1461].drop(['Id'], axis=1)\n",
    "X=df[df['Id']<1461].drop(['Id'], axis=1)"
   ]
  },
  {
   "cell_type": "code",
   "execution_count": 339,
   "metadata": {},
   "outputs": [
    {
     "data": {
      "text/plain": [
       "(1459, 236)"
      ]
     },
     "execution_count": 339,
     "metadata": {},
     "output_type": "execute_result"
    }
   ],
   "source": [
    "test.shape"
   ]
  },
  {
   "cell_type": "code",
   "execution_count": 340,
   "metadata": {},
   "outputs": [
    {
     "data": {
      "text/plain": [
       "(1460, 236)"
      ]
     },
     "execution_count": 340,
     "metadata": {},
     "output_type": "execute_result"
    }
   ],
   "source": [
    "X.shape"
   ]
  },
  {
   "cell_type": "markdown",
   "metadata": {},
   "source": [
    "Building the Linear Regression model:"
   ]
  },
  {
   "cell_type": "code",
   "execution_count": 341,
   "metadata": {},
   "outputs": [],
   "source": [
    "from sklearn.linear_model import LinearRegression"
   ]
  },
  {
   "cell_type": "code",
   "execution_count": 342,
   "metadata": {},
   "outputs": [],
   "source": [
    "lm=LinearRegression()"
   ]
  },
  {
   "cell_type": "code",
   "execution_count": 343,
   "metadata": {},
   "outputs": [
    {
     "data": {
      "text/plain": [
       "LinearRegression(copy_X=True, fit_intercept=True, n_jobs=None, normalize=False)"
      ]
     },
     "execution_count": 343,
     "metadata": {},
     "output_type": "execute_result"
    }
   ],
   "source": [
    "lm.fit(X,y)"
   ]
  },
  {
   "cell_type": "code",
   "execution_count": 344,
   "metadata": {},
   "outputs": [
    {
     "data": {
      "text/html": [
       "<div>\n",
       "<style scoped>\n",
       "    .dataframe tbody tr th:only-of-type {\n",
       "        vertical-align: middle;\n",
       "    }\n",
       "\n",
       "    .dataframe tbody tr th {\n",
       "        vertical-align: top;\n",
       "    }\n",
       "\n",
       "    .dataframe thead th {\n",
       "        text-align: right;\n",
       "    }\n",
       "</style>\n",
       "<table border=\"1\" class=\"dataframe\">\n",
       "  <thead>\n",
       "    <tr style=\"text-align: right;\">\n",
       "      <th></th>\n",
       "      <th>MSSubClass</th>\n",
       "      <th>LotFrontage</th>\n",
       "      <th>LotArea</th>\n",
       "      <th>OverallQual</th>\n",
       "      <th>OverallCond</th>\n",
       "      <th>YearBuilt</th>\n",
       "      <th>YearRemodAdd</th>\n",
       "      <th>MasVnrArea</th>\n",
       "      <th>BsmtFinSF1</th>\n",
       "      <th>BsmtFinSF2</th>\n",
       "      <th>...</th>\n",
       "      <th>ConLI</th>\n",
       "      <th>ConLw</th>\n",
       "      <th>New</th>\n",
       "      <th>Oth</th>\n",
       "      <th>WD</th>\n",
       "      <th>AdjLand</th>\n",
       "      <th>Alloca</th>\n",
       "      <th>Family</th>\n",
       "      <th>Normal</th>\n",
       "      <th>Partial</th>\n",
       "    </tr>\n",
       "  </thead>\n",
       "  <tbody>\n",
       "    <tr>\n",
       "      <th>Coefficient</th>\n",
       "      <td>-28.197254</td>\n",
       "      <td>38.008987</td>\n",
       "      <td>0.747549</td>\n",
       "      <td>6745.859629</td>\n",
       "      <td>5745.363117</td>\n",
       "      <td>332.66637</td>\n",
       "      <td>92.414727</td>\n",
       "      <td>19.632633</td>\n",
       "      <td>15.653605</td>\n",
       "      <td>6.603121</td>\n",
       "      <td>...</td>\n",
       "      <td>5105.300305</td>\n",
       "      <td>1207.342893</td>\n",
       "      <td>22296.720909</td>\n",
       "      <td>7275.372273</td>\n",
       "      <td>-14.497915</td>\n",
       "      <td>9270.049564</td>\n",
       "      <td>3376.303311</td>\n",
       "      <td>-561.149053</td>\n",
       "      <td>5679.719443</td>\n",
       "      <td>-1850.906756</td>\n",
       "    </tr>\n",
       "  </tbody>\n",
       "</table>\n",
       "<p>1 rows × 236 columns</p>\n",
       "</div>"
      ],
      "text/plain": [
       "             MSSubClass  LotFrontage   LotArea  OverallQual  OverallCond  \\\n",
       "Coefficient  -28.197254    38.008987  0.747549  6745.859629  5745.363117   \n",
       "\n",
       "             YearBuilt  YearRemodAdd  MasVnrArea  BsmtFinSF1  BsmtFinSF2  ...  \\\n",
       "Coefficient  332.66637     92.414727   19.632633   15.653605    6.603121  ...   \n",
       "\n",
       "                   ConLI        ConLw           New          Oth         WD  \\\n",
       "Coefficient  5105.300305  1207.342893  22296.720909  7275.372273 -14.497915   \n",
       "\n",
       "                 AdjLand       Alloca      Family       Normal      Partial  \n",
       "Coefficient  9270.049564  3376.303311 -561.149053  5679.719443 -1850.906756  \n",
       "\n",
       "[1 rows x 236 columns]"
      ]
     },
     "execution_count": 344,
     "metadata": {},
     "output_type": "execute_result"
    }
   ],
   "source": [
    "pd.DataFrame(lm.coef_, X.columns, columns=['Coefficient']).transpose()"
   ]
  },
  {
   "cell_type": "markdown",
   "metadata": {},
   "source": [
    "Predictions:"
   ]
  },
  {
   "cell_type": "code",
   "execution_count": 345,
   "metadata": {},
   "outputs": [],
   "source": [
    "predictions=lm.predict(test)"
   ]
  },
  {
   "cell_type": "code",
   "execution_count": 346,
   "metadata": {},
   "outputs": [
    {
     "data": {
      "text/plain": [
       "array([112376.37567903, 159835.45544959, 188773.443433  , ...,\n",
       "       178785.77602983, 110225.92201463, 224259.11196541])"
      ]
     },
     "execution_count": 346,
     "metadata": {},
     "output_type": "execute_result"
    }
   ],
   "source": [
    "predictions"
   ]
  },
  {
   "cell_type": "code",
   "execution_count": 347,
   "metadata": {},
   "outputs": [],
   "source": [
    "result['SalePrice']=predictions"
   ]
  },
  {
   "cell_type": "code",
   "execution_count": 348,
   "metadata": {},
   "outputs": [
    {
     "data": {
      "text/html": [
       "<div>\n",
       "<style scoped>\n",
       "    .dataframe tbody tr th:only-of-type {\n",
       "        vertical-align: middle;\n",
       "    }\n",
       "\n",
       "    .dataframe tbody tr th {\n",
       "        vertical-align: top;\n",
       "    }\n",
       "\n",
       "    .dataframe thead th {\n",
       "        text-align: right;\n",
       "    }\n",
       "</style>\n",
       "<table border=\"1\" class=\"dataframe\">\n",
       "  <thead>\n",
       "    <tr style=\"text-align: right;\">\n",
       "      <th></th>\n",
       "      <th>Id</th>\n",
       "      <th>SalePrice</th>\n",
       "    </tr>\n",
       "  </thead>\n",
       "  <tbody>\n",
       "    <tr>\n",
       "      <th>1460</th>\n",
       "      <td>1461</td>\n",
       "      <td>112376.375679</td>\n",
       "    </tr>\n",
       "    <tr>\n",
       "      <th>1461</th>\n",
       "      <td>1462</td>\n",
       "      <td>159835.455450</td>\n",
       "    </tr>\n",
       "    <tr>\n",
       "      <th>1462</th>\n",
       "      <td>1463</td>\n",
       "      <td>188773.443433</td>\n",
       "    </tr>\n",
       "    <tr>\n",
       "      <th>1463</th>\n",
       "      <td>1464</td>\n",
       "      <td>195277.089612</td>\n",
       "    </tr>\n",
       "    <tr>\n",
       "      <th>1464</th>\n",
       "      <td>1465</td>\n",
       "      <td>204558.150775</td>\n",
       "    </tr>\n",
       "  </tbody>\n",
       "</table>\n",
       "</div>"
      ],
      "text/plain": [
       "        Id      SalePrice\n",
       "1460  1461  112376.375679\n",
       "1461  1462  159835.455450\n",
       "1462  1463  188773.443433\n",
       "1463  1464  195277.089612\n",
       "1464  1465  204558.150775"
      ]
     },
     "execution_count": 348,
     "metadata": {},
     "output_type": "execute_result"
    }
   ],
   "source": [
    "result.head()"
   ]
  },
  {
   "cell_type": "code",
   "execution_count": 349,
   "metadata": {},
   "outputs": [],
   "source": [
    "result.to_csv(r'/home/pitzm/Dokumentumok/Data Science/Kaggle/AdvancedRegression/resultlm.csv',index=False)"
   ]
  },
  {
   "cell_type": "code",
   "execution_count": 350,
   "metadata": {},
   "outputs": [
    {
     "data": {
      "text/html": [
       "<div>\n",
       "<style scoped>\n",
       "    .dataframe tbody tr th:only-of-type {\n",
       "        vertical-align: middle;\n",
       "    }\n",
       "\n",
       "    .dataframe tbody tr th {\n",
       "        vertical-align: top;\n",
       "    }\n",
       "\n",
       "    .dataframe thead th {\n",
       "        text-align: right;\n",
       "    }\n",
       "</style>\n",
       "<table border=\"1\" class=\"dataframe\">\n",
       "  <thead>\n",
       "    <tr style=\"text-align: right;\">\n",
       "      <th></th>\n",
       "      <th>Id</th>\n",
       "    </tr>\n",
       "  </thead>\n",
       "  <tbody>\n",
       "    <tr>\n",
       "      <th>1460</th>\n",
       "      <td>1461</td>\n",
       "    </tr>\n",
       "    <tr>\n",
       "      <th>1461</th>\n",
       "      <td>1462</td>\n",
       "    </tr>\n",
       "    <tr>\n",
       "      <th>1462</th>\n",
       "      <td>1463</td>\n",
       "    </tr>\n",
       "    <tr>\n",
       "      <th>1463</th>\n",
       "      <td>1464</td>\n",
       "    </tr>\n",
       "    <tr>\n",
       "      <th>1464</th>\n",
       "      <td>1465</td>\n",
       "    </tr>\n",
       "    <tr>\n",
       "      <th>...</th>\n",
       "      <td>...</td>\n",
       "    </tr>\n",
       "    <tr>\n",
       "      <th>2914</th>\n",
       "      <td>2915</td>\n",
       "    </tr>\n",
       "    <tr>\n",
       "      <th>2915</th>\n",
       "      <td>2916</td>\n",
       "    </tr>\n",
       "    <tr>\n",
       "      <th>2916</th>\n",
       "      <td>2917</td>\n",
       "    </tr>\n",
       "    <tr>\n",
       "      <th>2917</th>\n",
       "      <td>2918</td>\n",
       "    </tr>\n",
       "    <tr>\n",
       "      <th>2918</th>\n",
       "      <td>2919</td>\n",
       "    </tr>\n",
       "  </tbody>\n",
       "</table>\n",
       "<p>1459 rows × 1 columns</p>\n",
       "</div>"
      ],
      "text/plain": [
       "        Id\n",
       "1460  1461\n",
       "1461  1462\n",
       "1462  1463\n",
       "1463  1464\n",
       "1464  1465\n",
       "...    ...\n",
       "2914  2915\n",
       "2915  2916\n",
       "2916  2917\n",
       "2917  2918\n",
       "2918  2919\n",
       "\n",
       "[1459 rows x 1 columns]"
      ]
     },
     "execution_count": 350,
     "metadata": {},
     "output_type": "execute_result"
    }
   ],
   "source": [
    "result.drop('SalePrice', axis=1)"
   ]
  },
  {
   "cell_type": "markdown",
   "metadata": {},
   "source": [
    "Decision Tree model:"
   ]
  },
  {
   "cell_type": "code",
   "execution_count": 351,
   "metadata": {},
   "outputs": [],
   "source": [
    "from sklearn.tree import DecisionTreeRegressor"
   ]
  },
  {
   "cell_type": "code",
   "execution_count": 352,
   "metadata": {},
   "outputs": [],
   "source": [
    "dt=DecisionTreeRegressor()"
   ]
  },
  {
   "cell_type": "code",
   "execution_count": 353,
   "metadata": {},
   "outputs": [
    {
     "data": {
      "text/plain": [
       "DecisionTreeRegressor(ccp_alpha=0.0, criterion='mse', max_depth=None,\n",
       "                      max_features=None, max_leaf_nodes=None,\n",
       "                      min_impurity_decrease=0.0, min_impurity_split=None,\n",
       "                      min_samples_leaf=1, min_samples_split=2,\n",
       "                      min_weight_fraction_leaf=0.0, presort='deprecated',\n",
       "                      random_state=None, splitter='best')"
      ]
     },
     "execution_count": 353,
     "metadata": {},
     "output_type": "execute_result"
    }
   ],
   "source": [
    "dt.fit(X,y)"
   ]
  },
  {
   "cell_type": "code",
   "execution_count": 354,
   "metadata": {},
   "outputs": [],
   "source": [
    "predictions=dt.predict(test)"
   ]
  },
  {
   "cell_type": "code",
   "execution_count": 355,
   "metadata": {},
   "outputs": [
    {
     "data": {
      "text/plain": [
       "array([129000., 164900., 204000., ..., 145000., 108000., 219500.])"
      ]
     },
     "execution_count": 355,
     "metadata": {},
     "output_type": "execute_result"
    }
   ],
   "source": [
    "predictions"
   ]
  },
  {
   "cell_type": "code",
   "execution_count": 356,
   "metadata": {},
   "outputs": [],
   "source": [
    "result['SalePrice']=predictions"
   ]
  },
  {
   "cell_type": "code",
   "execution_count": 357,
   "metadata": {},
   "outputs": [
    {
     "data": {
      "text/html": [
       "<div>\n",
       "<style scoped>\n",
       "    .dataframe tbody tr th:only-of-type {\n",
       "        vertical-align: middle;\n",
       "    }\n",
       "\n",
       "    .dataframe tbody tr th {\n",
       "        vertical-align: top;\n",
       "    }\n",
       "\n",
       "    .dataframe thead th {\n",
       "        text-align: right;\n",
       "    }\n",
       "</style>\n",
       "<table border=\"1\" class=\"dataframe\">\n",
       "  <thead>\n",
       "    <tr style=\"text-align: right;\">\n",
       "      <th></th>\n",
       "      <th>Id</th>\n",
       "      <th>SalePrice</th>\n",
       "    </tr>\n",
       "  </thead>\n",
       "  <tbody>\n",
       "    <tr>\n",
       "      <th>1460</th>\n",
       "      <td>1461</td>\n",
       "      <td>129000.0</td>\n",
       "    </tr>\n",
       "    <tr>\n",
       "      <th>1461</th>\n",
       "      <td>1462</td>\n",
       "      <td>164900.0</td>\n",
       "    </tr>\n",
       "    <tr>\n",
       "      <th>1462</th>\n",
       "      <td>1463</td>\n",
       "      <td>204000.0</td>\n",
       "    </tr>\n",
       "    <tr>\n",
       "      <th>1463</th>\n",
       "      <td>1464</td>\n",
       "      <td>179900.0</td>\n",
       "    </tr>\n",
       "    <tr>\n",
       "      <th>1464</th>\n",
       "      <td>1465</td>\n",
       "      <td>220000.0</td>\n",
       "    </tr>\n",
       "  </tbody>\n",
       "</table>\n",
       "</div>"
      ],
      "text/plain": [
       "        Id  SalePrice\n",
       "1460  1461   129000.0\n",
       "1461  1462   164900.0\n",
       "1462  1463   204000.0\n",
       "1463  1464   179900.0\n",
       "1464  1465   220000.0"
      ]
     },
     "execution_count": 357,
     "metadata": {},
     "output_type": "execute_result"
    }
   ],
   "source": [
    "result.head()"
   ]
  },
  {
   "cell_type": "code",
   "execution_count": 358,
   "metadata": {},
   "outputs": [],
   "source": [
    "result.to_csv(r'/home/pitzm/Dokumentumok/Data Science/Kaggle/AdvancedRegression/resultdt.csv',index=False)"
   ]
  },
  {
   "cell_type": "code",
   "execution_count": 359,
   "metadata": {},
   "outputs": [],
   "source": [
    "result.drop('SalePrice', axis=1, inplace=True)"
   ]
  },
  {
   "cell_type": "markdown",
   "metadata": {},
   "source": [
    "Random Forest"
   ]
  },
  {
   "cell_type": "code",
   "execution_count": 360,
   "metadata": {},
   "outputs": [],
   "source": [
    "from sklearn.ensemble import RandomForestRegressor"
   ]
  },
  {
   "cell_type": "code",
   "execution_count": 361,
   "metadata": {},
   "outputs": [],
   "source": [
    "rf=RandomForestRegressor(n_estimators=200)"
   ]
  },
  {
   "cell_type": "code",
   "execution_count": 362,
   "metadata": {},
   "outputs": [
    {
     "data": {
      "text/plain": [
       "RandomForestRegressor(bootstrap=True, ccp_alpha=0.0, criterion='mse',\n",
       "                      max_depth=None, max_features='auto', max_leaf_nodes=None,\n",
       "                      max_samples=None, min_impurity_decrease=0.0,\n",
       "                      min_impurity_split=None, min_samples_leaf=1,\n",
       "                      min_samples_split=2, min_weight_fraction_leaf=0.0,\n",
       "                      n_estimators=200, n_jobs=None, oob_score=False,\n",
       "                      random_state=None, verbose=0, warm_start=False)"
      ]
     },
     "execution_count": 362,
     "metadata": {},
     "output_type": "execute_result"
    }
   ],
   "source": [
    "rf.fit(X,y)"
   ]
  },
  {
   "cell_type": "code",
   "execution_count": 363,
   "metadata": {},
   "outputs": [],
   "source": [
    "predictions=rf.predict(test)"
   ]
  },
  {
   "cell_type": "code",
   "execution_count": 364,
   "metadata": {},
   "outputs": [
    {
     "data": {
      "text/plain": [
       "array([129932.43 , 153985.11 , 180546.57 , ..., 153362.565, 115464.5  ,\n",
       "       224704.5  ])"
      ]
     },
     "execution_count": 364,
     "metadata": {},
     "output_type": "execute_result"
    }
   ],
   "source": [
    "predictions"
   ]
  },
  {
   "cell_type": "code",
   "execution_count": 365,
   "metadata": {},
   "outputs": [],
   "source": [
    "result['SalePrice']=predictions"
   ]
  },
  {
   "cell_type": "code",
   "execution_count": 366,
   "metadata": {},
   "outputs": [
    {
     "data": {
      "text/html": [
       "<div>\n",
       "<style scoped>\n",
       "    .dataframe tbody tr th:only-of-type {\n",
       "        vertical-align: middle;\n",
       "    }\n",
       "\n",
       "    .dataframe tbody tr th {\n",
       "        vertical-align: top;\n",
       "    }\n",
       "\n",
       "    .dataframe thead th {\n",
       "        text-align: right;\n",
       "    }\n",
       "</style>\n",
       "<table border=\"1\" class=\"dataframe\">\n",
       "  <thead>\n",
       "    <tr style=\"text-align: right;\">\n",
       "      <th></th>\n",
       "      <th>Id</th>\n",
       "      <th>SalePrice</th>\n",
       "    </tr>\n",
       "  </thead>\n",
       "  <tbody>\n",
       "    <tr>\n",
       "      <th>1460</th>\n",
       "      <td>1461</td>\n",
       "      <td>129932.43</td>\n",
       "    </tr>\n",
       "    <tr>\n",
       "      <th>1461</th>\n",
       "      <td>1462</td>\n",
       "      <td>153985.11</td>\n",
       "    </tr>\n",
       "    <tr>\n",
       "      <th>1462</th>\n",
       "      <td>1463</td>\n",
       "      <td>180546.57</td>\n",
       "    </tr>\n",
       "    <tr>\n",
       "      <th>1463</th>\n",
       "      <td>1464</td>\n",
       "      <td>188395.89</td>\n",
       "    </tr>\n",
       "    <tr>\n",
       "      <th>1464</th>\n",
       "      <td>1465</td>\n",
       "      <td>199662.71</td>\n",
       "    </tr>\n",
       "  </tbody>\n",
       "</table>\n",
       "</div>"
      ],
      "text/plain": [
       "        Id  SalePrice\n",
       "1460  1461  129932.43\n",
       "1461  1462  153985.11\n",
       "1462  1463  180546.57\n",
       "1463  1464  188395.89\n",
       "1464  1465  199662.71"
      ]
     },
     "execution_count": 366,
     "metadata": {},
     "output_type": "execute_result"
    }
   ],
   "source": [
    "result.head()"
   ]
  },
  {
   "cell_type": "code",
   "execution_count": 367,
   "metadata": {},
   "outputs": [],
   "source": [
    "result.to_csv(r'/home/pitzm/Dokumentumok/Data Science/Kaggle/AdvancedRegression/resultrf.csv',index=False)"
   ]
  },
  {
   "cell_type": "code",
   "execution_count": 368,
   "metadata": {},
   "outputs": [],
   "source": [
    "result.drop('SalePrice', axis=1, inplace=True)"
   ]
  },
  {
   "cell_type": "markdown",
   "metadata": {},
   "source": [
    "Support Vector Machines"
   ]
  },
  {
   "cell_type": "code",
   "execution_count": 369,
   "metadata": {},
   "outputs": [],
   "source": [
    "from sklearn.svm import SVR"
   ]
  },
  {
   "cell_type": "code",
   "execution_count": 370,
   "metadata": {},
   "outputs": [],
   "source": [
    "sv=SVR()"
   ]
  },
  {
   "cell_type": "code",
   "execution_count": 371,
   "metadata": {},
   "outputs": [
    {
     "data": {
      "text/plain": [
       "SVR(C=1.0, cache_size=200, coef0=0.0, degree=3, epsilon=0.1, gamma='scale',\n",
       "    kernel='rbf', max_iter=-1, shrinking=True, tol=0.001, verbose=False)"
      ]
     },
     "execution_count": 371,
     "metadata": {},
     "output_type": "execute_result"
    }
   ],
   "source": [
    "sv.fit(X,y)"
   ]
  },
  {
   "cell_type": "code",
   "execution_count": 372,
   "metadata": {},
   "outputs": [],
   "source": [
    "predictions=sv.predict(test)"
   ]
  },
  {
   "cell_type": "code",
   "execution_count": 373,
   "metadata": {},
   "outputs": [
    {
     "data": {
      "text/plain": [
       "array([163010.55508961, 163028.44830583, 163041.11188247, ...,\n",
       "       163087.76193684, 162992.87050347, 162991.0261905 ])"
      ]
     },
     "execution_count": 373,
     "metadata": {},
     "output_type": "execute_result"
    }
   ],
   "source": [
    "predictions"
   ]
  },
  {
   "cell_type": "code",
   "execution_count": 374,
   "metadata": {},
   "outputs": [],
   "source": [
    "result['SalePrice']=predictions"
   ]
  },
  {
   "cell_type": "code",
   "execution_count": 375,
   "metadata": {},
   "outputs": [
    {
     "data": {
      "text/html": [
       "<div>\n",
       "<style scoped>\n",
       "    .dataframe tbody tr th:only-of-type {\n",
       "        vertical-align: middle;\n",
       "    }\n",
       "\n",
       "    .dataframe tbody tr th {\n",
       "        vertical-align: top;\n",
       "    }\n",
       "\n",
       "    .dataframe thead th {\n",
       "        text-align: right;\n",
       "    }\n",
       "</style>\n",
       "<table border=\"1\" class=\"dataframe\">\n",
       "  <thead>\n",
       "    <tr style=\"text-align: right;\">\n",
       "      <th></th>\n",
       "      <th>Id</th>\n",
       "      <th>SalePrice</th>\n",
       "    </tr>\n",
       "  </thead>\n",
       "  <tbody>\n",
       "    <tr>\n",
       "      <th>1460</th>\n",
       "      <td>1461</td>\n",
       "      <td>163010.555090</td>\n",
       "    </tr>\n",
       "    <tr>\n",
       "      <th>1461</th>\n",
       "      <td>1462</td>\n",
       "      <td>163028.448306</td>\n",
       "    </tr>\n",
       "    <tr>\n",
       "      <th>1462</th>\n",
       "      <td>1463</td>\n",
       "      <td>163041.111882</td>\n",
       "    </tr>\n",
       "    <tr>\n",
       "      <th>1463</th>\n",
       "      <td>1464</td>\n",
       "      <td>162993.067189</td>\n",
       "    </tr>\n",
       "    <tr>\n",
       "      <th>1464</th>\n",
       "      <td>1465</td>\n",
       "      <td>162937.361889</td>\n",
       "    </tr>\n",
       "  </tbody>\n",
       "</table>\n",
       "</div>"
      ],
      "text/plain": [
       "        Id      SalePrice\n",
       "1460  1461  163010.555090\n",
       "1461  1462  163028.448306\n",
       "1462  1463  163041.111882\n",
       "1463  1464  162993.067189\n",
       "1464  1465  162937.361889"
      ]
     },
     "execution_count": 375,
     "metadata": {},
     "output_type": "execute_result"
    }
   ],
   "source": [
    "result.head()"
   ]
  },
  {
   "cell_type": "code",
   "execution_count": 376,
   "metadata": {},
   "outputs": [],
   "source": [
    "result.to_csv(r'/home/pitzm/Dokumentumok/Data Science/Kaggle/AdvancedRegression/resultsv.csv',index=False)"
   ]
  },
  {
   "cell_type": "code",
   "execution_count": 377,
   "metadata": {},
   "outputs": [],
   "source": [
    "result.drop('SalePrice', axis=1, inplace=True)"
   ]
  },
  {
   "cell_type": "markdown",
   "metadata": {},
   "source": [
    "Grid search:"
   ]
  },
  {
   "cell_type": "code",
   "execution_count": 378,
   "metadata": {},
   "outputs": [],
   "source": [
    "#from sklearn.model_selection import GridSearchCV"
   ]
  },
  {
   "cell_type": "code",
   "execution_count": 379,
   "metadata": {},
   "outputs": [],
   "source": [
    "#param_grid={'C':[0.1,1,10,100,1000], 'gamma':[1,0.1,0.01, 0.001,0.0001]}"
   ]
  },
  {
   "cell_type": "code",
   "execution_count": 380,
   "metadata": {},
   "outputs": [],
   "source": [
    "#grid=GridSearchCV(SVR(), param_grid, verbose=3)"
   ]
  },
  {
   "cell_type": "code",
   "execution_count": 381,
   "metadata": {},
   "outputs": [],
   "source": [
    "#grid.fit(X,y)"
   ]
  },
  {
   "cell_type": "code",
   "execution_count": 382,
   "metadata": {},
   "outputs": [
    {
     "ename": "AttributeError",
     "evalue": "'GridSearchCV' object has no attribute 'best_params_'",
     "output_type": "error",
     "traceback": [
      "\u001b[0;31m---------------------------------------------------------------------------\u001b[0m",
      "\u001b[0;31mAttributeError\u001b[0m                            Traceback (most recent call last)",
      "\u001b[0;32m<ipython-input-382-28c2e4d7952c>\u001b[0m in \u001b[0;36m<module>\u001b[0;34m\u001b[0m\n\u001b[0;32m----> 1\u001b[0;31m \u001b[0mgrid\u001b[0m\u001b[0;34m.\u001b[0m\u001b[0mbest_params_\u001b[0m\u001b[0;34m\u001b[0m\u001b[0;34m\u001b[0m\u001b[0m\n\u001b[0m",
      "\u001b[0;31mAttributeError\u001b[0m: 'GridSearchCV' object has no attribute 'best_params_'"
     ]
    }
   ],
   "source": [
    "#grid.best_params_"
   ]
  },
  {
   "cell_type": "code",
   "execution_count": null,
   "metadata": {},
   "outputs": [],
   "source": [
    "#grid.best_estimator_"
   ]
  },
  {
   "cell_type": "code",
   "execution_count": null,
   "metadata": {},
   "outputs": [],
   "source": [
    "#predictions=grid.predict(test)"
   ]
  },
  {
   "cell_type": "code",
   "execution_count": null,
   "metadata": {},
   "outputs": [],
   "source": [
    "#result['SalePrice']=predictions"
   ]
  },
  {
   "cell_type": "code",
   "execution_count": null,
   "metadata": {},
   "outputs": [],
   "source": [
    "#result.head(10)"
   ]
  },
  {
   "cell_type": "code",
   "execution_count": null,
   "metadata": {},
   "outputs": [],
   "source": [
    "#result.to_csv(r'/home/pitzm/Dokumentumok/Data Science/Kaggle/AdvancedRegression/resultgrid.csv',index=False)"
   ]
  },
  {
   "cell_type": "code",
   "execution_count": 383,
   "metadata": {},
   "outputs": [
    {
     "ename": "KeyError",
     "evalue": "\"['SalePrice'] not found in axis\"",
     "output_type": "error",
     "traceback": [
      "\u001b[0;31m---------------------------------------------------------------------------\u001b[0m",
      "\u001b[0;31mKeyError\u001b[0m                                  Traceback (most recent call last)",
      "\u001b[0;32m<ipython-input-383-b7434ec095b6>\u001b[0m in \u001b[0;36m<module>\u001b[0;34m\u001b[0m\n\u001b[0;32m----> 1\u001b[0;31m \u001b[0mresult\u001b[0m\u001b[0;34m.\u001b[0m\u001b[0mdrop\u001b[0m\u001b[0;34m(\u001b[0m\u001b[0;34m'SalePrice'\u001b[0m\u001b[0;34m,\u001b[0m \u001b[0maxis\u001b[0m\u001b[0;34m=\u001b[0m\u001b[0;36m1\u001b[0m\u001b[0;34m,\u001b[0m \u001b[0minplace\u001b[0m\u001b[0;34m=\u001b[0m\u001b[0;32mTrue\u001b[0m\u001b[0;34m)\u001b[0m\u001b[0;34m\u001b[0m\u001b[0;34m\u001b[0m\u001b[0m\n\u001b[0m",
      "\u001b[0;32m~/anaconda3/lib/python3.7/site-packages/pandas/core/frame.py\u001b[0m in \u001b[0;36mdrop\u001b[0;34m(self, labels, axis, index, columns, level, inplace, errors)\u001b[0m\n\u001b[1;32m   3995\u001b[0m             \u001b[0mlevel\u001b[0m\u001b[0;34m=\u001b[0m\u001b[0mlevel\u001b[0m\u001b[0;34m,\u001b[0m\u001b[0;34m\u001b[0m\u001b[0;34m\u001b[0m\u001b[0m\n\u001b[1;32m   3996\u001b[0m             \u001b[0minplace\u001b[0m\u001b[0;34m=\u001b[0m\u001b[0minplace\u001b[0m\u001b[0;34m,\u001b[0m\u001b[0;34m\u001b[0m\u001b[0;34m\u001b[0m\u001b[0m\n\u001b[0;32m-> 3997\u001b[0;31m             \u001b[0merrors\u001b[0m\u001b[0;34m=\u001b[0m\u001b[0merrors\u001b[0m\u001b[0;34m,\u001b[0m\u001b[0;34m\u001b[0m\u001b[0;34m\u001b[0m\u001b[0m\n\u001b[0m\u001b[1;32m   3998\u001b[0m         )\n\u001b[1;32m   3999\u001b[0m \u001b[0;34m\u001b[0m\u001b[0m\n",
      "\u001b[0;32m~/anaconda3/lib/python3.7/site-packages/pandas/core/generic.py\u001b[0m in \u001b[0;36mdrop\u001b[0;34m(self, labels, axis, index, columns, level, inplace, errors)\u001b[0m\n\u001b[1;32m   3934\u001b[0m         \u001b[0;32mfor\u001b[0m \u001b[0maxis\u001b[0m\u001b[0;34m,\u001b[0m \u001b[0mlabels\u001b[0m \u001b[0;32min\u001b[0m \u001b[0maxes\u001b[0m\u001b[0;34m.\u001b[0m\u001b[0mitems\u001b[0m\u001b[0;34m(\u001b[0m\u001b[0;34m)\u001b[0m\u001b[0;34m:\u001b[0m\u001b[0;34m\u001b[0m\u001b[0;34m\u001b[0m\u001b[0m\n\u001b[1;32m   3935\u001b[0m             \u001b[0;32mif\u001b[0m \u001b[0mlabels\u001b[0m \u001b[0;32mis\u001b[0m \u001b[0;32mnot\u001b[0m \u001b[0;32mNone\u001b[0m\u001b[0;34m:\u001b[0m\u001b[0;34m\u001b[0m\u001b[0;34m\u001b[0m\u001b[0m\n\u001b[0;32m-> 3936\u001b[0;31m                 \u001b[0mobj\u001b[0m \u001b[0;34m=\u001b[0m \u001b[0mobj\u001b[0m\u001b[0;34m.\u001b[0m\u001b[0m_drop_axis\u001b[0m\u001b[0;34m(\u001b[0m\u001b[0mlabels\u001b[0m\u001b[0;34m,\u001b[0m \u001b[0maxis\u001b[0m\u001b[0;34m,\u001b[0m \u001b[0mlevel\u001b[0m\u001b[0;34m=\u001b[0m\u001b[0mlevel\u001b[0m\u001b[0;34m,\u001b[0m \u001b[0merrors\u001b[0m\u001b[0;34m=\u001b[0m\u001b[0merrors\u001b[0m\u001b[0;34m)\u001b[0m\u001b[0;34m\u001b[0m\u001b[0;34m\u001b[0m\u001b[0m\n\u001b[0m\u001b[1;32m   3937\u001b[0m \u001b[0;34m\u001b[0m\u001b[0m\n\u001b[1;32m   3938\u001b[0m         \u001b[0;32mif\u001b[0m \u001b[0minplace\u001b[0m\u001b[0;34m:\u001b[0m\u001b[0;34m\u001b[0m\u001b[0;34m\u001b[0m\u001b[0m\n",
      "\u001b[0;32m~/anaconda3/lib/python3.7/site-packages/pandas/core/generic.py\u001b[0m in \u001b[0;36m_drop_axis\u001b[0;34m(self, labels, axis, level, errors)\u001b[0m\n\u001b[1;32m   3968\u001b[0m                 \u001b[0mnew_axis\u001b[0m \u001b[0;34m=\u001b[0m \u001b[0maxis\u001b[0m\u001b[0;34m.\u001b[0m\u001b[0mdrop\u001b[0m\u001b[0;34m(\u001b[0m\u001b[0mlabels\u001b[0m\u001b[0;34m,\u001b[0m \u001b[0mlevel\u001b[0m\u001b[0;34m=\u001b[0m\u001b[0mlevel\u001b[0m\u001b[0;34m,\u001b[0m \u001b[0merrors\u001b[0m\u001b[0;34m=\u001b[0m\u001b[0merrors\u001b[0m\u001b[0;34m)\u001b[0m\u001b[0;34m\u001b[0m\u001b[0;34m\u001b[0m\u001b[0m\n\u001b[1;32m   3969\u001b[0m             \u001b[0;32melse\u001b[0m\u001b[0;34m:\u001b[0m\u001b[0;34m\u001b[0m\u001b[0;34m\u001b[0m\u001b[0m\n\u001b[0;32m-> 3970\u001b[0;31m                 \u001b[0mnew_axis\u001b[0m \u001b[0;34m=\u001b[0m \u001b[0maxis\u001b[0m\u001b[0;34m.\u001b[0m\u001b[0mdrop\u001b[0m\u001b[0;34m(\u001b[0m\u001b[0mlabels\u001b[0m\u001b[0;34m,\u001b[0m \u001b[0merrors\u001b[0m\u001b[0;34m=\u001b[0m\u001b[0merrors\u001b[0m\u001b[0;34m)\u001b[0m\u001b[0;34m\u001b[0m\u001b[0;34m\u001b[0m\u001b[0m\n\u001b[0m\u001b[1;32m   3971\u001b[0m             \u001b[0mresult\u001b[0m \u001b[0;34m=\u001b[0m \u001b[0mself\u001b[0m\u001b[0;34m.\u001b[0m\u001b[0mreindex\u001b[0m\u001b[0;34m(\u001b[0m\u001b[0;34m**\u001b[0m\u001b[0;34m{\u001b[0m\u001b[0maxis_name\u001b[0m\u001b[0;34m:\u001b[0m \u001b[0mnew_axis\u001b[0m\u001b[0;34m}\u001b[0m\u001b[0;34m)\u001b[0m\u001b[0;34m\u001b[0m\u001b[0;34m\u001b[0m\u001b[0m\n\u001b[1;32m   3972\u001b[0m \u001b[0;34m\u001b[0m\u001b[0m\n",
      "\u001b[0;32m~/anaconda3/lib/python3.7/site-packages/pandas/core/indexes/base.py\u001b[0m in \u001b[0;36mdrop\u001b[0;34m(self, labels, errors)\u001b[0m\n\u001b[1;32m   5015\u001b[0m         \u001b[0;32mif\u001b[0m \u001b[0mmask\u001b[0m\u001b[0;34m.\u001b[0m\u001b[0many\u001b[0m\u001b[0;34m(\u001b[0m\u001b[0;34m)\u001b[0m\u001b[0;34m:\u001b[0m\u001b[0;34m\u001b[0m\u001b[0;34m\u001b[0m\u001b[0m\n\u001b[1;32m   5016\u001b[0m             \u001b[0;32mif\u001b[0m \u001b[0merrors\u001b[0m \u001b[0;34m!=\u001b[0m \u001b[0;34m\"ignore\"\u001b[0m\u001b[0;34m:\u001b[0m\u001b[0;34m\u001b[0m\u001b[0;34m\u001b[0m\u001b[0m\n\u001b[0;32m-> 5017\u001b[0;31m                 \u001b[0;32mraise\u001b[0m \u001b[0mKeyError\u001b[0m\u001b[0;34m(\u001b[0m\u001b[0;34mf\"{labels[mask]} not found in axis\"\u001b[0m\u001b[0;34m)\u001b[0m\u001b[0;34m\u001b[0m\u001b[0;34m\u001b[0m\u001b[0m\n\u001b[0m\u001b[1;32m   5018\u001b[0m             \u001b[0mindexer\u001b[0m \u001b[0;34m=\u001b[0m \u001b[0mindexer\u001b[0m\u001b[0;34m[\u001b[0m\u001b[0;34m~\u001b[0m\u001b[0mmask\u001b[0m\u001b[0;34m]\u001b[0m\u001b[0;34m\u001b[0m\u001b[0;34m\u001b[0m\u001b[0m\n\u001b[1;32m   5019\u001b[0m         \u001b[0;32mreturn\u001b[0m \u001b[0mself\u001b[0m\u001b[0;34m.\u001b[0m\u001b[0mdelete\u001b[0m\u001b[0;34m(\u001b[0m\u001b[0mindexer\u001b[0m\u001b[0;34m)\u001b[0m\u001b[0;34m\u001b[0m\u001b[0;34m\u001b[0m\u001b[0m\n",
      "\u001b[0;31mKeyError\u001b[0m: \"['SalePrice'] not found in axis\""
     ]
    }
   ],
   "source": [
    "#result.drop('SalePrice', axis=1, inplace=True)"
   ]
  },
  {
   "cell_type": "markdown",
   "metadata": {},
   "source": [
    "Neural Network:"
   ]
  },
  {
   "cell_type": "code",
   "execution_count": null,
   "metadata": {},
   "outputs": [],
   "source": [
    "from sklearn.preprocessing import MinMaxScaler"
   ]
  },
  {
   "cell_type": "code",
   "execution_count": null,
   "metadata": {},
   "outputs": [],
   "source": [
    "X1=X"
   ]
  },
  {
   "cell_type": "code",
   "execution_count": null,
   "metadata": {},
   "outputs": [],
   "source": [
    "test1=test"
   ]
  },
  {
   "cell_type": "code",
   "execution_count": null,
   "metadata": {},
   "outputs": [],
   "source": [
    "scaler=MinMaxScaler()"
   ]
  },
  {
   "cell_type": "code",
   "execution_count": null,
   "metadata": {},
   "outputs": [],
   "source": [
    "X1=scaler.fit_transform(X1)"
   ]
  },
  {
   "cell_type": "code",
   "execution_count": null,
   "metadata": {},
   "outputs": [],
   "source": [
    "X1.shape"
   ]
  },
  {
   "cell_type": "code",
   "execution_count": null,
   "metadata": {},
   "outputs": [],
   "source": [
    "X1"
   ]
  },
  {
   "cell_type": "code",
   "execution_count": null,
   "metadata": {},
   "outputs": [],
   "source": [
    "test1=scaler.transform(test1)"
   ]
  },
  {
   "cell_type": "code",
   "execution_count": null,
   "metadata": {},
   "outputs": [],
   "source": [
    "from tensorflow.keras.models import Sequential\n",
    "from tensorflow.keras.layers import Dense"
   ]
  },
  {
   "cell_type": "code",
   "execution_count": 406,
   "metadata": {},
   "outputs": [],
   "source": [
    "nn=Sequential()\n",
    "\n",
    "nn.add(Dense(236,activation='relu'))\n",
    "nn.add(Dense(150,activation='relu'))\n",
    "nn.add(Dense(150,activation='relu'))\n",
    "nn.add(Dense(1))\n",
    "\n",
    "nn.compile(optimizer='adam', loss='mse')"
   ]
  },
  {
   "cell_type": "code",
   "execution_count": 407,
   "metadata": {},
   "outputs": [],
   "source": [
    "from tensorflow.keras.callbacks import EarlyStopping"
   ]
  },
  {
   "cell_type": "code",
   "execution_count": 408,
   "metadata": {},
   "outputs": [],
   "source": [
    "early_stop=EarlyStopping(monitor='loss', mode='min', verbose=1, patience=10)"
   ]
  },
  {
   "cell_type": "code",
   "execution_count": 411,
   "metadata": {},
   "outputs": [
    {
     "name": "stdout",
     "output_type": "stream",
     "text": [
      "Epoch 1/8000\n",
      "15/15 [==============================] - 0s 4ms/step - loss: 39037124608.0000\n",
      "Epoch 2/8000\n",
      "15/15 [==============================] - 0s 4ms/step - loss: 39009984512.0000\n",
      "Epoch 3/8000\n",
      "15/15 [==============================] - 0s 5ms/step - loss: 38845698048.0000\n",
      "Epoch 4/8000\n",
      "15/15 [==============================] - 0s 5ms/step - loss: 38213586944.0000\n",
      "Epoch 5/8000\n",
      "15/15 [==============================] - 0s 5ms/step - loss: 36421832704.0000\n",
      "Epoch 6/8000\n",
      "15/15 [==============================] - 0s 4ms/step - loss: 32385507328.0000\n",
      "Epoch 7/8000\n",
      "15/15 [==============================] - 0s 6ms/step - loss: 25255374848.0000\n",
      "Epoch 8/8000\n",
      "15/15 [==============================] - 0s 4ms/step - loss: 15524346880.0000\n",
      "Epoch 9/8000\n",
      "15/15 [==============================] - 0s 5ms/step - loss: 7719768576.0000\n",
      "Epoch 10/8000\n",
      "15/15 [==============================] - 0s 4ms/step - loss: 5463876608.0000\n",
      "Epoch 11/8000\n",
      "15/15 [==============================] - 0s 5ms/step - loss: 5152099840.0000\n",
      "Epoch 12/8000\n",
      "15/15 [==============================] - 0s 5ms/step - loss: 4772193792.0000\n",
      "Epoch 13/8000\n",
      "15/15 [==============================] - 0s 5ms/step - loss: 4495695872.0000\n",
      "Epoch 14/8000\n",
      "15/15 [==============================] - 0s 5ms/step - loss: 4253187584.0000\n",
      "Epoch 15/8000\n",
      "15/15 [==============================] - 0s 4ms/step - loss: 4025062656.0000\n",
      "Epoch 16/8000\n",
      "15/15 [==============================] - 0s 5ms/step - loss: 3818577664.0000\n",
      "Epoch 17/8000\n",
      "15/15 [==============================] - 0s 6ms/step - loss: 3614483200.0000\n",
      "Epoch 18/8000\n",
      "15/15 [==============================] - 0s 5ms/step - loss: 3437552384.0000\n",
      "Epoch 19/8000\n",
      "15/15 [==============================] - 0s 4ms/step - loss: 3270849792.0000\n",
      "Epoch 20/8000\n",
      "15/15 [==============================] - 0s 5ms/step - loss: 3116124672.0000\n",
      "Epoch 21/8000\n",
      "15/15 [==============================] - 0s 6ms/step - loss: 2978146560.0000\n",
      "Epoch 22/8000\n",
      "15/15 [==============================] - 0s 6ms/step - loss: 2850062848.0000\n",
      "Epoch 23/8000\n",
      "15/15 [==============================] - 0s 5ms/step - loss: 2730750208.0000\n",
      "Epoch 24/8000\n",
      "15/15 [==============================] - 0s 5ms/step - loss: 2622079232.0000\n",
      "Epoch 25/8000\n",
      "15/15 [==============================] - 0s 6ms/step - loss: 2522875904.0000\n",
      "Epoch 26/8000\n",
      "15/15 [==============================] - 0s 6ms/step - loss: 2432320768.0000\n",
      "Epoch 27/8000\n",
      "15/15 [==============================] - 0s 5ms/step - loss: 2348052480.0000\n",
      "Epoch 28/8000\n",
      "15/15 [==============================] - 0s 5ms/step - loss: 2268638976.0000\n",
      "Epoch 29/8000\n",
      "15/15 [==============================] - 0s 5ms/step - loss: 2198761472.0000\n",
      "Epoch 30/8000\n",
      "15/15 [==============================] - 0s 5ms/step - loss: 2123018112.0000\n",
      "Epoch 31/8000\n",
      "15/15 [==============================] - 0s 5ms/step - loss: 2055366272.0000\n",
      "Epoch 32/8000\n",
      "15/15 [==============================] - 0s 5ms/step - loss: 1995264896.0000\n",
      "Epoch 33/8000\n",
      "15/15 [==============================] - 0s 5ms/step - loss: 1938259200.0000\n",
      "Epoch 34/8000\n",
      "15/15 [==============================] - 0s 5ms/step - loss: 1881419008.0000\n",
      "Epoch 35/8000\n",
      "15/15 [==============================] - 0s 5ms/step - loss: 1825540352.0000\n",
      "Epoch 36/8000\n",
      "15/15 [==============================] - 0s 5ms/step - loss: 1777577600.0000\n",
      "Epoch 37/8000\n",
      "15/15 [==============================] - 0s 5ms/step - loss: 1723761664.0000\n",
      "Epoch 38/8000\n",
      "15/15 [==============================] - 0s 4ms/step - loss: 1682854400.0000\n",
      "Epoch 39/8000\n",
      "15/15 [==============================] - 0s 5ms/step - loss: 1632084864.0000\n",
      "Epoch 40/8000\n",
      "15/15 [==============================] - 0s 5ms/step - loss: 1597144448.0000\n",
      "Epoch 41/8000\n",
      "15/15 [==============================] - 0s 5ms/step - loss: 1551571584.0000\n",
      "Epoch 42/8000\n",
      "15/15 [==============================] - 0s 5ms/step - loss: 1511618048.0000\n",
      "Epoch 43/8000\n",
      "15/15 [==============================] - 0s 5ms/step - loss: 1474608384.0000\n",
      "Epoch 44/8000\n",
      "15/15 [==============================] - 0s 6ms/step - loss: 1439734016.0000\n",
      "Epoch 45/8000\n",
      "15/15 [==============================] - 0s 5ms/step - loss: 1408112128.0000\n",
      "Epoch 46/8000\n",
      "15/15 [==============================] - 0s 5ms/step - loss: 1378112512.0000\n",
      "Epoch 47/8000\n",
      "15/15 [==============================] - 0s 5ms/step - loss: 1353104128.0000\n",
      "Epoch 48/8000\n",
      "15/15 [==============================] - 0s 4ms/step - loss: 1327096320.0000\n",
      "Epoch 49/8000\n",
      "15/15 [==============================] - 0s 4ms/step - loss: 1300694016.0000\n",
      "Epoch 50/8000\n",
      "15/15 [==============================] - 0s 5ms/step - loss: 1276310784.0000\n",
      "Epoch 51/8000\n",
      "15/15 [==============================] - 0s 5ms/step - loss: 1250463104.0000\n",
      "Epoch 52/8000\n",
      "15/15 [==============================] - 0s 5ms/step - loss: 1230254976.0000\n",
      "Epoch 53/8000\n",
      "15/15 [==============================] - 0s 5ms/step - loss: 1209726592.0000\n",
      "Epoch 54/8000\n",
      "15/15 [==============================] - 0s 4ms/step - loss: 1192751744.0000\n",
      "Epoch 55/8000\n",
      "15/15 [==============================] - 0s 4ms/step - loss: 1175200896.0000\n",
      "Epoch 56/8000\n",
      "15/15 [==============================] - 0s 4ms/step - loss: 1159613440.0000\n",
      "Epoch 57/8000\n",
      "15/15 [==============================] - 0s 4ms/step - loss: 1142101376.0000\n",
      "Epoch 58/8000\n",
      "15/15 [==============================] - 0s 4ms/step - loss: 1128856192.0000\n",
      "Epoch 59/8000\n",
      "15/15 [==============================] - 0s 5ms/step - loss: 1111585280.0000\n",
      "Epoch 60/8000\n",
      "15/15 [==============================] - 0s 4ms/step - loss: 1097822592.0000\n",
      "Epoch 61/8000\n",
      "15/15 [==============================] - 0s 4ms/step - loss: 1086037120.0000\n",
      "Epoch 62/8000\n",
      "15/15 [==============================] - 0s 4ms/step - loss: 1072698624.0000\n",
      "Epoch 63/8000\n",
      "15/15 [==============================] - 0s 5ms/step - loss: 1062320960.0000\n",
      "Epoch 64/8000\n",
      "15/15 [==============================] - 0s 4ms/step - loss: 1051785216.0000\n",
      "Epoch 65/8000\n",
      "15/15 [==============================] - 0s 5ms/step - loss: 1048404160.0000\n",
      "Epoch 66/8000\n",
      "15/15 [==============================] - 0s 6ms/step - loss: 1037163968.0000\n",
      "Epoch 67/8000\n",
      "15/15 [==============================] - 0s 5ms/step - loss: 1026283264.0000\n",
      "Epoch 68/8000\n",
      "15/15 [==============================] - 0s 6ms/step - loss: 1008872768.0000\n",
      "Epoch 69/8000\n",
      "15/15 [==============================] - 0s 6ms/step - loss: 998913280.0000\n",
      "Epoch 70/8000\n",
      "15/15 [==============================] - 0s 6ms/step - loss: 991408576.0000\n",
      "Epoch 71/8000\n",
      "15/15 [==============================] - 0s 4ms/step - loss: 992658880.0000\n",
      "Epoch 72/8000\n",
      "15/15 [==============================] - 0s 5ms/step - loss: 971881216.0000\n",
      "Epoch 73/8000\n",
      "15/15 [==============================] - 0s 6ms/step - loss: 961728512.0000\n",
      "Epoch 74/8000\n",
      "15/15 [==============================] - 0s 5ms/step - loss: 952251648.0000\n",
      "Epoch 75/8000\n",
      "15/15 [==============================] - 0s 5ms/step - loss: 947453888.0000\n",
      "Epoch 76/8000\n",
      "15/15 [==============================] - 0s 5ms/step - loss: 935186880.0000\n",
      "Epoch 77/8000\n",
      "15/15 [==============================] - 0s 5ms/step - loss: 929338816.0000\n",
      "Epoch 78/8000\n",
      "15/15 [==============================] - 0s 5ms/step - loss: 917704576.0000\n",
      "Epoch 79/8000\n",
      "15/15 [==============================] - 0s 5ms/step - loss: 910883008.0000\n",
      "Epoch 80/8000\n",
      "15/15 [==============================] - 0s 5ms/step - loss: 906029440.0000\n",
      "Epoch 81/8000\n",
      "15/15 [==============================] - 0s 7ms/step - loss: 898636288.0000\n",
      "Epoch 82/8000\n",
      "15/15 [==============================] - 0s 4ms/step - loss: 890268160.0000\n",
      "Epoch 83/8000\n",
      "15/15 [==============================] - 0s 6ms/step - loss: 884247616.0000\n",
      "Epoch 84/8000\n",
      "15/15 [==============================] - 0s 5ms/step - loss: 875829184.0000\n",
      "Epoch 85/8000\n",
      "15/15 [==============================] - 0s 4ms/step - loss: 873314304.0000\n",
      "Epoch 86/8000\n",
      "15/15 [==============================] - 0s 5ms/step - loss: 864090624.0000\n",
      "Epoch 87/8000\n",
      "15/15 [==============================] - 0s 5ms/step - loss: 857497728.0000\n",
      "Epoch 88/8000\n",
      "15/15 [==============================] - 0s 5ms/step - loss: 852819584.0000\n",
      "Epoch 89/8000\n",
      "15/15 [==============================] - 0s 5ms/step - loss: 853088576.0000\n",
      "Epoch 90/8000\n",
      "15/15 [==============================] - 0s 5ms/step - loss: 840181056.0000\n",
      "Epoch 91/8000\n"
     ]
    },
    {
     "name": "stdout",
     "output_type": "stream",
     "text": [
      "15/15 [==============================] - 0s 5ms/step - loss: 837749184.0000\n",
      "Epoch 92/8000\n",
      "15/15 [==============================] - 0s 5ms/step - loss: 831137600.0000\n",
      "Epoch 93/8000\n",
      "15/15 [==============================] - 0s 4ms/step - loss: 822300928.0000\n",
      "Epoch 94/8000\n",
      "15/15 [==============================] - 0s 4ms/step - loss: 819264128.0000\n",
      "Epoch 95/8000\n",
      "15/15 [==============================] - 0s 4ms/step - loss: 813047360.0000\n",
      "Epoch 96/8000\n",
      "15/15 [==============================] - 0s 4ms/step - loss: 811085312.0000\n",
      "Epoch 97/8000\n",
      "15/15 [==============================] - 0s 4ms/step - loss: 802585728.0000\n",
      "Epoch 98/8000\n",
      "15/15 [==============================] - 0s 4ms/step - loss: 798807168.0000\n",
      "Epoch 99/8000\n",
      "15/15 [==============================] - 0s 5ms/step - loss: 794629824.0000\n",
      "Epoch 100/8000\n",
      "15/15 [==============================] - 0s 7ms/step - loss: 790639680.0000\n",
      "Epoch 101/8000\n",
      "15/15 [==============================] - 0s 6ms/step - loss: 784148032.0000\n",
      "Epoch 102/8000\n",
      "15/15 [==============================] - 0s 7ms/step - loss: 786009344.0000\n",
      "Epoch 103/8000\n",
      "15/15 [==============================] - 0s 6ms/step - loss: 776069440.0000\n",
      "Epoch 104/8000\n",
      "15/15 [==============================] - 0s 4ms/step - loss: 771790720.0000\n",
      "Epoch 105/8000\n",
      "15/15 [==============================] - 0s 4ms/step - loss: 768764864.0000\n",
      "Epoch 106/8000\n",
      "15/15 [==============================] - 0s 4ms/step - loss: 772089472.0000\n",
      "Epoch 107/8000\n",
      "15/15 [==============================] - 0s 4ms/step - loss: 767692736.0000\n",
      "Epoch 108/8000\n",
      "15/15 [==============================] - 0s 3ms/step - loss: 760659392.0000\n",
      "Epoch 109/8000\n",
      "15/15 [==============================] - 0s 4ms/step - loss: 756424064.0000\n",
      "Epoch 110/8000\n",
      "15/15 [==============================] - 0s 4ms/step - loss: 747335168.0000\n",
      "Epoch 111/8000\n",
      "15/15 [==============================] - 0s 4ms/step - loss: 745874944.0000\n",
      "Epoch 112/8000\n",
      "15/15 [==============================] - 0s 4ms/step - loss: 745392128.0000\n",
      "Epoch 113/8000\n",
      "15/15 [==============================] - 0s 4ms/step - loss: 736227328.0000\n",
      "Epoch 114/8000\n",
      "15/15 [==============================] - 0s 5ms/step - loss: 733615168.0000\n",
      "Epoch 115/8000\n",
      "15/15 [==============================] - 0s 4ms/step - loss: 729981376.0000\n",
      "Epoch 116/8000\n",
      "15/15 [==============================] - 0s 4ms/step - loss: 727588800.0000\n",
      "Epoch 117/8000\n",
      "15/15 [==============================] - 0s 4ms/step - loss: 725572288.0000\n",
      "Epoch 118/8000\n",
      "15/15 [==============================] - 0s 4ms/step - loss: 722169088.0000\n",
      "Epoch 119/8000\n",
      "15/15 [==============================] - 0s 4ms/step - loss: 719266432.0000\n",
      "Epoch 120/8000\n",
      "15/15 [==============================] - 0s 4ms/step - loss: 716420736.0000\n",
      "Epoch 121/8000\n",
      "15/15 [==============================] - 0s 4ms/step - loss: 713257152.0000\n",
      "Epoch 122/8000\n",
      "15/15 [==============================] - 0s 4ms/step - loss: 709248320.0000\n",
      "Epoch 123/8000\n",
      "15/15 [==============================] - 0s 4ms/step - loss: 705649216.0000\n",
      "Epoch 124/8000\n",
      "15/15 [==============================] - 0s 4ms/step - loss: 708075712.0000\n",
      "Epoch 125/8000\n",
      "15/15 [==============================] - 0s 4ms/step - loss: 709324032.0000\n",
      "Epoch 126/8000\n",
      "15/15 [==============================] - 0s 4ms/step - loss: 706123392.0000\n",
      "Epoch 127/8000\n",
      "15/15 [==============================] - 0s 4ms/step - loss: 695498432.0000\n",
      "Epoch 128/8000\n",
      "15/15 [==============================] - 0s 4ms/step - loss: 691480320.0000\n",
      "Epoch 129/8000\n",
      "15/15 [==============================] - 0s 4ms/step - loss: 694716544.0000\n",
      "Epoch 130/8000\n",
      "15/15 [==============================] - 0s 4ms/step - loss: 697790912.0000\n",
      "Epoch 131/8000\n",
      "15/15 [==============================] - 0s 4ms/step - loss: 684070208.0000\n",
      "Epoch 132/8000\n",
      "15/15 [==============================] - 0s 4ms/step - loss: 685941696.0000\n",
      "Epoch 133/8000\n",
      "15/15 [==============================] - 0s 4ms/step - loss: 677810048.0000\n",
      "Epoch 134/8000\n",
      "15/15 [==============================] - 0s 4ms/step - loss: 675527104.0000\n",
      "Epoch 135/8000\n",
      "15/15 [==============================] - 0s 4ms/step - loss: 675343296.0000\n",
      "Epoch 136/8000\n",
      "15/15 [==============================] - 0s 4ms/step - loss: 672298368.0000\n",
      "Epoch 137/8000\n",
      "15/15 [==============================] - 0s 4ms/step - loss: 670342400.0000\n",
      "Epoch 138/8000\n",
      "15/15 [==============================] - 0s 6ms/step - loss: 665073280.0000\n",
      "Epoch 139/8000\n",
      "15/15 [==============================] - 0s 7ms/step - loss: 662158848.0000\n",
      "Epoch 140/8000\n",
      "15/15 [==============================] - 0s 5ms/step - loss: 661345344.0000\n",
      "Epoch 141/8000\n",
      "15/15 [==============================] - 0s 4ms/step - loss: 658537792.0000\n",
      "Epoch 142/8000\n",
      "15/15 [==============================] - 0s 4ms/step - loss: 657978624.0000\n",
      "Epoch 143/8000\n",
      "15/15 [==============================] - 0s 4ms/step - loss: 662681728.0000\n",
      "Epoch 144/8000\n",
      "15/15 [==============================] - 0s 4ms/step - loss: 650653824.0000\n",
      "Epoch 145/8000\n",
      "15/15 [==============================] - 0s 4ms/step - loss: 651394112.0000\n",
      "Epoch 146/8000\n",
      "15/15 [==============================] - 0s 4ms/step - loss: 652787840.0000\n",
      "Epoch 147/8000\n",
      "15/15 [==============================] - 0s 4ms/step - loss: 643655424.0000\n",
      "Epoch 148/8000\n",
      "15/15 [==============================] - 0s 4ms/step - loss: 643554240.0000\n",
      "Epoch 149/8000\n",
      "15/15 [==============================] - 0s 4ms/step - loss: 644774272.0000\n",
      "Epoch 150/8000\n",
      "15/15 [==============================] - 0s 4ms/step - loss: 643318144.0000\n",
      "Epoch 151/8000\n",
      "15/15 [==============================] - 0s 4ms/step - loss: 637127872.0000\n",
      "Epoch 152/8000\n",
      "15/15 [==============================] - 0s 4ms/step - loss: 646938496.0000\n",
      "Epoch 153/8000\n",
      "15/15 [==============================] - 0s 4ms/step - loss: 643606720.0000\n",
      "Epoch 154/8000\n",
      "15/15 [==============================] - 0s 4ms/step - loss: 639806208.0000\n",
      "Epoch 155/8000\n",
      "15/15 [==============================] - 0s 4ms/step - loss: 628352640.0000\n",
      "Epoch 156/8000\n",
      "15/15 [==============================] - 0s 4ms/step - loss: 625127680.0000\n",
      "Epoch 157/8000\n",
      "15/15 [==============================] - 0s 4ms/step - loss: 623297344.0000\n",
      "Epoch 158/8000\n",
      "15/15 [==============================] - 0s 4ms/step - loss: 620591296.0000\n",
      "Epoch 159/8000\n",
      "15/15 [==============================] - 0s 4ms/step - loss: 619732672.0000\n",
      "Epoch 160/8000\n",
      "15/15 [==============================] - 0s 4ms/step - loss: 616920192.0000\n",
      "Epoch 161/8000\n",
      "15/15 [==============================] - 0s 4ms/step - loss: 617901440.0000\n",
      "Epoch 162/8000\n",
      "15/15 [==============================] - 0s 4ms/step - loss: 617421824.0000\n",
      "Epoch 163/8000\n",
      "15/15 [==============================] - 0s 4ms/step - loss: 619057344.0000\n",
      "Epoch 164/8000\n",
      "15/15 [==============================] - 0s 4ms/step - loss: 609554624.0000\n",
      "Epoch 165/8000\n",
      "15/15 [==============================] - 0s 4ms/step - loss: 606821632.0000\n",
      "Epoch 166/8000\n",
      "15/15 [==============================] - 0s 4ms/step - loss: 607782528.0000\n",
      "Epoch 167/8000\n",
      "15/15 [==============================] - 0s 4ms/step - loss: 604752320.0000\n",
      "Epoch 168/8000\n",
      "15/15 [==============================] - 0s 4ms/step - loss: 602262400.0000\n",
      "Epoch 169/8000\n",
      "15/15 [==============================] - 0s 4ms/step - loss: 600446592.0000\n",
      "Epoch 170/8000\n",
      "15/15 [==============================] - 0s 5ms/step - loss: 601283776.0000\n",
      "Epoch 171/8000\n",
      "15/15 [==============================] - 0s 4ms/step - loss: 600487872.0000\n",
      "Epoch 172/8000\n",
      "15/15 [==============================] - 0s 4ms/step - loss: 597914048.0000\n",
      "Epoch 173/8000\n",
      "15/15 [==============================] - 0s 6ms/step - loss: 599815616.0000\n",
      "Epoch 174/8000\n",
      "15/15 [==============================] - 0s 6ms/step - loss: 593284800.0000\n",
      "Epoch 175/8000\n",
      "15/15 [==============================] - 0s 5ms/step - loss: 588664384.0000\n",
      "Epoch 176/8000\n",
      "15/15 [==============================] - 0s 5ms/step - loss: 587907072.0000\n",
      "Epoch 177/8000\n",
      "15/15 [==============================] - 0s 4ms/step - loss: 588667648.0000\n",
      "Epoch 178/8000\n",
      "15/15 [==============================] - 0s 4ms/step - loss: 586494528.0000\n",
      "Epoch 179/8000\n",
      "15/15 [==============================] - 0s 4ms/step - loss: 585587264.0000\n",
      "Epoch 180/8000\n",
      "15/15 [==============================] - 0s 4ms/step - loss: 579796736.0000\n",
      "Epoch 181/8000\n"
     ]
    },
    {
     "name": "stdout",
     "output_type": "stream",
     "text": [
      "15/15 [==============================] - 0s 4ms/step - loss: 578458624.0000\n",
      "Epoch 182/8000\n",
      "15/15 [==============================] - 0s 4ms/step - loss: 576069312.0000\n",
      "Epoch 183/8000\n",
      "15/15 [==============================] - 0s 5ms/step - loss: 574723968.0000\n",
      "Epoch 184/8000\n",
      "15/15 [==============================] - 0s 6ms/step - loss: 574455040.0000\n",
      "Epoch 185/8000\n",
      "15/15 [==============================] - 0s 5ms/step - loss: 572850432.0000\n",
      "Epoch 186/8000\n",
      "15/15 [==============================] - 0s 4ms/step - loss: 580967424.0000\n",
      "Epoch 187/8000\n",
      "15/15 [==============================] - 0s 5ms/step - loss: 575236736.0000\n",
      "Epoch 188/8000\n",
      "15/15 [==============================] - 0s 5ms/step - loss: 572265216.0000\n",
      "Epoch 189/8000\n",
      "15/15 [==============================] - 0s 4ms/step - loss: 580287936.0000\n",
      "Epoch 190/8000\n",
      "15/15 [==============================] - 0s 4ms/step - loss: 568631296.0000\n",
      "Epoch 191/8000\n",
      "15/15 [==============================] - 0s 4ms/step - loss: 566548672.0000\n",
      "Epoch 192/8000\n",
      "15/15 [==============================] - 0s 4ms/step - loss: 559445312.0000\n",
      "Epoch 193/8000\n",
      "15/15 [==============================] - 0s 4ms/step - loss: 556864000.0000\n",
      "Epoch 194/8000\n",
      "15/15 [==============================] - 0s 5ms/step - loss: 553758528.0000\n",
      "Epoch 195/8000\n",
      "15/15 [==============================] - 0s 4ms/step - loss: 560839040.0000\n",
      "Epoch 196/8000\n",
      "15/15 [==============================] - 0s 4ms/step - loss: 554749696.0000\n",
      "Epoch 197/8000\n",
      "15/15 [==============================] - 0s 4ms/step - loss: 553601536.0000\n",
      "Epoch 198/8000\n",
      "15/15 [==============================] - 0s 4ms/step - loss: 552170368.0000\n",
      "Epoch 199/8000\n",
      "15/15 [==============================] - 0s 4ms/step - loss: 556678912.0000\n",
      "Epoch 200/8000\n",
      "15/15 [==============================] - 0s 4ms/step - loss: 548991872.0000\n",
      "Epoch 201/8000\n",
      "15/15 [==============================] - 0s 4ms/step - loss: 552156224.0000\n",
      "Epoch 202/8000\n",
      "15/15 [==============================] - 0s 4ms/step - loss: 543393024.0000\n",
      "Epoch 203/8000\n",
      "15/15 [==============================] - 0s 5ms/step - loss: 543773312.0000\n",
      "Epoch 204/8000\n",
      "15/15 [==============================] - 0s 4ms/step - loss: 542741440.0000\n",
      "Epoch 205/8000\n",
      "15/15 [==============================] - 0s 4ms/step - loss: 538264256.0000\n",
      "Epoch 206/8000\n",
      "15/15 [==============================] - 0s 4ms/step - loss: 538352320.0000\n",
      "Epoch 207/8000\n",
      "15/15 [==============================] - 0s 4ms/step - loss: 537123968.0000\n",
      "Epoch 208/8000\n",
      "15/15 [==============================] - 0s 3ms/step - loss: 534329952.0000\n",
      "Epoch 209/8000\n",
      "15/15 [==============================] - 0s 4ms/step - loss: 534318816.0000\n",
      "Epoch 210/8000\n",
      "15/15 [==============================] - 0s 4ms/step - loss: 528041408.0000\n",
      "Epoch 211/8000\n",
      "15/15 [==============================] - 0s 4ms/step - loss: 529183936.0000\n",
      "Epoch 212/8000\n",
      "15/15 [==============================] - 0s 4ms/step - loss: 538231360.0000\n",
      "Epoch 213/8000\n",
      "15/15 [==============================] - 0s 4ms/step - loss: 525407488.0000\n",
      "Epoch 214/8000\n",
      "15/15 [==============================] - 0s 4ms/step - loss: 529814208.0000\n",
      "Epoch 215/8000\n",
      "15/15 [==============================] - 0s 4ms/step - loss: 521032032.0000\n",
      "Epoch 216/8000\n",
      "15/15 [==============================] - 0s 4ms/step - loss: 522226528.0000\n",
      "Epoch 217/8000\n",
      "15/15 [==============================] - 0s 4ms/step - loss: 536135712.0000\n",
      "Epoch 218/8000\n",
      "15/15 [==============================] - 0s 4ms/step - loss: 519295264.0000\n",
      "Epoch 219/8000\n",
      "15/15 [==============================] - 0s 4ms/step - loss: 522256128.0000\n",
      "Epoch 220/8000\n",
      "15/15 [==============================] - 0s 4ms/step - loss: 513800032.0000\n",
      "Epoch 221/8000\n",
      "15/15 [==============================] - 0s 4ms/step - loss: 513957856.0000\n",
      "Epoch 222/8000\n",
      "15/15 [==============================] - 0s 4ms/step - loss: 515460928.0000\n",
      "Epoch 223/8000\n",
      "15/15 [==============================] - 0s 4ms/step - loss: 512975904.0000\n",
      "Epoch 224/8000\n",
      "15/15 [==============================] - 0s 4ms/step - loss: 511060064.0000\n",
      "Epoch 225/8000\n",
      "15/15 [==============================] - 0s 4ms/step - loss: 506055424.0000\n",
      "Epoch 226/8000\n",
      "15/15 [==============================] - 0s 4ms/step - loss: 506253920.0000\n",
      "Epoch 227/8000\n",
      "15/15 [==============================] - 0s 4ms/step - loss: 504350560.0000\n",
      "Epoch 228/8000\n",
      "15/15 [==============================] - 0s 4ms/step - loss: 500557632.0000\n",
      "Epoch 229/8000\n",
      "15/15 [==============================] - 0s 4ms/step - loss: 498001824.0000\n",
      "Epoch 230/8000\n",
      "15/15 [==============================] - 0s 4ms/step - loss: 504707264.0000\n",
      "Epoch 231/8000\n",
      "15/15 [==============================] - 0s 4ms/step - loss: 505356928.0000\n",
      "Epoch 232/8000\n",
      "15/15 [==============================] - 0s 5ms/step - loss: 496166912.0000\n",
      "Epoch 233/8000\n",
      "15/15 [==============================] - 0s 5ms/step - loss: 493197664.0000\n",
      "Epoch 234/8000\n",
      "15/15 [==============================] - 0s 6ms/step - loss: 494311744.0000\n",
      "Epoch 235/8000\n",
      "15/15 [==============================] - 0s 6ms/step - loss: 494834048.0000\n",
      "Epoch 236/8000\n",
      "15/15 [==============================] - 0s 4ms/step - loss: 488181376.0000\n",
      "Epoch 237/8000\n",
      "15/15 [==============================] - 0s 4ms/step - loss: 484693696.0000\n",
      "Epoch 238/8000\n",
      "15/15 [==============================] - 0s 5ms/step - loss: 487689952.0000\n",
      "Epoch 239/8000\n",
      "15/15 [==============================] - 0s 5ms/step - loss: 485509056.0000\n",
      "Epoch 240/8000\n",
      "15/15 [==============================] - 0s 4ms/step - loss: 480875648.0000\n",
      "Epoch 241/8000\n",
      "15/15 [==============================] - 0s 5ms/step - loss: 481150720.0000\n",
      "Epoch 242/8000\n",
      "15/15 [==============================] - 0s 4ms/step - loss: 477571296.0000\n",
      "Epoch 243/8000\n",
      "15/15 [==============================] - 0s 4ms/step - loss: 475742784.0000\n",
      "Epoch 244/8000\n",
      "15/15 [==============================] - 0s 4ms/step - loss: 476310816.0000\n",
      "Epoch 245/8000\n",
      "15/15 [==============================] - 0s 6ms/step - loss: 473075072.0000\n",
      "Epoch 246/8000\n",
      "15/15 [==============================] - 0s 6ms/step - loss: 469904160.0000\n",
      "Epoch 247/8000\n",
      "15/15 [==============================] - 0s 6ms/step - loss: 470121184.0000\n",
      "Epoch 248/8000\n",
      "15/15 [==============================] - 0s 5ms/step - loss: 470053696.0000\n",
      "Epoch 249/8000\n",
      "15/15 [==============================] - 0s 4ms/step - loss: 467449440.0000\n",
      "Epoch 250/8000\n",
      "15/15 [==============================] - 0s 4ms/step - loss: 464243456.0000\n",
      "Epoch 251/8000\n",
      "15/15 [==============================] - 0s 5ms/step - loss: 462205536.0000\n",
      "Epoch 252/8000\n",
      "15/15 [==============================] - 0s 4ms/step - loss: 463180288.0000\n",
      "Epoch 253/8000\n",
      "15/15 [==============================] - 0s 4ms/step - loss: 464268640.0000\n",
      "Epoch 254/8000\n",
      "15/15 [==============================] - 0s 4ms/step - loss: 460490464.0000\n",
      "Epoch 255/8000\n",
      "15/15 [==============================] - 0s 6ms/step - loss: 458947360.0000\n",
      "Epoch 256/8000\n",
      "15/15 [==============================] - 0s 5ms/step - loss: 462793856.0000\n",
      "Epoch 257/8000\n",
      "15/15 [==============================] - 0s 5ms/step - loss: 459437216.0000\n",
      "Epoch 258/8000\n",
      "15/15 [==============================] - 0s 4ms/step - loss: 454337696.0000\n",
      "Epoch 259/8000\n",
      "15/15 [==============================] - 0s 4ms/step - loss: 454676736.0000\n",
      "Epoch 260/8000\n",
      "15/15 [==============================] - 0s 3ms/step - loss: 448934336.0000\n",
      "Epoch 261/8000\n",
      "15/15 [==============================] - 0s 4ms/step - loss: 446766976.0000\n",
      "Epoch 262/8000\n",
      "15/15 [==============================] - 0s 4ms/step - loss: 447457824.0000\n",
      "Epoch 263/8000\n",
      "15/15 [==============================] - 0s 4ms/step - loss: 446798144.0000\n",
      "Epoch 264/8000\n",
      "15/15 [==============================] - 0s 4ms/step - loss: 443501824.0000\n",
      "Epoch 265/8000\n",
      "15/15 [==============================] - 0s 6ms/step - loss: 442001184.0000\n",
      "Epoch 266/8000\n",
      "15/15 [==============================] - 0s 5ms/step - loss: 438381376.0000\n",
      "Epoch 267/8000\n",
      "15/15 [==============================] - 0s 5ms/step - loss: 437144416.0000\n",
      "Epoch 268/8000\n",
      "15/15 [==============================] - 0s 5ms/step - loss: 436528160.0000\n",
      "Epoch 269/8000\n",
      "15/15 [==============================] - 0s 4ms/step - loss: 432418976.0000\n",
      "Epoch 270/8000\n",
      "15/15 [==============================] - 0s 5ms/step - loss: 430185632.0000\n",
      "Epoch 271/8000\n"
     ]
    },
    {
     "name": "stdout",
     "output_type": "stream",
     "text": [
      "15/15 [==============================] - 0s 8ms/step - loss: 434490880.0000\n",
      "Epoch 272/8000\n",
      "15/15 [==============================] - 0s 6ms/step - loss: 428373184.0000\n",
      "Epoch 273/8000\n",
      "15/15 [==============================] - 0s 8ms/step - loss: 435402272.0000\n",
      "Epoch 274/8000\n",
      "15/15 [==============================] - 0s 6ms/step - loss: 427681376.0000\n",
      "Epoch 275/8000\n",
      "15/15 [==============================] - 0s 4ms/step - loss: 425581184.0000\n",
      "Epoch 276/8000\n",
      "15/15 [==============================] - 0s 5ms/step - loss: 427352224.0000\n",
      "Epoch 277/8000\n",
      "15/15 [==============================] - 0s 5ms/step - loss: 426742784.0000\n",
      "Epoch 278/8000\n",
      "15/15 [==============================] - 0s 5ms/step - loss: 418925024.0000\n",
      "Epoch 279/8000\n",
      "15/15 [==============================] - 0s 4ms/step - loss: 416124096.0000\n",
      "Epoch 280/8000\n",
      "15/15 [==============================] - 0s 4ms/step - loss: 414056032.0000\n",
      "Epoch 281/8000\n",
      "15/15 [==============================] - 0s 4ms/step - loss: 426556544.0000\n",
      "Epoch 282/8000\n",
      "15/15 [==============================] - 0s 4ms/step - loss: 420673792.0000\n",
      "Epoch 283/8000\n",
      "15/15 [==============================] - 0s 5ms/step - loss: 415714720.0000\n",
      "Epoch 284/8000\n",
      "15/15 [==============================] - 0s 5ms/step - loss: 409875264.0000\n",
      "Epoch 285/8000\n",
      "15/15 [==============================] - 0s 5ms/step - loss: 408847776.0000\n",
      "Epoch 286/8000\n",
      "15/15 [==============================] - 0s 4ms/step - loss: 408535040.0000\n",
      "Epoch 287/8000\n",
      "15/15 [==============================] - 0s 5ms/step - loss: 405492544.0000\n",
      "Epoch 288/8000\n",
      "15/15 [==============================] - 0s 4ms/step - loss: 405562944.0000\n",
      "Epoch 289/8000\n",
      "15/15 [==============================] - 0s 4ms/step - loss: 402953888.0000\n",
      "Epoch 290/8000\n",
      "15/15 [==============================] - 0s 4ms/step - loss: 408221408.0000\n",
      "Epoch 291/8000\n",
      "15/15 [==============================] - 0s 4ms/step - loss: 402730496.0000\n",
      "Epoch 292/8000\n",
      "15/15 [==============================] - 0s 4ms/step - loss: 399595808.0000\n",
      "Epoch 293/8000\n",
      "15/15 [==============================] - 0s 4ms/step - loss: 397567584.0000\n",
      "Epoch 294/8000\n",
      "15/15 [==============================] - 0s 4ms/step - loss: 394616352.0000\n",
      "Epoch 295/8000\n",
      "15/15 [==============================] - 0s 4ms/step - loss: 395812832.0000\n",
      "Epoch 296/8000\n",
      "15/15 [==============================] - 0s 4ms/step - loss: 391399584.0000\n",
      "Epoch 297/8000\n",
      "15/15 [==============================] - 0s 4ms/step - loss: 392374848.0000\n",
      "Epoch 298/8000\n",
      "15/15 [==============================] - 0s 4ms/step - loss: 389971968.0000\n",
      "Epoch 299/8000\n",
      "15/15 [==============================] - 0s 3ms/step - loss: 391945184.0000\n",
      "Epoch 300/8000\n",
      "15/15 [==============================] - 0s 4ms/step - loss: 392804608.0000\n",
      "Epoch 301/8000\n",
      "15/15 [==============================] - 0s 4ms/step - loss: 385495712.0000\n",
      "Epoch 302/8000\n",
      "15/15 [==============================] - 0s 4ms/step - loss: 383852832.0000\n",
      "Epoch 303/8000\n",
      "15/15 [==============================] - 0s 3ms/step - loss: 383433440.0000\n",
      "Epoch 304/8000\n",
      "15/15 [==============================] - 0s 4ms/step - loss: 382235520.0000\n",
      "Epoch 305/8000\n",
      "15/15 [==============================] - 0s 4ms/step - loss: 381876288.0000\n",
      "Epoch 306/8000\n",
      "15/15 [==============================] - 0s 5ms/step - loss: 383908320.0000\n",
      "Epoch 307/8000\n",
      "15/15 [==============================] - 0s 6ms/step - loss: 379378784.0000\n",
      "Epoch 308/8000\n",
      "15/15 [==============================] - 0s 6ms/step - loss: 376076224.0000\n",
      "Epoch 309/8000\n",
      "15/15 [==============================] - 0s 4ms/step - loss: 374236064.0000\n",
      "Epoch 310/8000\n",
      "15/15 [==============================] - 0s 4ms/step - loss: 374050592.0000\n",
      "Epoch 311/8000\n",
      "15/15 [==============================] - 0s 4ms/step - loss: 378112288.0000\n",
      "Epoch 312/8000\n",
      "15/15 [==============================] - 0s 4ms/step - loss: 370243424.0000\n",
      "Epoch 313/8000\n",
      "15/15 [==============================] - 0s 5ms/step - loss: 368329984.0000\n",
      "Epoch 314/8000\n",
      "15/15 [==============================] - 0s 4ms/step - loss: 377365664.0000\n",
      "Epoch 315/8000\n",
      "15/15 [==============================] - 0s 4ms/step - loss: 372750080.0000\n",
      "Epoch 316/8000\n",
      "15/15 [==============================] - 0s 5ms/step - loss: 369800992.0000\n",
      "Epoch 317/8000\n",
      "15/15 [==============================] - 0s 4ms/step - loss: 366056288.0000\n",
      "Epoch 318/8000\n",
      "15/15 [==============================] - 0s 5ms/step - loss: 366906080.0000\n",
      "Epoch 319/8000\n",
      "15/15 [==============================] - 0s 4ms/step - loss: 361451008.0000\n",
      "Epoch 320/8000\n",
      "15/15 [==============================] - 0s 5ms/step - loss: 360993568.0000\n",
      "Epoch 321/8000\n",
      "15/15 [==============================] - 0s 4ms/step - loss: 359375136.0000\n",
      "Epoch 322/8000\n",
      "15/15 [==============================] - 0s 4ms/step - loss: 359366112.0000\n",
      "Epoch 323/8000\n",
      "15/15 [==============================] - 0s 4ms/step - loss: 355969056.0000\n",
      "Epoch 324/8000\n",
      "15/15 [==============================] - 0s 4ms/step - loss: 353932064.0000\n",
      "Epoch 325/8000\n",
      "15/15 [==============================] - 0s 4ms/step - loss: 352317728.0000\n",
      "Epoch 326/8000\n",
      "15/15 [==============================] - 0s 5ms/step - loss: 351928576.0000\n",
      "Epoch 327/8000\n",
      "15/15 [==============================] - 0s 5ms/step - loss: 351468000.0000\n",
      "Epoch 328/8000\n",
      "15/15 [==============================] - 0s 5ms/step - loss: 351014368.0000\n",
      "Epoch 329/8000\n",
      "15/15 [==============================] - 0s 7ms/step - loss: 347922720.0000\n",
      "Epoch 330/8000\n",
      "15/15 [==============================] - 0s 7ms/step - loss: 346758048.0000\n",
      "Epoch 331/8000\n",
      "15/15 [==============================] - 0s 5ms/step - loss: 349470560.0000\n",
      "Epoch 332/8000\n",
      "15/15 [==============================] - 0s 8ms/step - loss: 344802144.0000\n",
      "Epoch 333/8000\n",
      "15/15 [==============================] - 0s 7ms/step - loss: 346943872.0000\n",
      "Epoch 334/8000\n",
      "15/15 [==============================] - 0s 5ms/step - loss: 343424096.0000\n",
      "Epoch 335/8000\n",
      "15/15 [==============================] - 0s 5ms/step - loss: 345802464.0000\n",
      "Epoch 336/8000\n",
      "15/15 [==============================] - 0s 5ms/step - loss: 343835520.0000\n",
      "Epoch 337/8000\n",
      "15/15 [==============================] - 0s 6ms/step - loss: 340437024.0000\n",
      "Epoch 338/8000\n",
      "15/15 [==============================] - 0s 5ms/step - loss: 341751616.0000\n",
      "Epoch 339/8000\n",
      "15/15 [==============================] - 0s 5ms/step - loss: 335963264.0000\n",
      "Epoch 340/8000\n",
      "15/15 [==============================] - 0s 5ms/step - loss: 335154144.0000\n",
      "Epoch 341/8000\n",
      "15/15 [==============================] - 0s 5ms/step - loss: 332953216.0000\n",
      "Epoch 342/8000\n",
      "15/15 [==============================] - 0s 5ms/step - loss: 333653120.0000\n",
      "Epoch 343/8000\n",
      "15/15 [==============================] - 0s 6ms/step - loss: 334034848.0000\n",
      "Epoch 344/8000\n",
      "15/15 [==============================] - 0s 6ms/step - loss: 348063936.0000\n",
      "Epoch 345/8000\n",
      "15/15 [==============================] - 0s 6ms/step - loss: 339767264.0000\n",
      "Epoch 346/8000\n",
      "15/15 [==============================] - 0s 6ms/step - loss: 325357504.0000\n",
      "Epoch 347/8000\n",
      "15/15 [==============================] - 0s 6ms/step - loss: 326276288.0000\n",
      "Epoch 348/8000\n",
      "15/15 [==============================] - 0s 6ms/step - loss: 332332992.0000\n",
      "Epoch 349/8000\n",
      "15/15 [==============================] - 0s 6ms/step - loss: 328094976.0000\n",
      "Epoch 350/8000\n",
      "15/15 [==============================] - 0s 7ms/step - loss: 325910784.0000\n",
      "Epoch 351/8000\n",
      "15/15 [==============================] - 0s 5ms/step - loss: 322227712.0000\n",
      "Epoch 352/8000\n",
      "15/15 [==============================] - 0s 6ms/step - loss: 323273376.0000\n",
      "Epoch 353/8000\n",
      "15/15 [==============================] - 0s 6ms/step - loss: 327371008.0000\n",
      "Epoch 354/8000\n",
      "15/15 [==============================] - 0s 6ms/step - loss: 337999904.0000\n",
      "Epoch 355/8000\n",
      "15/15 [==============================] - 0s 6ms/step - loss: 325867584.0000\n",
      "Epoch 356/8000\n",
      "15/15 [==============================] - 0s 6ms/step - loss: 322774208.0000\n",
      "Epoch 357/8000\n",
      "15/15 [==============================] - 0s 5ms/step - loss: 317973312.0000\n",
      "Epoch 358/8000\n",
      "15/15 [==============================] - 0s 5ms/step - loss: 314538400.0000\n",
      "Epoch 359/8000\n",
      "15/15 [==============================] - 0s 6ms/step - loss: 313158656.0000\n",
      "Epoch 360/8000\n",
      "15/15 [==============================] - 0s 6ms/step - loss: 314310688.0000\n",
      "Epoch 361/8000\n"
     ]
    },
    {
     "name": "stdout",
     "output_type": "stream",
     "text": [
      "15/15 [==============================] - 0s 6ms/step - loss: 311128640.0000\n",
      "Epoch 362/8000\n",
      "15/15 [==============================] - 0s 5ms/step - loss: 309247136.0000\n",
      "Epoch 363/8000\n",
      "15/15 [==============================] - 0s 6ms/step - loss: 310130208.0000\n",
      "Epoch 364/8000\n",
      "15/15 [==============================] - 0s 7ms/step - loss: 308553824.0000\n",
      "Epoch 365/8000\n",
      "15/15 [==============================] - 0s 5ms/step - loss: 307472640.0000\n",
      "Epoch 366/8000\n",
      "15/15 [==============================] - 0s 4ms/step - loss: 305539968.0000\n",
      "Epoch 367/8000\n",
      "15/15 [==============================] - 0s 5ms/step - loss: 306165536.0000\n",
      "Epoch 368/8000\n",
      "15/15 [==============================] - 0s 5ms/step - loss: 309768928.0000\n",
      "Epoch 369/8000\n",
      "15/15 [==============================] - 0s 4ms/step - loss: 307469984.0000\n",
      "Epoch 370/8000\n",
      "15/15 [==============================] - 0s 5ms/step - loss: 304039488.0000\n",
      "Epoch 371/8000\n",
      "15/15 [==============================] - 0s 6ms/step - loss: 310944896.0000\n",
      "Epoch 372/8000\n",
      "15/15 [==============================] - 0s 5ms/step - loss: 304216096.0000\n",
      "Epoch 373/8000\n",
      "15/15 [==============================] - 0s 6ms/step - loss: 302370176.0000\n",
      "Epoch 374/8000\n",
      "15/15 [==============================] - 0s 5ms/step - loss: 297974560.0000\n",
      "Epoch 375/8000\n",
      "15/15 [==============================] - 0s 4ms/step - loss: 298940128.0000\n",
      "Epoch 376/8000\n",
      "15/15 [==============================] - 0s 6ms/step - loss: 296623648.0000\n",
      "Epoch 377/8000\n",
      "15/15 [==============================] - 0s 7ms/step - loss: 295548576.0000\n",
      "Epoch 378/8000\n",
      "15/15 [==============================] - 0s 5ms/step - loss: 292840064.0000\n",
      "Epoch 379/8000\n",
      "15/15 [==============================] - 0s 5ms/step - loss: 291416640.0000\n",
      "Epoch 380/8000\n",
      "15/15 [==============================] - 0s 5ms/step - loss: 294130944.0000\n",
      "Epoch 381/8000\n",
      "15/15 [==============================] - 0s 5ms/step - loss: 296595968.0000\n",
      "Epoch 382/8000\n",
      "15/15 [==============================] - 0s 8ms/step - loss: 297209824.0000\n",
      "Epoch 383/8000\n",
      "15/15 [==============================] - 0s 7ms/step - loss: 288921216.0000\n",
      "Epoch 384/8000\n",
      "15/15 [==============================] - 0s 7ms/step - loss: 286699584.0000\n",
      "Epoch 385/8000\n",
      "15/15 [==============================] - 0s 6ms/step - loss: 286422464.0000\n",
      "Epoch 386/8000\n",
      "15/15 [==============================] - 0s 7ms/step - loss: 284488576.0000\n",
      "Epoch 387/8000\n",
      "15/15 [==============================] - 0s 7ms/step - loss: 286036640.0000\n",
      "Epoch 388/8000\n",
      "15/15 [==============================] - 0s 7ms/step - loss: 283947488.0000\n",
      "Epoch 389/8000\n",
      "15/15 [==============================] - 0s 6ms/step - loss: 284454080.0000\n",
      "Epoch 390/8000\n",
      "15/15 [==============================] - 0s 6ms/step - loss: 283159360.0000\n",
      "Epoch 391/8000\n",
      "15/15 [==============================] - 0s 7ms/step - loss: 282381344.0000\n",
      "Epoch 392/8000\n",
      "15/15 [==============================] - 0s 6ms/step - loss: 281453536.0000\n",
      "Epoch 393/8000\n",
      "15/15 [==============================] - 0s 5ms/step - loss: 280738528.0000\n",
      "Epoch 394/8000\n",
      "15/15 [==============================] - 0s 6ms/step - loss: 277699872.0000\n",
      "Epoch 395/8000\n",
      "15/15 [==============================] - 0s 7ms/step - loss: 277403488.0000\n",
      "Epoch 396/8000\n",
      "15/15 [==============================] - 0s 5ms/step - loss: 276444256.0000\n",
      "Epoch 397/8000\n",
      "15/15 [==============================] - 0s 7ms/step - loss: 273639520.0000\n",
      "Epoch 398/8000\n",
      "15/15 [==============================] - 0s 6ms/step - loss: 273766912.0000\n",
      "Epoch 399/8000\n",
      "15/15 [==============================] - 0s 6ms/step - loss: 274807168.0000\n",
      "Epoch 400/8000\n",
      "15/15 [==============================] - 0s 6ms/step - loss: 272764512.0000\n",
      "Epoch 401/8000\n",
      "15/15 [==============================] - 0s 5ms/step - loss: 270662272.0000\n",
      "Epoch 402/8000\n",
      "15/15 [==============================] - 0s 6ms/step - loss: 270562144.0000\n",
      "Epoch 403/8000\n",
      "15/15 [==============================] - 0s 5ms/step - loss: 269495072.0000\n",
      "Epoch 404/8000\n",
      "15/15 [==============================] - 0s 6ms/step - loss: 269720896.0000\n",
      "Epoch 405/8000\n",
      "15/15 [==============================] - 0s 6ms/step - loss: 274494528.0000\n",
      "Epoch 406/8000\n",
      "15/15 [==============================] - 0s 6ms/step - loss: 269208512.0000\n",
      "Epoch 407/8000\n",
      "15/15 [==============================] - 0s 6ms/step - loss: 271041280.0000\n",
      "Epoch 408/8000\n",
      "15/15 [==============================] - 0s 5ms/step - loss: 267527264.0000\n",
      "Epoch 409/8000\n",
      "15/15 [==============================] - 0s 7ms/step - loss: 266651824.0000\n",
      "Epoch 410/8000\n",
      "15/15 [==============================] - 0s 6ms/step - loss: 267747216.0000\n",
      "Epoch 411/8000\n",
      "15/15 [==============================] - 0s 6ms/step - loss: 262235728.0000\n",
      "Epoch 412/8000\n",
      "15/15 [==============================] - 0s 5ms/step - loss: 262176448.0000\n",
      "Epoch 413/8000\n",
      "15/15 [==============================] - 0s 5ms/step - loss: 261779856.0000\n",
      "Epoch 414/8000\n",
      "15/15 [==============================] - 0s 6ms/step - loss: 259644976.0000\n",
      "Epoch 415/8000\n",
      "15/15 [==============================] - 0s 7ms/step - loss: 262750528.0000\n",
      "Epoch 416/8000\n",
      "15/15 [==============================] - 0s 6ms/step - loss: 259652288.0000\n",
      "Epoch 417/8000\n",
      "15/15 [==============================] - 0s 5ms/step - loss: 259970832.0000\n",
      "Epoch 418/8000\n",
      "15/15 [==============================] - 0s 7ms/step - loss: 261513760.0000\n",
      "Epoch 419/8000\n",
      "15/15 [==============================] - 0s 5ms/step - loss: 256382608.0000\n",
      "Epoch 420/8000\n",
      "15/15 [==============================] - 0s 6ms/step - loss: 256299888.0000\n",
      "Epoch 421/8000\n",
      "15/15 [==============================] - 0s 6ms/step - loss: 257336672.0000\n",
      "Epoch 422/8000\n",
      "15/15 [==============================] - 0s 6ms/step - loss: 252952576.0000\n",
      "Epoch 423/8000\n",
      "15/15 [==============================] - 0s 5ms/step - loss: 253186976.0000\n",
      "Epoch 424/8000\n",
      "15/15 [==============================] - 0s 4ms/step - loss: 258213664.0000\n",
      "Epoch 425/8000\n",
      "15/15 [==============================] - 0s 5ms/step - loss: 252268608.0000\n",
      "Epoch 426/8000\n",
      "15/15 [==============================] - 0s 5ms/step - loss: 255898304.0000\n",
      "Epoch 427/8000\n",
      "15/15 [==============================] - 0s 6ms/step - loss: 262474416.0000\n",
      "Epoch 428/8000\n",
      "15/15 [==============================] - 0s 4ms/step - loss: 249147808.0000\n",
      "Epoch 429/8000\n",
      "15/15 [==============================] - 0s 7ms/step - loss: 248090448.0000\n",
      "Epoch 430/8000\n",
      "15/15 [==============================] - 0s 6ms/step - loss: 253261584.0000\n",
      "Epoch 431/8000\n",
      "15/15 [==============================] - 0s 5ms/step - loss: 247324624.0000\n",
      "Epoch 432/8000\n",
      "15/15 [==============================] - 0s 7ms/step - loss: 246685568.0000\n",
      "Epoch 433/8000\n",
      "15/15 [==============================] - 0s 6ms/step - loss: 244995520.0000\n",
      "Epoch 434/8000\n",
      "15/15 [==============================] - 0s 6ms/step - loss: 244089152.0000\n",
      "Epoch 435/8000\n",
      "15/15 [==============================] - 0s 6ms/step - loss: 243338560.0000\n",
      "Epoch 436/8000\n",
      "15/15 [==============================] - 0s 6ms/step - loss: 242629264.0000\n",
      "Epoch 437/8000\n",
      "15/15 [==============================] - 0s 5ms/step - loss: 244997488.0000\n",
      "Epoch 438/8000\n",
      "15/15 [==============================] - 0s 6ms/step - loss: 242313344.0000\n",
      "Epoch 439/8000\n",
      "15/15 [==============================] - 0s 7ms/step - loss: 242051936.0000\n",
      "Epoch 440/8000\n",
      "15/15 [==============================] - 0s 7ms/step - loss: 245637168.0000\n",
      "Epoch 441/8000\n",
      "15/15 [==============================] - 0s 5ms/step - loss: 240153888.0000\n",
      "Epoch 442/8000\n",
      "15/15 [==============================] - 0s 7ms/step - loss: 237529584.0000\n",
      "Epoch 443/8000\n",
      "15/15 [==============================] - 0s 5ms/step - loss: 241998816.0000\n",
      "Epoch 444/8000\n",
      "15/15 [==============================] - 0s 6ms/step - loss: 236772320.0000\n",
      "Epoch 445/8000\n",
      "15/15 [==============================] - 0s 6ms/step - loss: 237920368.0000\n",
      "Epoch 446/8000\n",
      "15/15 [==============================] - 0s 5ms/step - loss: 235557392.0000\n",
      "Epoch 447/8000\n",
      "15/15 [==============================] - 0s 6ms/step - loss: 234141440.0000\n",
      "Epoch 448/8000\n",
      "15/15 [==============================] - 0s 7ms/step - loss: 236288928.0000\n",
      "Epoch 449/8000\n",
      "15/15 [==============================] - 0s 7ms/step - loss: 237793024.0000\n",
      "Epoch 450/8000\n",
      "15/15 [==============================] - 0s 4ms/step - loss: 235334800.0000\n",
      "Epoch 451/8000\n"
     ]
    },
    {
     "name": "stdout",
     "output_type": "stream",
     "text": [
      "15/15 [==============================] - 0s 7ms/step - loss: 232242864.0000\n",
      "Epoch 452/8000\n",
      "15/15 [==============================] - 0s 5ms/step - loss: 232194432.0000\n",
      "Epoch 453/8000\n",
      "15/15 [==============================] - 0s 5ms/step - loss: 230948912.0000\n",
      "Epoch 454/8000\n",
      "15/15 [==============================] - 0s 5ms/step - loss: 229827664.0000\n",
      "Epoch 455/8000\n",
      "15/15 [==============================] - 0s 6ms/step - loss: 230776176.0000\n",
      "Epoch 456/8000\n",
      "15/15 [==============================] - 0s 5ms/step - loss: 228203392.0000\n",
      "Epoch 457/8000\n",
      "15/15 [==============================] - 0s 5ms/step - loss: 233172352.0000\n",
      "Epoch 458/8000\n",
      "15/15 [==============================] - 0s 6ms/step - loss: 230735360.0000\n",
      "Epoch 459/8000\n",
      "15/15 [==============================] - 0s 6ms/step - loss: 229162320.0000\n",
      "Epoch 460/8000\n",
      "15/15 [==============================] - 0s 6ms/step - loss: 226676448.0000\n",
      "Epoch 461/8000\n",
      "15/15 [==============================] - 0s 6ms/step - loss: 230122416.0000\n",
      "Epoch 462/8000\n",
      "15/15 [==============================] - 0s 6ms/step - loss: 224133344.0000\n",
      "Epoch 463/8000\n",
      "15/15 [==============================] - 0s 6ms/step - loss: 223940144.0000\n",
      "Epoch 464/8000\n",
      "15/15 [==============================] - 0s 7ms/step - loss: 222220496.0000\n",
      "Epoch 465/8000\n",
      "15/15 [==============================] - 0s 6ms/step - loss: 222439648.0000\n",
      "Epoch 466/8000\n",
      "15/15 [==============================] - 0s 8ms/step - loss: 222205376.0000\n",
      "Epoch 467/8000\n",
      "15/15 [==============================] - 0s 7ms/step - loss: 221927312.0000\n",
      "Epoch 468/8000\n",
      "15/15 [==============================] - 0s 6ms/step - loss: 220228992.0000\n",
      "Epoch 469/8000\n",
      "15/15 [==============================] - 0s 6ms/step - loss: 221979472.0000\n",
      "Epoch 470/8000\n",
      "15/15 [==============================] - 0s 5ms/step - loss: 221623744.0000\n",
      "Epoch 471/8000\n",
      "15/15 [==============================] - 0s 6ms/step - loss: 217933904.0000\n",
      "Epoch 472/8000\n",
      "15/15 [==============================] - 0s 6ms/step - loss: 216559360.0000\n",
      "Epoch 473/8000\n",
      "15/15 [==============================] - 0s 4ms/step - loss: 219417808.0000\n",
      "Epoch 474/8000\n",
      "15/15 [==============================] - 0s 7ms/step - loss: 222072288.0000\n",
      "Epoch 475/8000\n",
      "15/15 [==============================] - 0s 6ms/step - loss: 215996688.0000\n",
      "Epoch 476/8000\n",
      "15/15 [==============================] - 0s 5ms/step - loss: 215521616.0000\n",
      "Epoch 477/8000\n",
      "15/15 [==============================] - 0s 7ms/step - loss: 213883040.0000\n",
      "Epoch 478/8000\n",
      "15/15 [==============================] - 0s 7ms/step - loss: 211776784.0000\n",
      "Epoch 479/8000\n",
      "15/15 [==============================] - 0s 5ms/step - loss: 215888832.0000\n",
      "Epoch 480/8000\n",
      "15/15 [==============================] - 0s 5ms/step - loss: 214207296.0000\n",
      "Epoch 481/8000\n",
      "15/15 [==============================] - 0s 7ms/step - loss: 211879840.0000\n",
      "Epoch 482/8000\n",
      "15/15 [==============================] - 0s 5ms/step - loss: 212859808.0000\n",
      "Epoch 483/8000\n",
      "15/15 [==============================] - 0s 6ms/step - loss: 211536160.0000\n",
      "Epoch 484/8000\n",
      "15/15 [==============================] - 0s 5ms/step - loss: 213225280.0000\n",
      "Epoch 485/8000\n",
      "15/15 [==============================] - 0s 7ms/step - loss: 212371456.0000\n",
      "Epoch 486/8000\n",
      "15/15 [==============================] - 0s 7ms/step - loss: 210759040.0000\n",
      "Epoch 487/8000\n",
      "15/15 [==============================] - 0s 6ms/step - loss: 208375776.0000\n",
      "Epoch 488/8000\n",
      "15/15 [==============================] - 0s 6ms/step - loss: 207472976.0000\n",
      "Epoch 489/8000\n",
      "15/15 [==============================] - 0s 6ms/step - loss: 206728624.0000\n",
      "Epoch 490/8000\n",
      "15/15 [==============================] - 0s 8ms/step - loss: 205462112.0000\n",
      "Epoch 491/8000\n",
      "15/15 [==============================] - 0s 7ms/step - loss: 211690480.0000\n",
      "Epoch 492/8000\n",
      "15/15 [==============================] - 0s 7ms/step - loss: 205457488.0000\n",
      "Epoch 493/8000\n",
      "15/15 [==============================] - 0s 7ms/step - loss: 204663760.0000\n",
      "Epoch 494/8000\n",
      "15/15 [==============================] - 0s 6ms/step - loss: 205911728.0000\n",
      "Epoch 495/8000\n",
      "15/15 [==============================] - 0s 8ms/step - loss: 202345696.0000\n",
      "Epoch 496/8000\n",
      "15/15 [==============================] - 0s 8ms/step - loss: 202003696.0000\n",
      "Epoch 497/8000\n",
      "15/15 [==============================] - 0s 7ms/step - loss: 201702528.0000\n",
      "Epoch 498/8000\n",
      "15/15 [==============================] - 0s 9ms/step - loss: 206355184.0000\n",
      "Epoch 499/8000\n",
      "15/15 [==============================] - 0s 6ms/step - loss: 199228208.0000\n",
      "Epoch 500/8000\n",
      "15/15 [==============================] - 0s 6ms/step - loss: 199861824.0000\n",
      "Epoch 501/8000\n",
      "15/15 [==============================] - 0s 6ms/step - loss: 199250208.0000\n",
      "Epoch 502/8000\n",
      "15/15 [==============================] - 0s 6ms/step - loss: 197374192.0000\n",
      "Epoch 503/8000\n",
      "15/15 [==============================] - 0s 6ms/step - loss: 201086112.0000\n",
      "Epoch 504/8000\n",
      "15/15 [==============================] - 0s 7ms/step - loss: 198267504.0000\n",
      "Epoch 505/8000\n",
      "15/15 [==============================] - 0s 7ms/step - loss: 196914224.0000\n",
      "Epoch 506/8000\n",
      "15/15 [==============================] - 0s 6ms/step - loss: 198447040.0000\n",
      "Epoch 507/8000\n",
      "15/15 [==============================] - 0s 5ms/step - loss: 196539728.0000\n",
      "Epoch 508/8000\n",
      "15/15 [==============================] - 0s 6ms/step - loss: 195157024.0000\n",
      "Epoch 509/8000\n",
      "15/15 [==============================] - 0s 5ms/step - loss: 194788192.0000\n",
      "Epoch 510/8000\n",
      "15/15 [==============================] - 0s 6ms/step - loss: 194269808.0000\n",
      "Epoch 511/8000\n",
      "15/15 [==============================] - 0s 5ms/step - loss: 192077472.0000\n",
      "Epoch 512/8000\n",
      "15/15 [==============================] - 0s 7ms/step - loss: 192031616.0000\n",
      "Epoch 513/8000\n",
      "15/15 [==============================] - 0s 6ms/step - loss: 191549200.0000\n",
      "Epoch 514/8000\n",
      "15/15 [==============================] - 0s 6ms/step - loss: 191082848.0000\n",
      "Epoch 515/8000\n",
      "15/15 [==============================] - 0s 7ms/step - loss: 190384528.0000\n",
      "Epoch 516/8000\n",
      "15/15 [==============================] - 0s 5ms/step - loss: 190256784.0000\n",
      "Epoch 517/8000\n",
      "15/15 [==============================] - 0s 5ms/step - loss: 189937872.0000\n",
      "Epoch 518/8000\n",
      "15/15 [==============================] - 0s 6ms/step - loss: 188705888.0000\n",
      "Epoch 519/8000\n",
      "15/15 [==============================] - 0s 3ms/step - loss: 188533104.0000\n",
      "Epoch 520/8000\n",
      "15/15 [==============================] - 0s 5ms/step - loss: 195750624.0000\n",
      "Epoch 521/8000\n",
      "15/15 [==============================] - 0s 5ms/step - loss: 188372576.0000\n",
      "Epoch 522/8000\n",
      "15/15 [==============================] - 0s 6ms/step - loss: 187117760.0000\n",
      "Epoch 523/8000\n",
      "15/15 [==============================] - 0s 6ms/step - loss: 187985408.0000\n",
      "Epoch 524/8000\n",
      "15/15 [==============================] - 0s 5ms/step - loss: 188091632.0000\n",
      "Epoch 525/8000\n",
      "15/15 [==============================] - 0s 5ms/step - loss: 186507888.0000\n",
      "Epoch 526/8000\n",
      "15/15 [==============================] - 0s 4ms/step - loss: 189345280.0000\n",
      "Epoch 527/8000\n",
      "15/15 [==============================] - 0s 5ms/step - loss: 183627280.0000\n",
      "Epoch 528/8000\n",
      "15/15 [==============================] - 0s 5ms/step - loss: 182031744.0000\n",
      "Epoch 529/8000\n",
      "15/15 [==============================] - 0s 5ms/step - loss: 182189312.0000\n",
      "Epoch 530/8000\n",
      "15/15 [==============================] - 0s 5ms/step - loss: 181454592.0000\n",
      "Epoch 531/8000\n",
      "15/15 [==============================] - 0s 5ms/step - loss: 181823728.0000\n",
      "Epoch 532/8000\n",
      "15/15 [==============================] - 0s 6ms/step - loss: 180451216.0000\n",
      "Epoch 533/8000\n",
      "15/15 [==============================] - 0s 5ms/step - loss: 181566464.0000\n",
      "Epoch 534/8000\n",
      "15/15 [==============================] - 0s 5ms/step - loss: 180042400.0000\n",
      "Epoch 535/8000\n",
      "15/15 [==============================] - 0s 5ms/step - loss: 182194848.0000\n",
      "Epoch 536/8000\n",
      "15/15 [==============================] - 0s 5ms/step - loss: 179459984.0000\n",
      "Epoch 537/8000\n",
      "15/15 [==============================] - 0s 4ms/step - loss: 180606640.0000\n",
      "Epoch 538/8000\n",
      "15/15 [==============================] - 0s 6ms/step - loss: 176523680.0000\n",
      "Epoch 539/8000\n",
      "15/15 [==============================] - 0s 5ms/step - loss: 177961552.0000\n",
      "Epoch 540/8000\n",
      "15/15 [==============================] - 0s 5ms/step - loss: 177638784.0000\n",
      "Epoch 541/8000\n"
     ]
    },
    {
     "name": "stdout",
     "output_type": "stream",
     "text": [
      "15/15 [==============================] - 0s 6ms/step - loss: 176160944.0000\n",
      "Epoch 542/8000\n",
      "15/15 [==============================] - 0s 5ms/step - loss: 174931872.0000\n",
      "Epoch 543/8000\n",
      "15/15 [==============================] - 0s 5ms/step - loss: 177703056.0000\n",
      "Epoch 544/8000\n",
      "15/15 [==============================] - 0s 5ms/step - loss: 178527296.0000\n",
      "Epoch 545/8000\n",
      "15/15 [==============================] - 0s 4ms/step - loss: 176512240.0000\n",
      "Epoch 546/8000\n",
      "15/15 [==============================] - 0s 4ms/step - loss: 172850400.0000\n",
      "Epoch 547/8000\n",
      "15/15 [==============================] - 0s 4ms/step - loss: 182862176.0000\n",
      "Epoch 548/8000\n",
      "15/15 [==============================] - 0s 4ms/step - loss: 172340368.0000\n",
      "Epoch 549/8000\n",
      "15/15 [==============================] - 0s 4ms/step - loss: 171126656.0000\n",
      "Epoch 550/8000\n",
      "15/15 [==============================] - 0s 4ms/step - loss: 170865344.0000\n",
      "Epoch 551/8000\n",
      "15/15 [==============================] - 0s 4ms/step - loss: 169507872.0000\n",
      "Epoch 552/8000\n",
      "15/15 [==============================] - 0s 4ms/step - loss: 171530272.0000\n",
      "Epoch 553/8000\n",
      "15/15 [==============================] - 0s 4ms/step - loss: 174271408.0000\n",
      "Epoch 554/8000\n",
      "15/15 [==============================] - 0s 4ms/step - loss: 168757328.0000\n",
      "Epoch 555/8000\n",
      "15/15 [==============================] - 0s 4ms/step - loss: 169988032.0000\n",
      "Epoch 556/8000\n",
      "15/15 [==============================] - 0s 4ms/step - loss: 168899472.0000\n",
      "Epoch 557/8000\n",
      "15/15 [==============================] - 0s 4ms/step - loss: 167311008.0000\n",
      "Epoch 558/8000\n",
      "15/15 [==============================] - 0s 4ms/step - loss: 167605824.0000\n",
      "Epoch 559/8000\n",
      "15/15 [==============================] - 0s 4ms/step - loss: 166254816.0000\n",
      "Epoch 560/8000\n",
      "15/15 [==============================] - 0s 4ms/step - loss: 166756432.0000\n",
      "Epoch 561/8000\n",
      "15/15 [==============================] - 0s 4ms/step - loss: 167269536.0000\n",
      "Epoch 562/8000\n",
      "15/15 [==============================] - 0s 4ms/step - loss: 165262816.0000\n",
      "Epoch 563/8000\n",
      "15/15 [==============================] - 0s 5ms/step - loss: 163934944.0000\n",
      "Epoch 564/8000\n",
      "15/15 [==============================] - 0s 4ms/step - loss: 164176384.0000\n",
      "Epoch 565/8000\n",
      "15/15 [==============================] - 0s 4ms/step - loss: 163873424.0000\n",
      "Epoch 566/8000\n",
      "15/15 [==============================] - 0s 4ms/step - loss: 162142256.0000\n",
      "Epoch 567/8000\n",
      "15/15 [==============================] - 0s 4ms/step - loss: 163007824.0000\n",
      "Epoch 568/8000\n",
      "15/15 [==============================] - 0s 4ms/step - loss: 162694672.0000\n",
      "Epoch 569/8000\n",
      "15/15 [==============================] - 0s 4ms/step - loss: 162159872.0000\n",
      "Epoch 570/8000\n",
      "15/15 [==============================] - 0s 4ms/step - loss: 166388144.0000\n",
      "Epoch 571/8000\n",
      "15/15 [==============================] - 0s 4ms/step - loss: 163444224.0000\n",
      "Epoch 572/8000\n",
      "15/15 [==============================] - 0s 5ms/step - loss: 162698592.0000\n",
      "Epoch 573/8000\n",
      "15/15 [==============================] - 0s 3ms/step - loss: 161466944.0000\n",
      "Epoch 574/8000\n",
      "15/15 [==============================] - 0s 4ms/step - loss: 159385280.0000\n",
      "Epoch 575/8000\n",
      "15/15 [==============================] - 0s 4ms/step - loss: 158438816.0000\n",
      "Epoch 576/8000\n",
      "15/15 [==============================] - 0s 4ms/step - loss: 159262528.0000\n",
      "Epoch 577/8000\n",
      "15/15 [==============================] - 0s 4ms/step - loss: 159018144.0000\n",
      "Epoch 578/8000\n",
      "15/15 [==============================] - 0s 4ms/step - loss: 156769792.0000\n",
      "Epoch 579/8000\n",
      "15/15 [==============================] - 0s 4ms/step - loss: 155353408.0000\n",
      "Epoch 580/8000\n",
      "15/15 [==============================] - 0s 4ms/step - loss: 158780464.0000\n",
      "Epoch 581/8000\n",
      "15/15 [==============================] - 0s 4ms/step - loss: 156247840.0000\n",
      "Epoch 582/8000\n",
      "15/15 [==============================] - 0s 4ms/step - loss: 155133648.0000\n",
      "Epoch 583/8000\n",
      "15/15 [==============================] - 0s 4ms/step - loss: 155508080.0000\n",
      "Epoch 584/8000\n",
      "15/15 [==============================] - 0s 4ms/step - loss: 154242352.0000\n",
      "Epoch 585/8000\n",
      "15/15 [==============================] - 0s 4ms/step - loss: 154191872.0000\n",
      "Epoch 586/8000\n",
      "15/15 [==============================] - 0s 4ms/step - loss: 155093408.0000\n",
      "Epoch 587/8000\n",
      "15/15 [==============================] - 0s 4ms/step - loss: 153212912.0000\n",
      "Epoch 588/8000\n",
      "15/15 [==============================] - 0s 4ms/step - loss: 152615936.0000\n",
      "Epoch 589/8000\n",
      "15/15 [==============================] - 0s 4ms/step - loss: 155755456.0000\n",
      "Epoch 590/8000\n",
      "15/15 [==============================] - 0s 4ms/step - loss: 150619888.0000\n",
      "Epoch 591/8000\n",
      "15/15 [==============================] - 0s 4ms/step - loss: 151128848.0000\n",
      "Epoch 592/8000\n",
      "15/15 [==============================] - 0s 4ms/step - loss: 151537712.0000\n",
      "Epoch 593/8000\n",
      "15/15 [==============================] - 0s 4ms/step - loss: 153128192.0000\n",
      "Epoch 594/8000\n",
      "15/15 [==============================] - 0s 4ms/step - loss: 153522976.0000\n",
      "Epoch 595/8000\n",
      "15/15 [==============================] - 0s 4ms/step - loss: 150047168.0000\n",
      "Epoch 596/8000\n",
      "15/15 [==============================] - 0s 4ms/step - loss: 152289872.0000\n",
      "Epoch 597/8000\n",
      "15/15 [==============================] - 0s 4ms/step - loss: 151994560.0000\n",
      "Epoch 598/8000\n",
      "15/15 [==============================] - 0s 5ms/step - loss: 149123216.0000\n",
      "Epoch 599/8000\n",
      "15/15 [==============================] - 0s 4ms/step - loss: 151566736.0000\n",
      "Epoch 600/8000\n",
      "15/15 [==============================] - 0s 4ms/step - loss: 147883552.0000\n",
      "Epoch 601/8000\n",
      "15/15 [==============================] - 0s 4ms/step - loss: 147067232.0000\n",
      "Epoch 602/8000\n",
      "15/15 [==============================] - 0s 5ms/step - loss: 145889856.0000\n",
      "Epoch 603/8000\n",
      "15/15 [==============================] - 0s 4ms/step - loss: 146087312.0000\n",
      "Epoch 604/8000\n",
      "15/15 [==============================] - 0s 4ms/step - loss: 147884352.0000\n",
      "Epoch 605/8000\n",
      "15/15 [==============================] - 0s 4ms/step - loss: 145645328.0000\n",
      "Epoch 606/8000\n",
      "15/15 [==============================] - 0s 4ms/step - loss: 148577616.0000\n",
      "Epoch 607/8000\n",
      "15/15 [==============================] - 0s 4ms/step - loss: 146716480.0000\n",
      "Epoch 608/8000\n",
      "15/15 [==============================] - 0s 4ms/step - loss: 147309776.0000\n",
      "Epoch 609/8000\n",
      "15/15 [==============================] - 0s 4ms/step - loss: 143869232.0000\n",
      "Epoch 610/8000\n",
      "15/15 [==============================] - 0s 4ms/step - loss: 141452928.0000\n",
      "Epoch 611/8000\n",
      "15/15 [==============================] - 0s 4ms/step - loss: 144551936.0000\n",
      "Epoch 612/8000\n",
      "15/15 [==============================] - 0s 4ms/step - loss: 143391200.0000\n",
      "Epoch 613/8000\n",
      "15/15 [==============================] - 0s 4ms/step - loss: 142369920.0000\n",
      "Epoch 614/8000\n",
      "15/15 [==============================] - 0s 4ms/step - loss: 142870112.0000\n",
      "Epoch 615/8000\n",
      "15/15 [==============================] - 0s 4ms/step - loss: 143505184.0000\n",
      "Epoch 616/8000\n",
      "15/15 [==============================] - 0s 4ms/step - loss: 142187744.0000\n",
      "Epoch 617/8000\n",
      "15/15 [==============================] - 0s 4ms/step - loss: 142559520.0000\n",
      "Epoch 618/8000\n",
      "15/15 [==============================] - 0s 4ms/step - loss: 142764672.0000\n",
      "Epoch 619/8000\n",
      "15/15 [==============================] - 0s 4ms/step - loss: 146540880.0000\n",
      "Epoch 620/8000\n",
      "15/15 [==============================] - 0s 4ms/step - loss: 140961104.0000\n",
      "Epoch 621/8000\n",
      "15/15 [==============================] - 0s 4ms/step - loss: 137585568.0000\n",
      "Epoch 622/8000\n",
      "15/15 [==============================] - 0s 4ms/step - loss: 137257312.0000\n",
      "Epoch 623/8000\n",
      "15/15 [==============================] - 0s 4ms/step - loss: 136339520.0000\n",
      "Epoch 624/8000\n",
      "15/15 [==============================] - 0s 4ms/step - loss: 137075216.0000\n",
      "Epoch 625/8000\n",
      "15/15 [==============================] - 0s 4ms/step - loss: 137193024.0000\n",
      "Epoch 626/8000\n",
      "15/15 [==============================] - 0s 4ms/step - loss: 139344944.0000\n",
      "Epoch 627/8000\n",
      "15/15 [==============================] - 0s 4ms/step - loss: 135748144.0000\n",
      "Epoch 628/8000\n",
      "15/15 [==============================] - 0s 4ms/step - loss: 135901104.0000\n",
      "Epoch 629/8000\n",
      "15/15 [==============================] - 0s 4ms/step - loss: 136033968.0000\n",
      "Epoch 630/8000\n",
      "15/15 [==============================] - 0s 4ms/step - loss: 134775792.0000\n",
      "Epoch 631/8000\n"
     ]
    },
    {
     "name": "stdout",
     "output_type": "stream",
     "text": [
      "15/15 [==============================] - 0s 4ms/step - loss: 134574672.0000\n",
      "Epoch 632/8000\n",
      "15/15 [==============================] - 0s 4ms/step - loss: 134536448.0000\n",
      "Epoch 633/8000\n",
      "15/15 [==============================] - 0s 5ms/step - loss: 133866616.0000\n",
      "Epoch 634/8000\n",
      "15/15 [==============================] - 0s 4ms/step - loss: 134387856.0000\n",
      "Epoch 635/8000\n",
      "15/15 [==============================] - 0s 4ms/step - loss: 133405072.0000\n",
      "Epoch 636/8000\n",
      "15/15 [==============================] - 0s 4ms/step - loss: 134630816.0000\n",
      "Epoch 637/8000\n",
      "15/15 [==============================] - 0s 4ms/step - loss: 131142096.0000\n",
      "Epoch 638/8000\n",
      "15/15 [==============================] - 0s 4ms/step - loss: 131849512.0000\n",
      "Epoch 639/8000\n",
      "15/15 [==============================] - 0s 4ms/step - loss: 132398408.0000\n",
      "Epoch 640/8000\n",
      "15/15 [==============================] - 0s 4ms/step - loss: 131520720.0000\n",
      "Epoch 641/8000\n",
      "15/15 [==============================] - 0s 4ms/step - loss: 130142176.0000\n",
      "Epoch 642/8000\n",
      "15/15 [==============================] - 0s 4ms/step - loss: 129647656.0000\n",
      "Epoch 643/8000\n",
      "15/15 [==============================] - 0s 4ms/step - loss: 128745000.0000\n",
      "Epoch 644/8000\n",
      "15/15 [==============================] - 0s 4ms/step - loss: 130792976.0000\n",
      "Epoch 645/8000\n",
      "15/15 [==============================] - 0s 4ms/step - loss: 127314496.0000\n",
      "Epoch 646/8000\n",
      "15/15 [==============================] - 0s 4ms/step - loss: 128027800.0000\n",
      "Epoch 647/8000\n",
      "15/15 [==============================] - 0s 4ms/step - loss: 131123016.0000\n",
      "Epoch 648/8000\n",
      "15/15 [==============================] - 0s 4ms/step - loss: 132480520.0000\n",
      "Epoch 649/8000\n",
      "15/15 [==============================] - 0s 4ms/step - loss: 127792976.0000\n",
      "Epoch 650/8000\n",
      "15/15 [==============================] - 0s 4ms/step - loss: 127794232.0000\n",
      "Epoch 651/8000\n",
      "15/15 [==============================] - 0s 4ms/step - loss: 126049976.0000\n",
      "Epoch 652/8000\n",
      "15/15 [==============================] - 0s 4ms/step - loss: 131685424.0000\n",
      "Epoch 653/8000\n",
      "15/15 [==============================] - 0s 4ms/step - loss: 126935632.0000\n",
      "Epoch 654/8000\n",
      "15/15 [==============================] - 0s 4ms/step - loss: 124289712.0000\n",
      "Epoch 655/8000\n",
      "15/15 [==============================] - 0s 4ms/step - loss: 124186008.0000\n",
      "Epoch 656/8000\n",
      "15/15 [==============================] - 0s 4ms/step - loss: 124300944.0000\n",
      "Epoch 657/8000\n",
      "15/15 [==============================] - 0s 4ms/step - loss: 124154024.0000\n",
      "Epoch 658/8000\n",
      "15/15 [==============================] - 0s 5ms/step - loss: 124041064.0000\n",
      "Epoch 659/8000\n",
      "15/15 [==============================] - 0s 4ms/step - loss: 122766176.0000\n",
      "Epoch 660/8000\n",
      "15/15 [==============================] - 0s 4ms/step - loss: 124086304.0000\n",
      "Epoch 661/8000\n",
      "15/15 [==============================] - 0s 4ms/step - loss: 124366968.0000\n",
      "Epoch 662/8000\n",
      "15/15 [==============================] - 0s 4ms/step - loss: 121783688.0000\n",
      "Epoch 663/8000\n",
      "15/15 [==============================] - 0s 4ms/step - loss: 121344720.0000\n",
      "Epoch 664/8000\n",
      "15/15 [==============================] - 0s 4ms/step - loss: 121908280.0000\n",
      "Epoch 665/8000\n",
      "15/15 [==============================] - 0s 4ms/step - loss: 122115728.0000\n",
      "Epoch 666/8000\n",
      "15/15 [==============================] - 0s 5ms/step - loss: 120923304.0000\n",
      "Epoch 667/8000\n",
      "15/15 [==============================] - 0s 4ms/step - loss: 121686288.0000\n",
      "Epoch 668/8000\n",
      "15/15 [==============================] - 0s 4ms/step - loss: 119281120.0000\n",
      "Epoch 669/8000\n",
      "15/15 [==============================] - 0s 5ms/step - loss: 119916088.0000\n",
      "Epoch 670/8000\n",
      "15/15 [==============================] - 0s 4ms/step - loss: 119811952.0000\n",
      "Epoch 671/8000\n",
      "15/15 [==============================] - 0s 4ms/step - loss: 118701248.0000\n",
      "Epoch 672/8000\n",
      "15/15 [==============================] - 0s 4ms/step - loss: 117904280.0000\n",
      "Epoch 673/8000\n",
      "15/15 [==============================] - 0s 4ms/step - loss: 118256904.0000\n",
      "Epoch 674/8000\n",
      "15/15 [==============================] - 0s 4ms/step - loss: 117568928.0000\n",
      "Epoch 675/8000\n",
      "15/15 [==============================] - 0s 4ms/step - loss: 117697280.0000\n",
      "Epoch 676/8000\n",
      "15/15 [==============================] - 0s 5ms/step - loss: 120240232.0000\n",
      "Epoch 677/8000\n",
      "15/15 [==============================] - 0s 4ms/step - loss: 117514880.0000\n",
      "Epoch 678/8000\n",
      "15/15 [==============================] - 0s 4ms/step - loss: 120271776.0000\n",
      "Epoch 679/8000\n",
      "15/15 [==============================] - 0s 4ms/step - loss: 120334736.0000\n",
      "Epoch 680/8000\n",
      "15/15 [==============================] - 0s 4ms/step - loss: 120581336.0000\n",
      "Epoch 681/8000\n",
      "15/15 [==============================] - 0s 5ms/step - loss: 116470312.0000\n",
      "Epoch 682/8000\n",
      "15/15 [==============================] - 0s 4ms/step - loss: 115017528.0000\n",
      "Epoch 683/8000\n",
      "15/15 [==============================] - 0s 4ms/step - loss: 116148352.0000\n",
      "Epoch 684/8000\n",
      "15/15 [==============================] - 0s 4ms/step - loss: 116273984.0000\n",
      "Epoch 685/8000\n",
      "15/15 [==============================] - 0s 4ms/step - loss: 116180672.0000\n",
      "Epoch 686/8000\n",
      "15/15 [==============================] - 0s 4ms/step - loss: 117768720.0000\n",
      "Epoch 687/8000\n",
      "15/15 [==============================] - 0s 4ms/step - loss: 113202128.0000\n",
      "Epoch 688/8000\n",
      "15/15 [==============================] - 0s 4ms/step - loss: 113594832.0000\n",
      "Epoch 689/8000\n",
      "15/15 [==============================] - 0s 4ms/step - loss: 114920800.0000\n",
      "Epoch 690/8000\n",
      "15/15 [==============================] - 0s 4ms/step - loss: 114618544.0000\n",
      "Epoch 691/8000\n",
      "15/15 [==============================] - 0s 4ms/step - loss: 112375856.0000\n",
      "Epoch 692/8000\n",
      "15/15 [==============================] - 0s 4ms/step - loss: 110813488.0000\n",
      "Epoch 693/8000\n",
      "15/15 [==============================] - 0s 4ms/step - loss: 110805848.0000\n",
      "Epoch 694/8000\n",
      "15/15 [==============================] - 0s 4ms/step - loss: 111473368.0000\n",
      "Epoch 695/8000\n",
      "15/15 [==============================] - 0s 4ms/step - loss: 112648976.0000\n",
      "Epoch 696/8000\n",
      "15/15 [==============================] - 0s 4ms/step - loss: 111479632.0000\n",
      "Epoch 697/8000\n",
      "15/15 [==============================] - 0s 5ms/step - loss: 111384312.0000\n",
      "Epoch 698/8000\n",
      "15/15 [==============================] - 0s 4ms/step - loss: 115297800.0000\n",
      "Epoch 699/8000\n",
      "15/15 [==============================] - 0s 4ms/step - loss: 109552432.0000\n",
      "Epoch 700/8000\n",
      "15/15 [==============================] - 0s 4ms/step - loss: 108941592.0000\n",
      "Epoch 701/8000\n",
      "15/15 [==============================] - 0s 5ms/step - loss: 109386624.0000\n",
      "Epoch 702/8000\n",
      "15/15 [==============================] - 0s 5ms/step - loss: 108471936.0000\n",
      "Epoch 703/8000\n",
      "15/15 [==============================] - 0s 4ms/step - loss: 109116168.0000\n",
      "Epoch 704/8000\n",
      "15/15 [==============================] - 0s 4ms/step - loss: 109043856.0000\n",
      "Epoch 705/8000\n",
      "15/15 [==============================] - 0s 4ms/step - loss: 107957808.0000\n",
      "Epoch 706/8000\n",
      "15/15 [==============================] - 0s 4ms/step - loss: 107738240.0000\n",
      "Epoch 707/8000\n",
      "15/15 [==============================] - 0s 4ms/step - loss: 106422184.0000\n",
      "Epoch 708/8000\n",
      "15/15 [==============================] - 0s 4ms/step - loss: 106052400.0000\n",
      "Epoch 709/8000\n",
      "15/15 [==============================] - 0s 4ms/step - loss: 105522272.0000\n",
      "Epoch 710/8000\n",
      "15/15 [==============================] - 0s 4ms/step - loss: 105255552.0000\n",
      "Epoch 711/8000\n",
      "15/15 [==============================] - 0s 4ms/step - loss: 104663648.0000\n",
      "Epoch 712/8000\n",
      "15/15 [==============================] - 0s 4ms/step - loss: 105096904.0000\n",
      "Epoch 713/8000\n",
      "15/15 [==============================] - 0s 4ms/step - loss: 105089120.0000\n",
      "Epoch 714/8000\n",
      "15/15 [==============================] - 0s 4ms/step - loss: 104496960.0000\n",
      "Epoch 715/8000\n",
      "15/15 [==============================] - 0s 4ms/step - loss: 104677272.0000\n",
      "Epoch 716/8000\n",
      "15/15 [==============================] - 0s 4ms/step - loss: 106799888.0000\n",
      "Epoch 717/8000\n",
      "15/15 [==============================] - 0s 4ms/step - loss: 104073488.0000\n",
      "Epoch 718/8000\n",
      "15/15 [==============================] - 0s 4ms/step - loss: 102472200.0000\n",
      "Epoch 719/8000\n",
      "15/15 [==============================] - 0s 4ms/step - loss: 103656432.0000\n",
      "Epoch 720/8000\n",
      "15/15 [==============================] - 0s 4ms/step - loss: 102768416.0000\n",
      "Epoch 721/8000\n"
     ]
    },
    {
     "name": "stdout",
     "output_type": "stream",
     "text": [
      "15/15 [==============================] - 0s 4ms/step - loss: 103497000.0000\n",
      "Epoch 722/8000\n",
      "15/15 [==============================] - 0s 4ms/step - loss: 105137320.0000\n",
      "Epoch 723/8000\n",
      "15/15 [==============================] - 0s 4ms/step - loss: 101100088.0000\n",
      "Epoch 724/8000\n",
      "15/15 [==============================] - 0s 4ms/step - loss: 100690688.0000\n",
      "Epoch 725/8000\n",
      "15/15 [==============================] - 0s 4ms/step - loss: 100137384.0000\n",
      "Epoch 726/8000\n",
      "15/15 [==============================] - 0s 4ms/step - loss: 100338784.0000\n",
      "Epoch 727/8000\n",
      "15/15 [==============================] - 0s 4ms/step - loss: 100821248.0000\n",
      "Epoch 728/8000\n",
      "15/15 [==============================] - 0s 4ms/step - loss: 101595856.0000\n",
      "Epoch 729/8000\n",
      "15/15 [==============================] - 0s 4ms/step - loss: 100642208.0000\n",
      "Epoch 730/8000\n",
      "15/15 [==============================] - 0s 3ms/step - loss: 107121544.0000\n",
      "Epoch 731/8000\n",
      "15/15 [==============================] - 0s 4ms/step - loss: 101338112.0000\n",
      "Epoch 732/8000\n",
      "15/15 [==============================] - 0s 4ms/step - loss: 100405128.0000\n",
      "Epoch 733/8000\n",
      "15/15 [==============================] - 0s 4ms/step - loss: 104831680.0000\n",
      "Epoch 734/8000\n",
      "15/15 [==============================] - 0s 5ms/step - loss: 97942240.0000\n",
      "Epoch 735/8000\n",
      "15/15 [==============================] - 0s 4ms/step - loss: 97969976.0000\n",
      "Epoch 736/8000\n",
      "15/15 [==============================] - 0s 4ms/step - loss: 97135952.0000\n",
      "Epoch 737/8000\n",
      "15/15 [==============================] - 0s 5ms/step - loss: 97987976.0000\n",
      "Epoch 738/8000\n",
      "15/15 [==============================] - 0s 4ms/step - loss: 97691136.0000\n",
      "Epoch 739/8000\n",
      "15/15 [==============================] - 0s 4ms/step - loss: 97361896.0000\n",
      "Epoch 740/8000\n",
      "15/15 [==============================] - 0s 4ms/step - loss: 96511128.0000\n",
      "Epoch 741/8000\n",
      "15/15 [==============================] - 0s 4ms/step - loss: 95933760.0000\n",
      "Epoch 742/8000\n",
      "15/15 [==============================] - 0s 4ms/step - loss: 95504896.0000\n",
      "Epoch 743/8000\n",
      "15/15 [==============================] - 0s 4ms/step - loss: 96275504.0000\n",
      "Epoch 744/8000\n",
      "15/15 [==============================] - 0s 4ms/step - loss: 96338344.0000\n",
      "Epoch 745/8000\n",
      "15/15 [==============================] - 0s 4ms/step - loss: 96497560.0000\n",
      "Epoch 746/8000\n",
      "15/15 [==============================] - 0s 4ms/step - loss: 97048816.0000\n",
      "Epoch 747/8000\n",
      "15/15 [==============================] - 0s 4ms/step - loss: 96357488.0000\n",
      "Epoch 748/8000\n",
      "15/15 [==============================] - 0s 4ms/step - loss: 95467864.0000\n",
      "Epoch 749/8000\n",
      "15/15 [==============================] - 0s 4ms/step - loss: 94256232.0000\n",
      "Epoch 750/8000\n",
      "15/15 [==============================] - 0s 4ms/step - loss: 98185976.0000\n",
      "Epoch 751/8000\n",
      "15/15 [==============================] - 0s 4ms/step - loss: 97610016.0000\n",
      "Epoch 752/8000\n",
      "15/15 [==============================] - 0s 4ms/step - loss: 95349008.0000\n",
      "Epoch 753/8000\n",
      "15/15 [==============================] - 0s 5ms/step - loss: 93200392.0000\n",
      "Epoch 754/8000\n",
      "15/15 [==============================] - 0s 4ms/step - loss: 93638024.0000TA: 0s - loss: 94836864.000\n",
      "Epoch 755/8000\n",
      "15/15 [==============================] - 0s 4ms/step - loss: 94768872.0000: 0s - loss: 94768872.00\n",
      "Epoch 756/8000\n",
      "15/15 [==============================] - 0s 4ms/step - loss: 91644360.0000\n",
      "Epoch 757/8000\n",
      "15/15 [==============================] - 0s 4ms/step - loss: 92205760.0000\n",
      "Epoch 758/8000\n",
      "15/15 [==============================] - 0s 4ms/step - loss: 95043952.0000\n",
      "Epoch 759/8000\n",
      "15/15 [==============================] - 0s 4ms/step - loss: 92265368.0000\n",
      "Epoch 760/8000\n",
      "15/15 [==============================] - 0s 4ms/step - loss: 92123432.0000\n",
      "Epoch 761/8000\n",
      "15/15 [==============================] - 0s 4ms/step - loss: 91608216.0000\n",
      "Epoch 762/8000\n",
      "15/15 [==============================] - 0s 4ms/step - loss: 92413464.0000\n",
      "Epoch 763/8000\n",
      "15/15 [==============================] - 0s 4ms/step - loss: 92164896.0000\n",
      "Epoch 764/8000\n",
      "15/15 [==============================] - 0s 5ms/step - loss: 92813792.0000\n",
      "Epoch 765/8000\n",
      "15/15 [==============================] - 0s 5ms/step - loss: 90924728.0000\n",
      "Epoch 766/8000\n",
      "15/15 [==============================] - 0s 4ms/step - loss: 89742616.0000\n",
      "Epoch 767/8000\n",
      "15/15 [==============================] - 0s 5ms/step - loss: 89834512.0000\n",
      "Epoch 768/8000\n",
      "15/15 [==============================] - 0s 4ms/step - loss: 90064680.0000\n",
      "Epoch 769/8000\n",
      "15/15 [==============================] - 0s 4ms/step - loss: 88957776.0000\n",
      "Epoch 770/8000\n",
      "15/15 [==============================] - 0s 4ms/step - loss: 88948632.0000\n",
      "Epoch 771/8000\n",
      "15/15 [==============================] - 0s 4ms/step - loss: 88291016.0000\n",
      "Epoch 772/8000\n",
      "15/15 [==============================] - 0s 4ms/step - loss: 90176984.0000\n",
      "Epoch 773/8000\n",
      "15/15 [==============================] - 0s 3ms/step - loss: 89864616.0000\n",
      "Epoch 774/8000\n",
      "15/15 [==============================] - 0s 4ms/step - loss: 88078336.0000\n",
      "Epoch 775/8000\n",
      "15/15 [==============================] - 0s 4ms/step - loss: 87316728.0000\n",
      "Epoch 776/8000\n",
      "15/15 [==============================] - 0s 4ms/step - loss: 87001800.0000\n",
      "Epoch 777/8000\n",
      "15/15 [==============================] - 0s 4ms/step - loss: 87337304.0000\n",
      "Epoch 778/8000\n",
      "15/15 [==============================] - 0s 4ms/step - loss: 88795160.0000\n",
      "Epoch 779/8000\n",
      "15/15 [==============================] - 0s 4ms/step - loss: 88460768.0000\n",
      "Epoch 780/8000\n",
      "15/15 [==============================] - 0s 4ms/step - loss: 86006432.0000\n",
      "Epoch 781/8000\n",
      "15/15 [==============================] - 0s 4ms/step - loss: 86256192.0000\n",
      "Epoch 782/8000\n",
      "15/15 [==============================] - 0s 4ms/step - loss: 87014624.0000\n",
      "Epoch 783/8000\n",
      "15/15 [==============================] - 0s 4ms/step - loss: 85768008.0000\n",
      "Epoch 784/8000\n",
      "15/15 [==============================] - 0s 4ms/step - loss: 86485592.0000\n",
      "Epoch 785/8000\n",
      "15/15 [==============================] - 0s 4ms/step - loss: 84536824.0000\n",
      "Epoch 786/8000\n",
      "15/15 [==============================] - 0s 4ms/step - loss: 84494552.0000\n",
      "Epoch 787/8000\n",
      "15/15 [==============================] - 0s 4ms/step - loss: 85155920.0000\n",
      "Epoch 788/8000\n",
      "15/15 [==============================] - 0s 4ms/step - loss: 84224912.0000\n",
      "Epoch 789/8000\n",
      "15/15 [==============================] - 0s 4ms/step - loss: 84688752.0000\n",
      "Epoch 790/8000\n",
      "15/15 [==============================] - 0s 4ms/step - loss: 84656360.0000\n",
      "Epoch 791/8000\n",
      "15/15 [==============================] - 0s 4ms/step - loss: 83145464.0000\n",
      "Epoch 792/8000\n",
      "15/15 [==============================] - 0s 4ms/step - loss: 83549568.0000\n",
      "Epoch 793/8000\n",
      "15/15 [==============================] - 0s 4ms/step - loss: 83906136.0000\n",
      "Epoch 794/8000\n",
      "15/15 [==============================] - 0s 4ms/step - loss: 84361304.0000\n",
      "Epoch 795/8000\n",
      "15/15 [==============================] - 0s 4ms/step - loss: 83039608.0000\n",
      "Epoch 796/8000\n",
      "15/15 [==============================] - 0s 4ms/step - loss: 86783512.0000\n",
      "Epoch 797/8000\n",
      "15/15 [==============================] - 0s 4ms/step - loss: 85061888.0000\n",
      "Epoch 798/8000\n",
      "15/15 [==============================] - 0s 4ms/step - loss: 90455016.0000\n",
      "Epoch 799/8000\n",
      "15/15 [==============================] - 0s 3ms/step - loss: 85423904.0000\n",
      "Epoch 800/8000\n",
      "15/15 [==============================] - 0s 5ms/step - loss: 86140608.0000\n",
      "Epoch 801/8000\n",
      "15/15 [==============================] - 0s 4ms/step - loss: 86905840.0000\n",
      "Epoch 802/8000\n",
      "15/15 [==============================] - 0s 4ms/step - loss: 81026944.0000\n",
      "Epoch 803/8000\n",
      "15/15 [==============================] - 0s 4ms/step - loss: 81622088.0000\n",
      "Epoch 804/8000\n",
      "15/15 [==============================] - 0s 4ms/step - loss: 82628576.0000\n",
      "Epoch 805/8000\n",
      "15/15 [==============================] - 0s 4ms/step - loss: 80648720.0000\n",
      "Epoch 806/8000\n",
      "15/15 [==============================] - 0s 5ms/step - loss: 79736320.0000\n",
      "Epoch 807/8000\n",
      "15/15 [==============================] - 0s 4ms/step - loss: 83781352.0000\n",
      "Epoch 808/8000\n",
      "15/15 [==============================] - 0s 4ms/step - loss: 79619984.0000\n",
      "Epoch 809/8000\n",
      "15/15 [==============================] - 0s 4ms/step - loss: 80045208.0000\n",
      "Epoch 810/8000\n",
      "15/15 [==============================] - 0s 4ms/step - loss: 80064784.0000\n",
      "Epoch 811/8000\n"
     ]
    },
    {
     "name": "stdout",
     "output_type": "stream",
     "text": [
      "15/15 [==============================] - 0s 4ms/step - loss: 79435896.0000\n",
      "Epoch 812/8000\n",
      "15/15 [==============================] - 0s 4ms/step - loss: 79744936.0000\n",
      "Epoch 813/8000\n",
      "15/15 [==============================] - 0s 5ms/step - loss: 80852272.0000\n",
      "Epoch 814/8000\n",
      "15/15 [==============================] - 0s 4ms/step - loss: 83097456.0000\n",
      "Epoch 815/8000\n",
      "15/15 [==============================] - 0s 4ms/step - loss: 78714456.0000\n",
      "Epoch 816/8000\n",
      "15/15 [==============================] - 0s 4ms/step - loss: 81453776.0000\n",
      "Epoch 817/8000\n",
      "15/15 [==============================] - 0s 3ms/step - loss: 78696080.0000\n",
      "Epoch 818/8000\n",
      "15/15 [==============================] - 0s 4ms/step - loss: 79435224.0000\n",
      "Epoch 819/8000\n",
      "15/15 [==============================] - 0s 4ms/step - loss: 80778672.0000\n",
      "Epoch 820/8000\n",
      "15/15 [==============================] - 0s 4ms/step - loss: 82308368.0000\n",
      "Epoch 821/8000\n",
      "15/15 [==============================] - 0s 4ms/step - loss: 81221296.0000\n",
      "Epoch 822/8000\n",
      "15/15 [==============================] - 0s 4ms/step - loss: 78905216.0000\n",
      "Epoch 823/8000\n",
      "15/15 [==============================] - 0s 4ms/step - loss: 79518496.0000\n",
      "Epoch 824/8000\n",
      "15/15 [==============================] - 0s 4ms/step - loss: 76576528.0000\n",
      "Epoch 825/8000\n",
      "15/15 [==============================] - 0s 4ms/step - loss: 77306104.0000\n",
      "Epoch 826/8000\n",
      "15/15 [==============================] - 0s 4ms/step - loss: 76162296.0000\n",
      "Epoch 827/8000\n",
      "15/15 [==============================] - 0s 4ms/step - loss: 75777088.0000\n",
      "Epoch 828/8000\n",
      "15/15 [==============================] - 0s 4ms/step - loss: 75725936.0000\n",
      "Epoch 829/8000\n",
      "15/15 [==============================] - 0s 4ms/step - loss: 76234552.0000\n",
      "Epoch 830/8000\n",
      "15/15 [==============================] - 0s 5ms/step - loss: 78586104.0000\n",
      "Epoch 831/8000\n",
      "15/15 [==============================] - 0s 4ms/step - loss: 75702584.0000\n",
      "Epoch 832/8000\n",
      "15/15 [==============================] - 0s 4ms/step - loss: 74851768.0000\n",
      "Epoch 833/8000\n",
      "15/15 [==============================] - 0s 4ms/step - loss: 74786328.0000\n",
      "Epoch 834/8000\n",
      "15/15 [==============================] - 0s 4ms/step - loss: 74610208.0000\n",
      "Epoch 835/8000\n",
      "15/15 [==============================] - 0s 5ms/step - loss: 73868792.0000\n",
      "Epoch 836/8000\n",
      "15/15 [==============================] - 0s 4ms/step - loss: 74254096.0000\n",
      "Epoch 837/8000\n",
      "15/15 [==============================] - 0s 4ms/step - loss: 74671272.0000\n",
      "Epoch 838/8000\n",
      "15/15 [==============================] - 0s 4ms/step - loss: 74283248.0000\n",
      "Epoch 839/8000\n",
      "15/15 [==============================] - 0s 4ms/step - loss: 75194888.0000\n",
      "Epoch 840/8000\n",
      "15/15 [==============================] - 0s 4ms/step - loss: 74622024.0000\n",
      "Epoch 841/8000\n",
      "15/15 [==============================] - 0s 4ms/step - loss: 75464440.0000\n",
      "Epoch 842/8000\n",
      "15/15 [==============================] - 0s 4ms/step - loss: 75713248.0000\n",
      "Epoch 843/8000\n",
      "15/15 [==============================] - 0s 4ms/step - loss: 73282840.0000\n",
      "Epoch 844/8000\n",
      "15/15 [==============================] - 0s 4ms/step - loss: 72928896.0000\n",
      "Epoch 845/8000\n",
      "15/15 [==============================] - 0s 4ms/step - loss: 71892960.0000\n",
      "Epoch 846/8000\n",
      "15/15 [==============================] - 0s 4ms/step - loss: 71967472.0000\n",
      "Epoch 847/8000\n",
      "15/15 [==============================] - 0s 5ms/step - loss: 71522728.0000\n",
      "Epoch 848/8000\n",
      "15/15 [==============================] - 0s 4ms/step - loss: 72299704.0000\n",
      "Epoch 849/8000\n",
      "15/15 [==============================] - 0s 4ms/step - loss: 72413584.0000\n",
      "Epoch 850/8000\n",
      "15/15 [==============================] - 0s 4ms/step - loss: 74764144.0000\n",
      "Epoch 851/8000\n",
      "15/15 [==============================] - 0s 4ms/step - loss: 74500424.0000\n",
      "Epoch 852/8000\n",
      "15/15 [==============================] - 0s 4ms/step - loss: 71303472.0000\n",
      "Epoch 853/8000\n",
      "15/15 [==============================] - 0s 4ms/step - loss: 70986552.0000\n",
      "Epoch 854/8000\n",
      "15/15 [==============================] - 0s 4ms/step - loss: 70504552.0000\n",
      "Epoch 855/8000\n",
      "15/15 [==============================] - 0s 4ms/step - loss: 70268352.0000\n",
      "Epoch 856/8000\n",
      "15/15 [==============================] - 0s 4ms/step - loss: 71076056.0000\n",
      "Epoch 857/8000\n",
      "15/15 [==============================] - 0s 4ms/step - loss: 69845944.0000\n",
      "Epoch 858/8000\n",
      "15/15 [==============================] - 0s 4ms/step - loss: 72367632.0000\n",
      "Epoch 859/8000\n",
      "15/15 [==============================] - 0s 4ms/step - loss: 70437504.0000\n",
      "Epoch 860/8000\n",
      "15/15 [==============================] - 0s 3ms/step - loss: 71743464.0000\n",
      "Epoch 861/8000\n",
      "15/15 [==============================] - 0s 4ms/step - loss: 72219288.0000\n",
      "Epoch 862/8000\n",
      "15/15 [==============================] - 0s 4ms/step - loss: 68796504.0000\n",
      "Epoch 863/8000\n",
      "15/15 [==============================] - 0s 4ms/step - loss: 70171640.0000\n",
      "Epoch 864/8000\n",
      "15/15 [==============================] - 0s 4ms/step - loss: 68494928.0000\n",
      "Epoch 865/8000\n",
      "15/15 [==============================] - 0s 4ms/step - loss: 71987448.0000\n",
      "Epoch 866/8000\n",
      "15/15 [==============================] - 0s 4ms/step - loss: 74657560.0000\n",
      "Epoch 867/8000\n",
      "15/15 [==============================] - 0s 4ms/step - loss: 69709784.0000\n",
      "Epoch 868/8000\n",
      "15/15 [==============================] - 0s 4ms/step - loss: 69177280.0000\n",
      "Epoch 869/8000\n",
      "15/15 [==============================] - 0s 4ms/step - loss: 69322296.0000\n",
      "Epoch 870/8000\n",
      "15/15 [==============================] - 0s 4ms/step - loss: 68566456.0000\n",
      "Epoch 871/8000\n",
      "15/15 [==============================] - 0s 4ms/step - loss: 69016520.0000\n",
      "Epoch 872/8000\n",
      "15/15 [==============================] - 0s 4ms/step - loss: 67726208.0000\n",
      "Epoch 873/8000\n",
      "15/15 [==============================] - 0s 5ms/step - loss: 70908064.0000\n",
      "Epoch 874/8000\n",
      "15/15 [==============================] - 0s 5ms/step - loss: 69051240.0000\n",
      "Epoch 875/8000\n",
      "15/15 [==============================] - 0s 4ms/step - loss: 67432392.0000\n",
      "Epoch 876/8000\n",
      "15/15 [==============================] - 0s 4ms/step - loss: 66672120.0000\n",
      "Epoch 877/8000\n",
      "15/15 [==============================] - 0s 4ms/step - loss: 68293256.0000\n",
      "Epoch 878/8000\n",
      "15/15 [==============================] - 0s 4ms/step - loss: 67997352.0000\n",
      "Epoch 879/8000\n",
      "15/15 [==============================] - 0s 4ms/step - loss: 68285744.0000\n",
      "Epoch 880/8000\n",
      "15/15 [==============================] - 0s 3ms/step - loss: 66043440.0000\n",
      "Epoch 881/8000\n",
      "15/15 [==============================] - 0s 4ms/step - loss: 67091088.0000\n",
      "Epoch 882/8000\n",
      "15/15 [==============================] - 0s 4ms/step - loss: 66597064.0000\n",
      "Epoch 883/8000\n",
      "15/15 [==============================] - 0s 4ms/step - loss: 66806800.0000\n",
      "Epoch 884/8000\n",
      "15/15 [==============================] - 0s 4ms/step - loss: 64444628.0000\n",
      "Epoch 885/8000\n",
      "15/15 [==============================] - 0s 5ms/step - loss: 64348296.0000\n",
      "Epoch 886/8000\n",
      "15/15 [==============================] - 0s 4ms/step - loss: 65422104.0000\n",
      "Epoch 887/8000\n",
      "15/15 [==============================] - 0s 4ms/step - loss: 67223248.0000\n",
      "Epoch 888/8000\n",
      "15/15 [==============================] - 0s 4ms/step - loss: 64421780.0000\n",
      "Epoch 889/8000\n",
      "15/15 [==============================] - 0s 4ms/step - loss: 64431476.0000\n",
      "Epoch 890/8000\n",
      "15/15 [==============================] - 0s 4ms/step - loss: 64910288.0000\n",
      "Epoch 891/8000\n",
      "15/15 [==============================] - 0s 4ms/step - loss: 71128728.0000\n",
      "Epoch 892/8000\n",
      "15/15 [==============================] - 0s 5ms/step - loss: 68954232.0000\n",
      "Epoch 893/8000\n",
      "15/15 [==============================] - 0s 4ms/step - loss: 70795912.0000\n",
      "Epoch 894/8000\n",
      "15/15 [==============================] - 0s 4ms/step - loss: 65099736.0000\n",
      "Epoch 895/8000\n",
      "15/15 [==============================] - 0s 4ms/step - loss: 64427740.0000\n",
      "Epoch 00895: early stopping\n"
     ]
    },
    {
     "data": {
      "text/plain": [
       "<tensorflow.python.keras.callbacks.History at 0x7ff2ef4396d0>"
      ]
     },
     "execution_count": 411,
     "metadata": {},
     "output_type": "execute_result"
    }
   ],
   "source": [
    "nn.fit(x=X1, y=y, batch_size=100, epochs=8000, callbacks=[early_stop])"
   ]
  },
  {
   "cell_type": "code",
   "execution_count": 412,
   "metadata": {},
   "outputs": [],
   "source": [
    "losses=pd.DataFrame(nn.history.history)"
   ]
  },
  {
   "cell_type": "code",
   "execution_count": 413,
   "metadata": {},
   "outputs": [
    {
     "data": {
      "text/plain": [
       "<matplotlib.axes._subplots.AxesSubplot at 0x7ff2ef324a50>"
      ]
     },
     "execution_count": 413,
     "metadata": {},
     "output_type": "execute_result"
    },
    {
     "data": {
      "image/png": "[encoded data removed]",
      "text/plain": [
       "<Figure size 432x288 with 1 Axes>"
      ]
     },
     "metadata": {
      "needs_background": "light"
     },
     "output_type": "display_data"
    }
   ],
   "source": [
    "losses.plot()"
   ]
  },
  {
   "cell_type": "code",
   "execution_count": 414,
   "metadata": {},
   "outputs": [],
   "source": [
    "predictions=nn.predict(test1)"
   ]
  },
  {
   "cell_type": "code",
   "execution_count": 415,
   "metadata": {},
   "outputs": [],
   "source": [
    "result['SalePrice']=predictions"
   ]
  },
  {
   "cell_type": "code",
   "execution_count": 416,
   "metadata": {},
   "outputs": [
    {
     "data": {
      "text/html": [
       "<div>\n",
       "<style scoped>\n",
       "    .dataframe tbody tr th:only-of-type {\n",
       "        vertical-align: middle;\n",
       "    }\n",
       "\n",
       "    .dataframe tbody tr th {\n",
       "        vertical-align: top;\n",
       "    }\n",
       "\n",
       "    .dataframe thead th {\n",
       "        text-align: right;\n",
       "    }\n",
       "</style>\n",
       "<table border=\"1\" class=\"dataframe\">\n",
       "  <thead>\n",
       "    <tr style=\"text-align: right;\">\n",
       "      <th></th>\n",
       "      <th>Id</th>\n",
       "      <th>SalePrice</th>\n",
       "    </tr>\n",
       "  </thead>\n",
       "  <tbody>\n",
       "    <tr>\n",
       "      <th>1460</th>\n",
       "      <td>1461</td>\n",
       "      <td>147166.609375</td>\n",
       "    </tr>\n",
       "    <tr>\n",
       "      <th>1461</th>\n",
       "      <td>1462</td>\n",
       "      <td>174540.484375</td>\n",
       "    </tr>\n",
       "    <tr>\n",
       "      <th>1462</th>\n",
       "      <td>1463</td>\n",
       "      <td>177981.656250</td>\n",
       "    </tr>\n",
       "    <tr>\n",
       "      <th>1463</th>\n",
       "      <td>1464</td>\n",
       "      <td>208429.921875</td>\n",
       "    </tr>\n",
       "    <tr>\n",
       "      <th>1464</th>\n",
       "      <td>1465</td>\n",
       "      <td>173487.234375</td>\n",
       "    </tr>\n",
       "  </tbody>\n",
       "</table>\n",
       "</div>"
      ],
      "text/plain": [
       "        Id      SalePrice\n",
       "1460  1461  147166.609375\n",
       "1461  1462  174540.484375\n",
       "1462  1463  177981.656250\n",
       "1463  1464  208429.921875\n",
       "1464  1465  173487.234375"
      ]
     },
     "execution_count": 416,
     "metadata": {},
     "output_type": "execute_result"
    }
   ],
   "source": [
    "result.head()"
   ]
  },
  {
   "cell_type": "code",
   "execution_count": 417,
   "metadata": {},
   "outputs": [],
   "source": [
    "result.to_csv(r'/home/pitzm/Dokumentumok/Data Science/Kaggle/AdvancedRegression/resultnn.csv',index=False)"
   ]
  },
  {
   "cell_type": "code",
   "execution_count": 418,
   "metadata": {},
   "outputs": [],
   "source": [
    "result.drop('SalePrice', axis=1, inplace=True)"
   ]
  },
  {
   "cell_type": "code",
   "execution_count": null,
   "metadata": {},
   "outputs": [],
   "source": []
  }
 ],
 "metadata": {
  "kernelspec": {
   "display_name": "Python 3",
   "language": "python",
   "name": "python3"
  },
  "language_info": {
   "codemirror_mode": {
    "name": "ipython",
    "version": 3
   },
   "file_extension": ".py",
   "mimetype": "text/x-python",
   "name": "python",
   "nbconvert_exporter": "python",
   "pygments_lexer": "ipython3",
   "version": "3.7.7"
  }
 },
 "nbformat": 4,
 "nbformat_minor": 4
}

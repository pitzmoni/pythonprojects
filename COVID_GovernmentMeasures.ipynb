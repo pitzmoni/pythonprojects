{
 "cells": [
  {
   "cell_type": "code",
   "execution_count": 43,
   "metadata": {},
   "outputs": [],
   "source": [
    "import pandas as pd\n",
    "import matplotlib.pyplot as plt\n",
    "import seaborn as sns\n",
    "%matplotlib inline\n",
    "import numpy as np"
   ]
  },
  {
   "cell_type": "code",
   "execution_count": 7,
   "metadata": {},
   "outputs": [],
   "source": [
    "df=pd.read_csv('data.csv', index_col='COUNTRY')"
   ]
  },
  {
   "cell_type": "code",
   "execution_count": 8,
   "metadata": {},
   "outputs": [
    {
     "data": {
      "text/html": [
       "<div>\n",
       "<style scoped>\n",
       "    .dataframe tbody tr th:only-of-type {\n",
       "        vertical-align: middle;\n",
       "    }\n",
       "\n",
       "    .dataframe tbody tr th {\n",
       "        vertical-align: top;\n",
       "    }\n",
       "\n",
       "    .dataframe thead th {\n",
       "        text-align: right;\n",
       "    }\n",
       "</style>\n",
       "<table border=\"1\" class=\"dataframe\">\n",
       "  <thead>\n",
       "    <tr style=\"text-align: right;\">\n",
       "      <th></th>\n",
       "      <th>Additional health/documents requirements upon arrival</th>\n",
       "      <th>Amendments to funeral and burial regulations</th>\n",
       "      <th>Awareness campaigns</th>\n",
       "      <th>Border checks</th>\n",
       "      <th>Border closure</th>\n",
       "      <th>Changes in prison-related policies</th>\n",
       "      <th>Checkpoints within the country</th>\n",
       "      <th>Closure of businesses and public services</th>\n",
       "      <th>Complete border closure</th>\n",
       "      <th>Curfews</th>\n",
       "      <th>...</th>\n",
       "      <th>Partial lockdown</th>\n",
       "      <th>Psychological assistance and medical social work</th>\n",
       "      <th>Requirement to wear protective gear in public</th>\n",
       "      <th>Schools closure</th>\n",
       "      <th>State of emergency declared</th>\n",
       "      <th>Strengthening the public health system</th>\n",
       "      <th>Surveillance and monitoring</th>\n",
       "      <th>Testing policy</th>\n",
       "      <th>Visa restrictions</th>\n",
       "      <th>Deaths per Population*1000000</th>\n",
       "    </tr>\n",
       "    <tr>\n",
       "      <th>COUNTRY</th>\n",
       "      <th></th>\n",
       "      <th></th>\n",
       "      <th></th>\n",
       "      <th></th>\n",
       "      <th></th>\n",
       "      <th></th>\n",
       "      <th></th>\n",
       "      <th></th>\n",
       "      <th></th>\n",
       "      <th></th>\n",
       "      <th></th>\n",
       "      <th></th>\n",
       "      <th></th>\n",
       "      <th></th>\n",
       "      <th></th>\n",
       "      <th></th>\n",
       "      <th></th>\n",
       "      <th></th>\n",
       "      <th></th>\n",
       "      <th></th>\n",
       "      <th></th>\n",
       "    </tr>\n",
       "  </thead>\n",
       "  <tbody>\n",
       "    <tr>\n",
       "      <th>Afghanistan</th>\n",
       "      <td>NaN</td>\n",
       "      <td>NaN</td>\n",
       "      <td>-31.0</td>\n",
       "      <td>-23.0</td>\n",
       "      <td>0.0</td>\n",
       "      <td>36.0</td>\n",
       "      <td>NaN</td>\n",
       "      <td>NaN</td>\n",
       "      <td>NaN</td>\n",
       "      <td>NaN</td>\n",
       "      <td>...</td>\n",
       "      <td>33.0</td>\n",
       "      <td>NaN</td>\n",
       "      <td>NaN</td>\n",
       "      <td>6.0</td>\n",
       "      <td>0.0</td>\n",
       "      <td>-22.0</td>\n",
       "      <td>-11.0</td>\n",
       "      <td>NaN</td>\n",
       "      <td>NaN</td>\n",
       "      <td>24,7012930959163</td>\n",
       "    </tr>\n",
       "    <tr>\n",
       "      <th>Albania</th>\n",
       "      <td>NaN</td>\n",
       "      <td>NaN</td>\n",
       "      <td>2.0</td>\n",
       "      <td>NaN</td>\n",
       "      <td>5.0</td>\n",
       "      <td>14.0</td>\n",
       "      <td>1.0</td>\n",
       "      <td>1.0</td>\n",
       "      <td>NaN</td>\n",
       "      <td>14.0</td>\n",
       "      <td>...</td>\n",
       "      <td>24.0</td>\n",
       "      <td>NaN</td>\n",
       "      <td>NaN</td>\n",
       "      <td>1.0</td>\n",
       "      <td>52.0</td>\n",
       "      <td>-45.0</td>\n",
       "      <td>35.0</td>\n",
       "      <td>NaN</td>\n",
       "      <td>NaN</td>\n",
       "      <td>28,8352637905518</td>\n",
       "    </tr>\n",
       "    <tr>\n",
       "      <th>Algeria</th>\n",
       "      <td>NaN</td>\n",
       "      <td>NaN</td>\n",
       "      <td>9.0</td>\n",
       "      <td>16.0</td>\n",
       "      <td>21.0</td>\n",
       "      <td>NaN</td>\n",
       "      <td>27.0</td>\n",
       "      <td>20.0</td>\n",
       "      <td>NaN</td>\n",
       "      <td>27.0</td>\n",
       "      <td>...</td>\n",
       "      <td>27.0</td>\n",
       "      <td>NaN</td>\n",
       "      <td>72.0</td>\n",
       "      <td>16.0</td>\n",
       "      <td>NaN</td>\n",
       "      <td>NaN</td>\n",
       "      <td>NaN</td>\n",
       "      <td>NaN</td>\n",
       "      <td>NaN</td>\n",
       "      <td>22,6161387942366</td>\n",
       "    </tr>\n",
       "    <tr>\n",
       "      <th>Angola</th>\n",
       "      <td>20.0</td>\n",
       "      <td>NaN</td>\n",
       "      <td>-9.0</td>\n",
       "      <td>7.0</td>\n",
       "      <td>7.0</td>\n",
       "      <td>13.0</td>\n",
       "      <td>NaN</td>\n",
       "      <td>7.0</td>\n",
       "      <td>NaN</td>\n",
       "      <td>NaN</td>\n",
       "      <td>...</td>\n",
       "      <td>37.0</td>\n",
       "      <td>NaN</td>\n",
       "      <td>27.0</td>\n",
       "      <td>3.0</td>\n",
       "      <td>7.0</td>\n",
       "      <td>6.0</td>\n",
       "      <td>43.0</td>\n",
       "      <td>50.0</td>\n",
       "      <td>-19.0</td>\n",
       "      <td>0,673920852835811</td>\n",
       "    </tr>\n",
       "    <tr>\n",
       "      <th>Antigua and Barbuda</th>\n",
       "      <td>83.0</td>\n",
       "      <td>15.0</td>\n",
       "      <td>-10.0</td>\n",
       "      <td>NaN</td>\n",
       "      <td>13.0</td>\n",
       "      <td>15.0</td>\n",
       "      <td>NaN</td>\n",
       "      <td>12.0</td>\n",
       "      <td>NaN</td>\n",
       "      <td>15.0</td>\n",
       "      <td>...</td>\n",
       "      <td>34.0</td>\n",
       "      <td>NaN</td>\n",
       "      <td>15.0</td>\n",
       "      <td>2.0</td>\n",
       "      <td>12.0</td>\n",
       "      <td>-30.0</td>\n",
       "      <td>113.0</td>\n",
       "      <td>NaN</td>\n",
       "      <td>-42.0</td>\n",
       "      <td>30,6861421382104</td>\n",
       "    </tr>\n",
       "  </tbody>\n",
       "</table>\n",
       "<p>5 rows × 36 columns</p>\n",
       "</div>"
      ],
      "text/plain": [
       "                     Additional health/documents requirements upon arrival  \\\n",
       "COUNTRY                                                                      \n",
       "Afghanistan                                                        NaN       \n",
       "Albania                                                            NaN       \n",
       "Algeria                                                            NaN       \n",
       "Angola                                                            20.0       \n",
       "Antigua and Barbuda                                               83.0       \n",
       "\n",
       "                     Amendments to funeral and burial regulations  \\\n",
       "COUNTRY                                                             \n",
       "Afghanistan                                                   NaN   \n",
       "Albania                                                       NaN   \n",
       "Algeria                                                       NaN   \n",
       "Angola                                                        NaN   \n",
       "Antigua and Barbuda                                          15.0   \n",
       "\n",
       "                     Awareness campaigns  Border checks   Border closure   \\\n",
       "COUNTRY                                                                     \n",
       "Afghanistan                        -31.0           -23.0              0.0   \n",
       "Albania                              2.0             NaN              5.0   \n",
       "Algeria                              9.0            16.0             21.0   \n",
       "Angola                              -9.0             7.0              7.0   \n",
       "Antigua and Barbuda                -10.0             NaN             13.0   \n",
       "\n",
       "                     Changes in prison-related policies  \\\n",
       "COUNTRY                                                   \n",
       "Afghanistan                                        36.0   \n",
       "Albania                                            14.0   \n",
       "Algeria                                             NaN   \n",
       "Angola                                             13.0   \n",
       "Antigua and Barbuda                                15.0   \n",
       "\n",
       "                     Checkpoints within the country  \\\n",
       "COUNTRY                                               \n",
       "Afghanistan                                     NaN   \n",
       "Albania                                         1.0   \n",
       "Algeria                                        27.0   \n",
       "Angola                                          NaN   \n",
       "Antigua and Barbuda                             NaN   \n",
       "\n",
       "                     Closure of businesses and public services  \\\n",
       "COUNTRY                                                          \n",
       "Afghanistan                                                NaN   \n",
       "Albania                                                    1.0   \n",
       "Algeria                                                   20.0   \n",
       "Angola                                                     7.0   \n",
       "Antigua and Barbuda                                       12.0   \n",
       "\n",
       "                     Complete border closure  Curfews  ...  Partial lockdown  \\\n",
       "COUNTRY                                                ...                     \n",
       "Afghanistan                              NaN      NaN  ...              33.0   \n",
       "Albania                                  NaN     14.0  ...              24.0   \n",
       "Algeria                                  NaN     27.0  ...              27.0   \n",
       "Angola                                   NaN      NaN  ...              37.0   \n",
       "Antigua and Barbuda                      NaN     15.0  ...              34.0   \n",
       "\n",
       "                     Psychological assistance and medical social work  \\\n",
       "COUNTRY                                                                 \n",
       "Afghanistan                                                       NaN   \n",
       "Albania                                                           NaN   \n",
       "Algeria                                                           NaN   \n",
       "Angola                                                            NaN   \n",
       "Antigua and Barbuda                                               NaN   \n",
       "\n",
       "                     Requirement to wear protective gear in public  \\\n",
       "COUNTRY                                                              \n",
       "Afghanistan                                                    NaN   \n",
       "Albania                                                        NaN   \n",
       "Algeria                                                       72.0   \n",
       "Angola                                                        27.0   \n",
       "Antigua and Barbuda                                           15.0   \n",
       "\n",
       "                     Schools closure   State of emergency declared  \\\n",
       "COUNTRY                                                              \n",
       "Afghanistan                       6.0                          0.0   \n",
       "Albania                           1.0                         52.0   \n",
       "Algeria                          16.0                          NaN   \n",
       "Angola                            3.0                          7.0   \n",
       "Antigua and Barbuda               2.0                         12.0   \n",
       "\n",
       "                     Strengthening the public health system  \\\n",
       "COUNTRY                                                       \n",
       "Afghanistan                                           -22.0   \n",
       "Albania                                               -45.0   \n",
       "Algeria                                                 NaN   \n",
       "Angola                                                  6.0   \n",
       "Antigua and Barbuda                                   -30.0   \n",
       "\n",
       "                     Surveillance and monitoring  Testing policy  \\\n",
       "COUNTRY                                                            \n",
       "Afghanistan                                -11.0             NaN   \n",
       "Albania                                     35.0             NaN   \n",
       "Algeria                                      NaN             NaN   \n",
       "Angola                                      43.0            50.0   \n",
       "Antigua and Barbuda                        113.0             NaN   \n",
       "\n",
       "                     Visa restrictions  Deaths per Population*1000000  \n",
       "COUNTRY                                                                \n",
       "Afghanistan                        NaN               24,7012930959163  \n",
       "Albania                            NaN               28,8352637905518  \n",
       "Algeria                            NaN               22,6161387942366  \n",
       "Angola                           -19.0              0,673920852835811  \n",
       "Antigua and Barbuda              -42.0               30,6861421382104  \n",
       "\n",
       "[5 rows x 36 columns]"
      ]
     },
     "execution_count": 8,
     "metadata": {},
     "output_type": "execute_result"
    }
   ],
   "source": [
    "df.head()"
   ]
  },
  {
   "cell_type": "code",
   "execution_count": 25,
   "metadata": {},
   "outputs": [
    {
     "name": "stdout",
     "output_type": "stream",
     "text": [
      "<class 'pandas.core.frame.DataFrame'>\n",
      "Index: 182 entries, Afghanistan to Zimbabwe\n",
      "Data columns (total 36 columns):\n",
      " #   Column                                                        Non-Null Count  Dtype  \n",
      "---  ------                                                        --------------  -----  \n",
      " 0   Additional health/documents requirements upon arrival         182 non-null    float64\n",
      " 1   Amendments to funeral and burial regulations                  182 non-null    float64\n",
      " 2   Awareness campaigns                                           182 non-null    float64\n",
      " 3   Border checks                                                 182 non-null    float64\n",
      " 4   Border closure                                                182 non-null    float64\n",
      " 5   Changes in prison-related policies                            182 non-null    float64\n",
      " 6   Checkpoints within the country                                182 non-null    float64\n",
      " 7   Closure of businesses and public services                     182 non-null    float64\n",
      " 8   Complete border closure                                       182 non-null    float64\n",
      " 9   Curfews                                                       182 non-null    float64\n",
      " 10  Domestic travel restrictions                                  182 non-null    float64\n",
      " 11  Economic measures                                             182 non-null    float64\n",
      " 12  Emergency administrative structures activated or established  182 non-null    float64\n",
      " 13  Full lockdown                                                 182 non-null    float64\n",
      " 14  General recommendations                                       182 non-null    float64\n",
      " 15  Health screenings in airports and border crossings            182 non-null    float64\n",
      " 16  Humanitarian exemptions                                       182 non-null    float64\n",
      " 17  International flights suspension                              182 non-null    float64\n",
      " 18  Isolation and quarantine policies                             182 non-null    float64\n",
      " 19  Limit product imports/exports                                 182 non-null    float64\n",
      " 20  Limit public gatherings                                       182 non-null    float64\n",
      " 21  Lockdown of refugee/idp camps or other minorities             182 non-null    float64\n",
      " 22  Mass population testing                                       182 non-null    float64\n",
      " 23  Military deployment                                           182 non-null    float64\n",
      " 24  Obligatory medical tests not related to COVID-19              182 non-null    float64\n",
      " 25  Other public health measures enforced                         182 non-null    float64\n",
      " 26  Partial lockdown                                              182 non-null    float64\n",
      " 27  Psychological assistance and medical social work              182 non-null    float64\n",
      " 28  Requirement to wear protective gear in public                 182 non-null    float64\n",
      " 29  Schools closure                                               182 non-null    float64\n",
      " 30  State of emergency declared                                   182 non-null    float64\n",
      " 31  Strengthening the public health system                        182 non-null    float64\n",
      " 32  Surveillance and monitoring                                   182 non-null    float64\n",
      " 33  Testing policy                                                182 non-null    float64\n",
      " 34  Visa restrictions                                             182 non-null    float64\n",
      " 35  Deaths per Population*1000000                                 182 non-null    object \n",
      "dtypes: float64(35), object(1)\n",
      "memory usage: 57.6+ KB\n"
     ]
    }
   ],
   "source": [
    "df.info()"
   ]
  },
  {
   "cell_type": "code",
   "execution_count": 24,
   "metadata": {},
   "outputs": [],
   "source": [
    "df['Deaths per Population*1000000']=df['Deaths per Population*1000000'].apply(lambda x: x.replace(\",\",\".\"))"
   ]
  },
  {
   "cell_type": "code",
   "execution_count": 26,
   "metadata": {},
   "outputs": [],
   "source": [
    "df['Deaths per Population*1000000']=df['Deaths per Population*1000000'].astype(float)"
   ]
  },
  {
   "cell_type": "code",
   "execution_count": 10,
   "metadata": {},
   "outputs": [],
   "source": [
    "df.fillna(value=1000000, inplace=True)"
   ]
  },
  {
   "cell_type": "code",
   "execution_count": 11,
   "metadata": {},
   "outputs": [],
   "source": [
    "from sklearn.model_selection import train_test_split"
   ]
  },
  {
   "cell_type": "code",
   "execution_count": 29,
   "metadata": {},
   "outputs": [],
   "source": [
    "X=df.drop('Deaths per Population*1000000', axis=1)\n",
    "y=df['Deaths per Population*1000000']\n",
    "X_train, X_test, y_train, y_test=train_test_split(X,y,test_size=0.2)"
   ]
  },
  {
   "cell_type": "code",
   "execution_count": 30,
   "metadata": {},
   "outputs": [],
   "source": [
    "from sklearn.linear_model import LinearRegression"
   ]
  },
  {
   "cell_type": "code",
   "execution_count": 31,
   "metadata": {},
   "outputs": [
    {
     "data": {
      "text/plain": [
       "LinearRegression(copy_X=True, fit_intercept=True, n_jobs=None, normalize=False)"
      ]
     },
     "execution_count": 31,
     "metadata": {},
     "output_type": "execute_result"
    }
   ],
   "source": [
    "lm=LinearRegression()\n",
    "lm.fit(X_train, y_train)"
   ]
  },
  {
   "cell_type": "code",
   "execution_count": 35,
   "metadata": {},
   "outputs": [
    {
     "data": {
      "text/html": [
       "<div>\n",
       "<style scoped>\n",
       "    .dataframe tbody tr th:only-of-type {\n",
       "        vertical-align: middle;\n",
       "    }\n",
       "\n",
       "    .dataframe tbody tr th {\n",
       "        vertical-align: top;\n",
       "    }\n",
       "\n",
       "    .dataframe thead th {\n",
       "        text-align: right;\n",
       "    }\n",
       "</style>\n",
       "<table border=\"1\" class=\"dataframe\">\n",
       "  <thead>\n",
       "    <tr style=\"text-align: right;\">\n",
       "      <th></th>\n",
       "      <th>Coeff</th>\n",
       "    </tr>\n",
       "  </thead>\n",
       "  <tbody>\n",
       "    <tr>\n",
       "      <th>State of emergency declared</th>\n",
       "      <td>-0.008124</td>\n",
       "    </tr>\n",
       "    <tr>\n",
       "      <th>Schools closure</th>\n",
       "      <td>-0.006986</td>\n",
       "    </tr>\n",
       "    <tr>\n",
       "      <th>Obligatory medical tests not related to COVID-19</th>\n",
       "      <td>-0.006632</td>\n",
       "    </tr>\n",
       "    <tr>\n",
       "      <th>Strengthening the public health system</th>\n",
       "      <td>-0.006307</td>\n",
       "    </tr>\n",
       "    <tr>\n",
       "      <th>Visa restrictions</th>\n",
       "      <td>-0.005243</td>\n",
       "    </tr>\n",
       "    <tr>\n",
       "      <th>Curfews</th>\n",
       "      <td>-0.005024</td>\n",
       "    </tr>\n",
       "    <tr>\n",
       "      <th>Economic measures</th>\n",
       "      <td>-0.005010</td>\n",
       "    </tr>\n",
       "    <tr>\n",
       "      <th>Border closure</th>\n",
       "      <td>-0.003615</td>\n",
       "    </tr>\n",
       "    <tr>\n",
       "      <th>Psychological assistance and medical social work</th>\n",
       "      <td>-0.002266</td>\n",
       "    </tr>\n",
       "    <tr>\n",
       "      <th>Full lockdown</th>\n",
       "      <td>-0.002179</td>\n",
       "    </tr>\n",
       "    <tr>\n",
       "      <th>Border checks</th>\n",
       "      <td>-0.001435</td>\n",
       "    </tr>\n",
       "    <tr>\n",
       "      <th>Checkpoints within the country</th>\n",
       "      <td>-0.001078</td>\n",
       "    </tr>\n",
       "    <tr>\n",
       "      <th>Isolation and quarantine policies</th>\n",
       "      <td>-0.000903</td>\n",
       "    </tr>\n",
       "    <tr>\n",
       "      <th>Testing policy</th>\n",
       "      <td>-0.000473</td>\n",
       "    </tr>\n",
       "    <tr>\n",
       "      <th>International flights suspension</th>\n",
       "      <td>-0.000472</td>\n",
       "    </tr>\n",
       "    <tr>\n",
       "      <th>Lockdown of refugee/idp camps or other minorities</th>\n",
       "      <td>-0.000243</td>\n",
       "    </tr>\n",
       "    <tr>\n",
       "      <th>Surveillance and monitoring</th>\n",
       "      <td>-0.000022</td>\n",
       "    </tr>\n",
       "    <tr>\n",
       "      <th>Mass population testing</th>\n",
       "      <td>0.000136</td>\n",
       "    </tr>\n",
       "    <tr>\n",
       "      <th>Amendments to funeral and burial regulations</th>\n",
       "      <td>0.000226</td>\n",
       "    </tr>\n",
       "    <tr>\n",
       "      <th>Limit product imports/exports</th>\n",
       "      <td>0.000801</td>\n",
       "    </tr>\n",
       "    <tr>\n",
       "      <th>Health screenings in airports and border crossings</th>\n",
       "      <td>0.001450</td>\n",
       "    </tr>\n",
       "    <tr>\n",
       "      <th>Complete border closure</th>\n",
       "      <td>0.001772</td>\n",
       "    </tr>\n",
       "    <tr>\n",
       "      <th>General recommendations</th>\n",
       "      <td>0.002569</td>\n",
       "    </tr>\n",
       "    <tr>\n",
       "      <th>Requirement to wear protective gear in public</th>\n",
       "      <td>0.003001</td>\n",
       "    </tr>\n",
       "    <tr>\n",
       "      <th>Additional health/documents requirements upon arrival</th>\n",
       "      <td>0.004432</td>\n",
       "    </tr>\n",
       "    <tr>\n",
       "      <th>Changes in prison-related policies</th>\n",
       "      <td>0.004464</td>\n",
       "    </tr>\n",
       "    <tr>\n",
       "      <th>Other public health measures enforced</th>\n",
       "      <td>0.004810</td>\n",
       "    </tr>\n",
       "    <tr>\n",
       "      <th>Emergency administrative structures activated or established</th>\n",
       "      <td>0.005175</td>\n",
       "    </tr>\n",
       "    <tr>\n",
       "      <th>Domestic travel restrictions</th>\n",
       "      <td>0.005228</td>\n",
       "    </tr>\n",
       "    <tr>\n",
       "      <th>Closure of businesses and public services</th>\n",
       "      <td>0.005875</td>\n",
       "    </tr>\n",
       "    <tr>\n",
       "      <th>Military deployment</th>\n",
       "      <td>0.005927</td>\n",
       "    </tr>\n",
       "    <tr>\n",
       "      <th>Humanitarian exemptions</th>\n",
       "      <td>0.006044</td>\n",
       "    </tr>\n",
       "    <tr>\n",
       "      <th>Awareness campaigns</th>\n",
       "      <td>0.006092</td>\n",
       "    </tr>\n",
       "    <tr>\n",
       "      <th>Partial lockdown</th>\n",
       "      <td>0.007301</td>\n",
       "    </tr>\n",
       "    <tr>\n",
       "      <th>Limit public gatherings</th>\n",
       "      <td>0.025460</td>\n",
       "    </tr>\n",
       "  </tbody>\n",
       "</table>\n",
       "</div>"
      ],
      "text/plain": [
       "                                                       Coeff\n",
       "State of emergency declared                        -0.008124\n",
       "Schools closure                                    -0.006986\n",
       "Obligatory medical tests not related to COVID-19   -0.006632\n",
       "Strengthening the public health system             -0.006307\n",
       "Visa restrictions                                  -0.005243\n",
       "Curfews                                            -0.005024\n",
       "Economic measures                                  -0.005010\n",
       "Border closure                                     -0.003615\n",
       "Psychological assistance and medical social work   -0.002266\n",
       "Full lockdown                                      -0.002179\n",
       "Border checks                                      -0.001435\n",
       "Checkpoints within the country                     -0.001078\n",
       "Isolation and quarantine policies                  -0.000903\n",
       "Testing policy                                     -0.000473\n",
       "International flights suspension                   -0.000472\n",
       "Lockdown of refugee/idp camps or other minorities  -0.000243\n",
       "Surveillance and monitoring                        -0.000022\n",
       "Mass population testing                             0.000136\n",
       "Amendments to funeral and burial regulations        0.000226\n",
       "Limit product imports/exports                       0.000801\n",
       "Health screenings in airports and border crossings  0.001450\n",
       "Complete border closure                             0.001772\n",
       "General recommendations                             0.002569\n",
       "Requirement to wear protective gear in public       0.003001\n",
       "Additional health/documents requirements upon a...  0.004432\n",
       "Changes in prison-related policies                  0.004464\n",
       "Other public health measures enforced               0.004810\n",
       "Emergency administrative structures activated o...  0.005175\n",
       "Domestic travel restrictions                        0.005228\n",
       "Closure of businesses and public services           0.005875\n",
       "Military deployment                                 0.005927\n",
       "Humanitarian exemptions                             0.006044\n",
       "Awareness campaigns                                 0.006092\n",
       "Partial lockdown                                    0.007301\n",
       "Limit public gatherings                             0.025460"
      ]
     },
     "execution_count": 35,
     "metadata": {},
     "output_type": "execute_result"
    }
   ],
   "source": [
    "pd.DataFrame(lm.coef_, X.columns, columns=['Coeff']).sort_values('Coeff')"
   ]
  },
  {
   "cell_type": "code",
   "execution_count": 36,
   "metadata": {},
   "outputs": [],
   "source": [
    "predictions=lm.predict(X_test)"
   ]
  },
  {
   "cell_type": "code",
   "execution_count": 37,
   "metadata": {},
   "outputs": [
    {
     "data": {
      "text/plain": [
       "<matplotlib.collections.PathCollection at 0x7fc826db94d0>"
      ]
     },
     "execution_count": 37,
     "metadata": {},
     "output_type": "execute_result"
    },
    {
     "data": {
      "image/png": "[encoded data removed]",
      "text/plain": [
       "<Figure size 432x288 with 1 Axes>"
      ]
     },
     "metadata": {
      "needs_background": "light"
     },
     "output_type": "display_data"
    }
   ],
   "source": [
    "plt.scatter(y_test, predictions)"
   ]
  },
  {
   "cell_type": "code",
   "execution_count": 38,
   "metadata": {},
   "outputs": [
    {
     "data": {
      "text/plain": [
       "array([  9607.36923568,  -1417.43731081,   3874.54818273,  23626.44151781,\n",
       "        10084.35220651,  23490.02190112,   5152.25941256,  -1014.63724431,\n",
       "        -3804.20429941,   1975.11740619,  10727.28095809,  -8833.93875437,\n",
       "       -12451.58634965,  -3159.92459035,  -1366.03676076, -13146.5600127 ,\n",
       "        42392.53990335,  15951.89002061,  21098.93854164, -12604.7722837 ,\n",
       "        -1266.77148388,  29373.85585981, -11883.3777321 ,  -5545.89224135,\n",
       "        12832.58149671,   4591.16645312, -14941.67048585,    318.72352152,\n",
       "        14347.05594336,  -2428.38209812,   4032.21490179,  40233.04149215,\n",
       "        15661.3140399 ,   9482.08916065,  -8322.13196484,   3078.19355794,\n",
       "         4381.96930341])"
      ]
     },
     "execution_count": 38,
     "metadata": {},
     "output_type": "execute_result"
    }
   ],
   "source": [
    "predictions"
   ]
  },
  {
   "cell_type": "code",
   "execution_count": 52,
   "metadata": {},
   "outputs": [],
   "source": [
    "from sklearn.metrics import mean_absolute_error"
   ]
  },
  {
   "cell_type": "code",
   "execution_count": 41,
   "metadata": {},
   "outputs": [
    {
     "data": {
      "text/plain": [
       "11018.142968744858"
      ]
     },
     "execution_count": 41,
     "metadata": {},
     "output_type": "execute_result"
    }
   ],
   "source": [
    "metrics.mean_absolute_error(y_test, predictions)"
   ]
  },
  {
   "cell_type": "code",
   "execution_count": 45,
   "metadata": {},
   "outputs": [],
   "source": [
    "from sklearn.ensemble import RandomForestRegressor"
   ]
  },
  {
   "cell_type": "code",
   "execution_count": 46,
   "metadata": {},
   "outputs": [],
   "source": [
    "rf_1=RandomForestRegressor(n_estimators=10)\n",
    "rf_2=RandomForestRegressor(n_estimators=30)\n",
    "rf_3=RandomForestRegressor(n_estimators=50)\n",
    "rf_4=RandomForestRegressor(n_estimators=100)\n",
    "rf_5=RandomForestRegressor(n_estimators=200)"
   ]
  },
  {
   "cell_type": "code",
   "execution_count": 47,
   "metadata": {},
   "outputs": [],
   "source": [
    "def score_model(model):\n",
    "    model.fit(X_train, y_train)\n",
    "    preds=model.predict(X_test)\n",
    "    return mean_absolute_error(y_test, preds)"
   ]
  },
  {
   "cell_type": "code",
   "execution_count": 48,
   "metadata": {},
   "outputs": [],
   "source": [
    "models=[rf_1, rf_2, rf_3, rf_4, rf_5]"
   ]
  },
  {
   "cell_type": "code",
   "execution_count": 55,
   "metadata": {},
   "outputs": [
    {
     "name": "stdout",
     "output_type": "stream",
     "text": [
      "Random Forest Model 1 MAE: 1040\n",
      "Random Forest Model 2 MAE: 418\n",
      "Random Forest Model 3 MAE: 620\n",
      "Random Forest Model 4 MAE: 503\n",
      "Random Forest Model 5 MAE: 649\n"
     ]
    }
   ],
   "source": [
    "for i in range(0, len(models)):\n",
    "    mae=score_model(models[i])\n",
    "    print(\"Random Forest Model %d MAE: %d\"%(i+1, mae))"
   ]
  },
  {
   "cell_type": "code",
   "execution_count": 56,
   "metadata": {},
   "outputs": [],
   "source": [
    "from sklearn.inspection import permutation_importance"
   ]
  },
  {
   "cell_type": "code",
   "execution_count": 57,
   "metadata": {},
   "outputs": [],
   "source": [
    "model=RandomForestRegressor(n_estimators=100).fit(X,y)\n",
    "result=permutation_importance(model, X, y, n_repeats=10,random_state=0)"
   ]
  },
  {
   "cell_type": "code",
   "execution_count": 66,
   "metadata": {},
   "outputs": [],
   "source": [
    "importances = model.feature_importances_"
   ]
  },
  {
   "cell_type": "code",
   "execution_count": 79,
   "metadata": {},
   "outputs": [
    {
     "data": {
      "image/png": "[encoded data removed]",
      "text/plain": [
       "<Figure size 1008x1008 with 1 Axes>"
      ]
     },
     "metadata": {
      "needs_background": "light"
     },
     "output_type": "display_data"
    }
   ],
   "source": [
    "features=X.columns\n",
    "indices = np.argsort(importances)\n",
    "plt.figure(figsize=(14,14))\n",
    "plt.title('Feature Importances')\n",
    "plt.barh(range(len(indices)), importances[indices], color='b', align='center')\n",
    "plt.yticks(range(len(indices)), [features[i] for i in indices])\n",
    "plt.xlabel('Relative Importance')\n",
    "plt.show()"
   ]
  },
  {
   "cell_type": "code",
   "execution_count": 81,
   "metadata": {},
   "outputs": [
    {
     "name": "stderr",
     "output_type": "stream",
     "text": [
      "/home/pitzm/anaconda3/lib/python3.7/site-packages/sklearn/utils/deprecation.py:144: FutureWarning: The sklearn.ensemble.forest module is  deprecated in version 0.22 and will be removed in version 0.24. The corresponding classes / functions should instead be imported from sklearn.ensemble. Anything that cannot be imported from sklearn.ensemble is now part of the private API.\n",
      "  warnings.warn(message, FutureWarning)\n"
     ]
    }
   ],
   "source": [
    "from treeinterpreter import treeinterpreter as ti"
   ]
  },
  {
   "cell_type": "code",
   "execution_count": 84,
   "metadata": {},
   "outputs": [],
   "source": [
    "hun=df.loc['Hungary'][:-1]"
   ]
  },
  {
   "cell_type": "code",
   "execution_count": 87,
   "metadata": {},
   "outputs": [
    {
     "data": {
      "text/plain": [
       "Deaths per Population*1000000    61.147259\n",
       "Name: Hungary, dtype: float64"
      ]
     },
     "execution_count": 87,
     "metadata": {},
     "output_type": "execute_result"
    }
   ],
   "source": [
    "df.loc['Hungary'][-1:]"
   ]
  },
  {
   "cell_type": "code",
   "execution_count": 101,
   "metadata": {},
   "outputs": [],
   "source": [
    "hun=pd.DataFrame(hun.transpose())"
   ]
  },
  {
   "cell_type": "code",
   "execution_count": 102,
   "metadata": {},
   "outputs": [
    {
     "data": {
      "text/html": [
       "<div>\n",
       "<style scoped>\n",
       "    .dataframe tbody tr th:only-of-type {\n",
       "        vertical-align: middle;\n",
       "    }\n",
       "\n",
       "    .dataframe tbody tr th {\n",
       "        vertical-align: top;\n",
       "    }\n",
       "\n",
       "    .dataframe thead th {\n",
       "        text-align: right;\n",
       "    }\n",
       "</style>\n",
       "<table border=\"1\" class=\"dataframe\">\n",
       "  <thead>\n",
       "    <tr style=\"text-align: right;\">\n",
       "      <th></th>\n",
       "      <th>Additional health/documents requirements upon arrival</th>\n",
       "      <th>Amendments to funeral and burial regulations</th>\n",
       "      <th>Awareness campaigns</th>\n",
       "      <th>Border checks</th>\n",
       "      <th>Border closure</th>\n",
       "      <th>Changes in prison-related policies</th>\n",
       "      <th>Checkpoints within the country</th>\n",
       "      <th>Closure of businesses and public services</th>\n",
       "      <th>Complete border closure</th>\n",
       "      <th>Curfews</th>\n",
       "      <th>...</th>\n",
       "      <th>Other public health measures enforced</th>\n",
       "      <th>Partial lockdown</th>\n",
       "      <th>Psychological assistance and medical social work</th>\n",
       "      <th>Requirement to wear protective gear in public</th>\n",
       "      <th>Schools closure</th>\n",
       "      <th>State of emergency declared</th>\n",
       "      <th>Strengthening the public health system</th>\n",
       "      <th>Surveillance and monitoring</th>\n",
       "      <th>Testing policy</th>\n",
       "      <th>Visa restrictions</th>\n",
       "    </tr>\n",
       "  </thead>\n",
       "  <tbody>\n",
       "    <tr>\n",
       "      <th>Hungary</th>\n",
       "      <td>1000000.0</td>\n",
       "      <td>1000000.0</td>\n",
       "      <td>-30.0</td>\n",
       "      <td>9.0</td>\n",
       "      <td>-2.0</td>\n",
       "      <td>1000000.0</td>\n",
       "      <td>1000000.0</td>\n",
       "      <td>5.0</td>\n",
       "      <td>1000000.0</td>\n",
       "      <td>1000000.0</td>\n",
       "      <td>...</td>\n",
       "      <td>24.0</td>\n",
       "      <td>13.0</td>\n",
       "      <td>29.0</td>\n",
       "      <td>49.0</td>\n",
       "      <td>7.0</td>\n",
       "      <td>7.0</td>\n",
       "      <td>1.0</td>\n",
       "      <td>13.0</td>\n",
       "      <td>54.0</td>\n",
       "      <td>-30.0</td>\n",
       "    </tr>\n",
       "  </tbody>\n",
       "</table>\n",
       "<p>1 rows × 35 columns</p>\n",
       "</div>"
      ],
      "text/plain": [
       "         Additional health/documents requirements upon arrival  \\\n",
       "Hungary                                          1000000.0       \n",
       "\n",
       "         Amendments to funeral and burial regulations  Awareness campaigns  \\\n",
       "Hungary                                     1000000.0                -30.0   \n",
       "\n",
       "         Border checks   Border closure   Changes in prison-related policies  \\\n",
       "Hungary             9.0             -2.0                           1000000.0   \n",
       "\n",
       "         Checkpoints within the country  \\\n",
       "Hungary                       1000000.0   \n",
       "\n",
       "         Closure of businesses and public services  Complete border closure  \\\n",
       "Hungary                                        5.0                1000000.0   \n",
       "\n",
       "           Curfews  ...  Other public health measures enforced  \\\n",
       "Hungary  1000000.0  ...                                   24.0   \n",
       "\n",
       "         Partial lockdown  Psychological assistance and medical social work  \\\n",
       "Hungary              13.0                                              29.0   \n",
       "\n",
       "         Requirement to wear protective gear in public  Schools closure   \\\n",
       "Hungary                                           49.0               7.0   \n",
       "\n",
       "         State of emergency declared  Strengthening the public health system  \\\n",
       "Hungary                          7.0                                     1.0   \n",
       "\n",
       "         Surveillance and monitoring  Testing policy  Visa restrictions  \n",
       "Hungary                         13.0            54.0              -30.0  \n",
       "\n",
       "[1 rows x 35 columns]"
      ]
     },
     "execution_count": 102,
     "metadata": {},
     "output_type": "execute_result"
    }
   ],
   "source": [
    "hun"
   ]
  },
  {
   "cell_type": "code",
   "execution_count": 91,
   "metadata": {},
   "outputs": [],
   "source": [
    "X_hun=X.drop('Hungary')\n",
    "y_hun=y.drop('Hungary')"
   ]
  },
  {
   "cell_type": "code",
   "execution_count": 93,
   "metadata": {},
   "outputs": [],
   "source": [
    "model_hun=RandomForestRegressor(n_estimators=100).fit(X_hun,y_hun)"
   ]
  },
  {
   "cell_type": "code",
   "execution_count": 103,
   "metadata": {},
   "outputs": [
    {
     "data": {
      "text/plain": [
       "array([78.71335242])"
      ]
     },
     "execution_count": 103,
     "metadata": {},
     "output_type": "execute_result"
    }
   ],
   "source": [
    "model_hun.predict(hun)"
   ]
  },
  {
   "cell_type": "code",
   "execution_count": 104,
   "metadata": {},
   "outputs": [],
   "source": [
    "prediction, bias, contributions = ti.predict(model_hun, hun)"
   ]
  },
  {
   "cell_type": "code",
   "execution_count": 137,
   "metadata": {},
   "outputs": [],
   "source": [
    "result=pd.DataFrame(data=contributions.transpose(), index=X.columns, columns=['Contributions'])"
   ]
  },
  {
   "cell_type": "code",
   "execution_count": 141,
   "metadata": {},
   "outputs": [
    {
     "data": {
      "text/html": [
       "<div>\n",
       "<style scoped>\n",
       "    .dataframe tbody tr th:only-of-type {\n",
       "        vertical-align: middle;\n",
       "    }\n",
       "\n",
       "    .dataframe tbody tr th {\n",
       "        vertical-align: top;\n",
       "    }\n",
       "\n",
       "    .dataframe thead th {\n",
       "        text-align: right;\n",
       "    }\n",
       "</style>\n",
       "<table border=\"1\" class=\"dataframe\">\n",
       "  <thead>\n",
       "    <tr style=\"text-align: right;\">\n",
       "      <th></th>\n",
       "      <th>Contributions</th>\n",
       "    </tr>\n",
       "  </thead>\n",
       "  <tbody>\n",
       "    <tr>\n",
       "      <th>State of emergency declared</th>\n",
       "      <td>-1721.639864</td>\n",
       "    </tr>\n",
       "    <tr>\n",
       "      <th>Economic measures</th>\n",
       "      <td>-506.961691</td>\n",
       "    </tr>\n",
       "    <tr>\n",
       "      <th>International flights suspension</th>\n",
       "      <td>-49.569132</td>\n",
       "    </tr>\n",
       "    <tr>\n",
       "      <th>Health screenings in airports and border crossings</th>\n",
       "      <td>-12.891331</td>\n",
       "    </tr>\n",
       "    <tr>\n",
       "      <th>Limit public gatherings</th>\n",
       "      <td>-9.477808</td>\n",
       "    </tr>\n",
       "    <tr>\n",
       "      <th>Isolation and quarantine policies</th>\n",
       "      <td>-8.225513</td>\n",
       "    </tr>\n",
       "    <tr>\n",
       "      <th>Full lockdown</th>\n",
       "      <td>-5.173058</td>\n",
       "    </tr>\n",
       "    <tr>\n",
       "      <th>Changes in prison-related policies</th>\n",
       "      <td>-2.717270</td>\n",
       "    </tr>\n",
       "    <tr>\n",
       "      <th>General recommendations</th>\n",
       "      <td>-2.327265</td>\n",
       "    </tr>\n",
       "    <tr>\n",
       "      <th>Testing policy</th>\n",
       "      <td>-2.281603</td>\n",
       "    </tr>\n",
       "  </tbody>\n",
       "</table>\n",
       "</div>"
      ],
      "text/plain": [
       "                                                    Contributions\n",
       "State of emergency declared                          -1721.639864\n",
       "Economic measures                                     -506.961691\n",
       "International flights suspension                       -49.569132\n",
       "Health screenings in airports and border crossings     -12.891331\n",
       "Limit public gatherings                                 -9.477808\n",
       "Isolation and quarantine policies                       -8.225513\n",
       "Full lockdown                                           -5.173058\n",
       "Changes in prison-related policies                      -2.717270\n",
       "General recommendations                                 -2.327265\n",
       "Testing policy                                          -2.281603"
      ]
     },
     "execution_count": 141,
     "metadata": {},
     "output_type": "execute_result"
    }
   ],
   "source": [
    "result.sort_values('Contributions').head(10)"
   ]
  },
  {
   "cell_type": "code",
   "execution_count": null,
   "metadata": {},
   "outputs": [],
   "source": []
  }
 ],
 "metadata": {
  "kernelspec": {
   "display_name": "Python 3",
   "language": "python",
   "name": "python3"
  },
  "language_info": {
   "codemirror_mode": {
    "name": "ipython",
    "version": 3
   },
   "file_extension": ".py",
   "mimetype": "text/x-python",
   "name": "python",
   "nbconvert_exporter": "python",
   "pygments_lexer": "ipython3",
   "version": "3.7.7"
  }
 },
 "nbformat": 4,
 "nbformat_minor": 4
}
